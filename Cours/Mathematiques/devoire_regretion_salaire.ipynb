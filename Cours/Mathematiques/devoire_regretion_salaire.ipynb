{
 "cells": [
  {
   "cell_type": "markdown",
   "metadata": {},
   "source": [
    "# Déterminer le salaire annuel d’un ingénieur cogniticien\n",
    "Projet personnel de statistiques M1 IA School 2024 de Victorien Marchand fait par Wilfried RICHARD  \n",
    "Le rapport est à envoyer en format PDF et est attendu pour le 8 avril 2024 au plus tard.\n",
    "\n",
    "## Introduction\n",
    "\n",
    "Un groupe d’étudiants de l’école d’ingénieurs ENISC (École Nationale d’Ingénieurs en Cognitique, à Bordeaux) a mené une enquête par questionnaire à destination d’ancien étudiants pour connaitre ***quels facteurs peuvent influencer le salaire qu’ils gagnent***.\n",
    "La spécialité d’ingénieur cogniticien est très particulière, seule l’ENISC y forme ***depuis seulement 2003*** et les anciens ingénieurs sont ***peu nombreux*** : il n’existe pas d’autres informations sur cette population. L’échantillon des répondants est considéré comme représentatif de la population des ingénieurs cogniticiens.\n",
    "\n",
    "### Somaire\n",
    "\n",
    "<!-- @import \"[TOC]\" {cmd=\"toc\" depthFrom=1 depthTo=6 orderedList=false} -->\n",
    "- [Déterminer le salaire annuel d’un ingénieur cogniticien](#d%C3%A9terminer-le-salaire-annuel-dun-ing%C3%A9nieur-cogniticien)\n",
    "  - [Introduction](#introduction)\n",
    "    - [Somaire](#somaire)\n",
    "    - [Objectif](#objectif)\n",
    "  - [Données](#données)\n",
    "    - [Import](#import)\n",
    "    - [Disperssion](#Disperssion)\n",
    "    - [Dépendence](#dépendence)\n",
    "  - [Régression](#régression)\n",
    "    - [Représentation](#représentation)\n",
    "    - [Distribution](#distribution)\n",
    "    - [Comparaison](#comparaison)\n",
    "  - [Conclusion](#conclusion)\n",
    "\n",
    "### Objectif\n",
    "\n",
    "Ce rapport ne se résumera pas à une suite de copier-coller de sorties R et devra comprendre une réflexion personnelle sur le problème posé et une conclusion rédigée.\n",
    "Un rapport expliquant clairement les étapes de votre ***raisonnement***, les ***initiatives*** prises, Les ***statistiques*** descriptives et inférentielles employées pour répondre à la question posée.\n",
    "***Le but est de savoir si la réussite académique, des facteurs liés à l’entreprise ou personnels jouent sur le salaire***.\n",
    "\n",
    "## Données\n",
    "\n",
    "Les variables de la base de données et leur codage sont les suivantes :\n",
    "\n",
    "1. **promo** : année d’obtention du diplôme d’ingénieur\n",
    "2. **mention_ecole** : mention obtenue au diplôme d’ingénieur\n",
    "3. **mention_bac** : mention obtenue au baccalauréat\n",
    "4. **etudes** : études suivies avant l’entrée dans l’école d’ingénieurs\n",
    "5. **annees_experience** : nombre d’années d’expérience dans le métier\n",
    "6. **changements_employeur** : nombre de changements d’employeur au cours de la - carrière\n",
    "7. **contrat** : type de contrat (CDD ou CDI)\n",
    "8. **taille_entreprise** : nombre de salariés dans l’entreprise\n",
    "9. **salaire** : salaire brut annuel (en €)\n",
    "10. **lieu_travail** : lieu de travail\n",
    "11. **epanouissement** : à quel point l’ingénieur se sent épanoui dans son travail (Pas du tout / Peu / Oui / Totalement)\n",
    "12. **sexe** : Homme / Femme\n",
    "13. **enfants** : avez-vous des enfants\n",
    "14. **age** : en années\n",
    "15. **taille** : en cm\n",
    "16. **poids** : en kg\n",
    "\n",
    "### Import"
   ]
  },
  {
   "cell_type": "code",
   "execution_count": 159,
   "metadata": {
    "tags": [],
    "vscode": {
     "languageId": "r"
    }
   },
   "outputs": [],
   "source": [
    "path <- \"https://github.com/WyloW2RicardO/Travaux/blob/main/Cours/Mathematiques/bdd_regretion_salaire.csv\"\n",
    "path <- \"./bdd_regretion_salaire.csv\""
   ]
  },
  {
   "cell_type": "code",
   "execution_count": 160,
   "metadata": {
    "tags": [],
    "vscode": {
     "languageId": "r"
    }
   },
   "outputs": [
    {
     "data": {
      "text/html": [
       "<table>\n",
       "<thead><tr><th scope=col>promo</th><th scope=col>mention_ecole</th><th scope=col>mention_bac</th><th scope=col>etudes</th><th scope=col>annees_experience</th><th scope=col>changements_employeur</th><th scope=col>contrat</th><th scope=col>taille_entreprise</th><th scope=col>salaire</th><th scope=col>lieu_travail</th><th scope=col>epanouissement</th><th scope=col>sexe</th><th scope=col>enfants</th><th scope=col>age</th><th scope=col>taille</th><th scope=col>poids</th></tr></thead>\n",
       "<tbody>\n",
       "\t<tr><td>2020                                                  </td><td>Bien                                                  </td><td>Sans mention                                          </td><td>DUT                                                   </td><td>1.0                                                   </td><td>0                                                     </td><td>CDI                                                   </td><td>Entre 10 et 249 employés                              </td><td>36000                                                 </td><td>Marseille-Aix, Lyon, Lille, Toulouse, Nice ou Bordeaux</td><td>Oui                                                   </td><td>Homme                                                 </td><td>Non                                                   </td><td>26                                                    </td><td>1.70e+02                                              </td><td>      57                                              </td></tr>\n",
       "\t<tr><td>2020                                                  </td><td>Bien                                                  </td><td>Bien                                                  </td><td>Licence                                               </td><td>1.0                                                   </td><td>0                                                     </td><td>CDI                                                   </td><td>Entre 10 et 249 employés                              </td><td>40000                                                 </td><td>Paris ou son agglomération                            </td><td>Oui                                                   </td><td>Homme                                                 </td><td>Non                                                   </td><td>25                                                    </td><td>1.66e+02                                              </td><td>      69                                              </td></tr>\n",
       "\t<tr><td>2017                                                  </td><td>Bien                                                  </td><td>Bien                                                  </td><td>Classe préparatoire scientifique                      </td><td>3.0                                                   </td><td>1                                                     </td><td>CDI                                                   </td><td>Entre 10 et 249 employés                              </td><td>36000                                                 </td><td>Marseille-Aix, Lyon, Lille, Toulouse, Nice ou Bordeaux</td><td>Totalement                                            </td><td>Homme                                                 </td><td>Non                                                   </td><td>25                                                    </td><td>1.00e+19                                              </td><td>10000000                                              </td></tr>\n",
       "\t<tr><td>2018                                                  </td><td>Je ne m'en souviens pas                               </td><td>Bien                                                  </td><td>Classe préparatoire scientifique                      </td><td>2.5                                                   </td><td>0                                                     </td><td>CDI                                                   </td><td>Entre 10 et 249 employés                              </td><td>42000                                                 </td><td>Autre ville française                                 </td><td>Oui                                                   </td><td>Homme                                                 </td><td>Non                                                   </td><td>25                                                    </td><td>1.68e+02                                              </td><td>      68                                              </td></tr>\n",
       "\t<tr><td>2018                                                  </td><td>Bien                                                  </td><td>Très bien                                             </td><td>Classe préparatoire littéraire                        </td><td>3.0                                                   </td><td>1                                                     </td><td>CDI                                                   </td><td>Entre 250 et 4999 employés                            </td><td>84000                                                 </td><td>Hors UE                                               </td><td>Oui                                                   </td><td>Femme                                                 </td><td>Non                                                   </td><td>24                                                    </td><td>1.69e+02                                              </td><td>      57                                              </td></tr>\n",
       "\t<tr><td>2014                                                  </td><td>Sans mention                                          </td><td>Sans mention                                          </td><td>Classe préparatoire scientifique                      </td><td>5.0                                                   </td><td>1 fois                                                </td><td>CDI                                                   </td><td>Plus de 5000 salariés                                 </td><td>35000                                                 </td><td>Marseille-Aix, Lyon, Lille, Toulouse, Nice ou Bordeaux</td><td>Oui                                                   </td><td>Homme                                                 </td><td>Non                                                   </td><td>32                                                    </td><td>1.63e+02                                              </td><td>      67                                              </td></tr>\n",
       "</tbody>\n",
       "</table>\n"
      ],
      "text/latex": [
       "\\begin{tabular}{r|llllllllllllllll}\n",
       " promo & mention\\_ecole & mention\\_bac & etudes & annees\\_experience & changements\\_employeur & contrat & taille\\_entreprise & salaire & lieu\\_travail & epanouissement & sexe & enfants & age & taille & poids\\\\\n",
       "\\hline\n",
       "\t 2020                                                   & Bien                                                   & Sans mention                                           & DUT                                                    & 1.0                                                    & 0                                                      & CDI                                                    & Entre 10 et 249 employés                               & 36000                                                  & Marseille-Aix, Lyon, Lille, Toulouse, Nice ou Bordeaux & Oui                                                    & Homme                                                  & Non                                                    & 26                                                     & 1.70e+02                                               &       57                                              \\\\\n",
       "\t 2020                                                   & Bien                                                   & Bien                                                   & Licence                                                & 1.0                                                    & 0                                                      & CDI                                                    & Entre 10 et 249 employés                               & 40000                                                  & Paris ou son agglomération                             & Oui                                                    & Homme                                                  & Non                                                    & 25                                                     & 1.66e+02                                               &       69                                              \\\\\n",
       "\t 2017                                                   & Bien                                                   & Bien                                                   & Classe préparatoire scientifique                       & 3.0                                                    & 1                                                      & CDI                                                    & Entre 10 et 249 employés                               & 36000                                                  & Marseille-Aix, Lyon, Lille, Toulouse, Nice ou Bordeaux & Totalement                                             & Homme                                                  & Non                                                    & 25                                                     & 1.00e+19                                               & 10000000                                              \\\\\n",
       "\t 2018                                                   & Je ne m'en souviens pas                                & Bien                                                   & Classe préparatoire scientifique                       & 2.5                                                    & 0                                                      & CDI                                                    & Entre 10 et 249 employés                               & 42000                                                  & Autre ville française                                  & Oui                                                    & Homme                                                  & Non                                                    & 25                                                     & 1.68e+02                                               &       68                                              \\\\\n",
       "\t 2018                                                   & Bien                                                   & Très bien                                              & Classe préparatoire littéraire                         & 3.0                                                    & 1                                                      & CDI                                                    & Entre 250 et 4999 employés                             & 84000                                                  & Hors UE                                                & Oui                                                    & Femme                                                  & Non                                                    & 24                                                     & 1.69e+02                                               &       57                                              \\\\\n",
       "\t 2014                                                   & Sans mention                                           & Sans mention                                           & Classe préparatoire scientifique                       & 5.0                                                    & 1 fois                                                 & CDI                                                    & Plus de 5000 salariés                                  & 35000                                                  & Marseille-Aix, Lyon, Lille, Toulouse, Nice ou Bordeaux & Oui                                                    & Homme                                                  & Non                                                    & 32                                                     & 1.63e+02                                               &       67                                              \\\\\n",
       "\\end{tabular}\n"
      ],
      "text/markdown": [
       "\n",
       "| promo | mention_ecole | mention_bac | etudes | annees_experience | changements_employeur | contrat | taille_entreprise | salaire | lieu_travail | epanouissement | sexe | enfants | age | taille | poids |\n",
       "|---|---|---|---|---|---|---|---|---|---|---|---|---|---|---|---|\n",
       "| 2020                                                   | Bien                                                   | Sans mention                                           | DUT                                                    | 1.0                                                    | 0                                                      | CDI                                                    | Entre 10 et 249 employés                               | 36000                                                  | Marseille-Aix, Lyon, Lille, Toulouse, Nice ou Bordeaux | Oui                                                    | Homme                                                  | Non                                                    | 26                                                     | 1.70e+02                                               |       57                                               |\n",
       "| 2020                                                   | Bien                                                   | Bien                                                   | Licence                                                | 1.0                                                    | 0                                                      | CDI                                                    | Entre 10 et 249 employés                               | 40000                                                  | Paris ou son agglomération                             | Oui                                                    | Homme                                                  | Non                                                    | 25                                                     | 1.66e+02                                               |       69                                               |\n",
       "| 2017                                                   | Bien                                                   | Bien                                                   | Classe préparatoire scientifique                       | 3.0                                                    | 1                                                      | CDI                                                    | Entre 10 et 249 employés                               | 36000                                                  | Marseille-Aix, Lyon, Lille, Toulouse, Nice ou Bordeaux | Totalement                                             | Homme                                                  | Non                                                    | 25                                                     | 1.00e+19                                               | 10000000                                               |\n",
       "| 2018                                                   | Je ne m'en souviens pas                                | Bien                                                   | Classe préparatoire scientifique                       | 2.5                                                    | 0                                                      | CDI                                                    | Entre 10 et 249 employés                               | 42000                                                  | Autre ville française                                  | Oui                                                    | Homme                                                  | Non                                                    | 25                                                     | 1.68e+02                                               |       68                                               |\n",
       "| 2018                                                   | Bien                                                   | Très bien                                              | Classe préparatoire littéraire                         | 3.0                                                    | 1                                                      | CDI                                                    | Entre 250 et 4999 employés                             | 84000                                                  | Hors UE                                                | Oui                                                    | Femme                                                  | Non                                                    | 24                                                     | 1.69e+02                                               |       57                                               |\n",
       "| 2014                                                   | Sans mention                                           | Sans mention                                           | Classe préparatoire scientifique                       | 5.0                                                    | 1 fois                                                 | CDI                                                    | Plus de 5000 salariés                                  | 35000                                                  | Marseille-Aix, Lyon, Lille, Toulouse, Nice ou Bordeaux | Oui                                                    | Homme                                                  | Non                                                    | 32                                                     | 1.63e+02                                               |       67                                               |\n",
       "\n"
      ],
      "text/plain": [
       "  promo mention_ecole           mention_bac  etudes                          \n",
       "1 2020  Bien                    Sans mention DUT                             \n",
       "2 2020  Bien                    Bien         Licence                         \n",
       "3 2017  Bien                    Bien         Classe préparatoire scientifique\n",
       "4 2018  Je ne m'en souviens pas Bien         Classe préparatoire scientifique\n",
       "5 2018  Bien                    Très bien    Classe préparatoire littéraire  \n",
       "6 2014  Sans mention            Sans mention Classe préparatoire scientifique\n",
       "  annees_experience changements_employeur contrat taille_entreprise         \n",
       "1 1.0               0                     CDI     Entre 10 et 249 employés  \n",
       "2 1.0               0                     CDI     Entre 10 et 249 employés  \n",
       "3 3.0               1                     CDI     Entre 10 et 249 employés  \n",
       "4 2.5               0                     CDI     Entre 10 et 249 employés  \n",
       "5 3.0               1                     CDI     Entre 250 et 4999 employés\n",
       "6 5.0               1 fois                CDI     Plus de 5000 salariés     \n",
       "  salaire lieu_travail                                           epanouissement\n",
       "1 36000   Marseille-Aix, Lyon, Lille, Toulouse, Nice ou Bordeaux Oui           \n",
       "2 40000   Paris ou son agglomération                             Oui           \n",
       "3 36000   Marseille-Aix, Lyon, Lille, Toulouse, Nice ou Bordeaux Totalement    \n",
       "4 42000   Autre ville française                                  Oui           \n",
       "5 84000   Hors UE                                                Oui           \n",
       "6 35000   Marseille-Aix, Lyon, Lille, Toulouse, Nice ou Bordeaux Oui           \n",
       "  sexe  enfants age taille   poids   \n",
       "1 Homme Non     26  1.70e+02       57\n",
       "2 Homme Non     25  1.66e+02       69\n",
       "3 Homme Non     25  1.00e+19 10000000\n",
       "4 Homme Non     25  1.68e+02       68\n",
       "5 Femme Non     24  1.69e+02       57\n",
       "6 Homme Non     32  1.63e+02       67"
      ]
     },
     "metadata": {},
     "output_type": "display_data"
    }
   ],
   "source": [
    "#dataset <- read_xlsx(path)\n",
    "dataset <- read.csv(\n",
    "    file = path\n",
    "    #,header = TRUE\n",
    "    ,dec=\",\" # caracter de separation de decimal\n",
    ")\n",
    "#attach(dataset) # Le nom des colonnes deviens des liste corespondant\n",
    "head(dataset) # montre le debut du tableau"
   ]
  },
  {
   "cell_type": "code",
   "execution_count": 227,
   "metadata": {
    "vscode": {
     "languageId": "r"
    }
   },
   "outputs": [],
   "source": [
    "# cration d'une fonction pour ne pas à avoir à le refaire si néssaisaire\n",
    "distinct <- function(liste){\n",
    "  return(as.character(sort(unique(liste))))\n",
    "}\n",
    "graphique <- function(\n",
    "  x\n",
    "  , y\n",
    "){\n",
    "  data <- data.frame(x, y)\n",
    "  plot(\n",
    "    data\n",
    "    #, main = type\n",
    "    , xlab = names(x)\n",
    "    , ylab = names(y)\n",
    "  )\n",
    "}\n",
    "rechercher <- function( # recherche la position des valeur correspondent\n",
    "  liste               # liste des valeur dans laquelle on doit cherhcer\n",
    "  , valeurRecherche   # la valeur rechercher dans la liste\n",
    ") {\n",
    "  listeIndex <- c()\n",
    "  for (index in 1:length(liste)) { # de 1 à 65\n",
    "    if (\n",
    "      !is.na(liste[index]) \n",
    "      & liste[index] == valeurRecherche\n",
    "    ) {\n",
    "      listeIndex  <- append(\n",
    "        x = listeIndex\n",
    "        , values = index\n",
    "      )\n",
    "    }\n",
    "  }\n",
    "  return(listeIndex) # renvoi une liste des numéro de ligne\n",
    "}\n",
    "position <- function ( # Renvoi les position des valeur corespondante\n",
    "  liste\n",
    "  , listeRef\n",
    ") {\n",
    "  listePos <- c()\n",
    "  longeurRef <- length(listeRef)\n",
    "  #print(liste)\n",
    "  #print(listeRef)\n",
    "  for (indexListe in seq(length(liste))) {\n",
    "    indexRef <- 1\n",
    "    #print(is.character(liste[indexListe]))\n",
    "            if (grepl(\"^[0-9]{1,}$\", liste[indexListe])) { # pour enchainé texte et numéro\n",
    "                listePos <- append(listePos, as.numeric(liste[indexListe]))\n",
    "                } else {\n",
    "                    #message(paste('debut : ',print(liste[indexListe] != listeRef[indexRef])))\n",
    "                    while ( # parcour la liste de reference\n",
    "                        liste[indexListe] != listeRef[indexRef]\n",
    "                        & indexRef < longeurRef\n",
    "                        ) {\n",
    "                            indexRef <- indexRef + 1\n",
    "                            #message(paste('court : ',liste[indexListe],' != ',listeRef[indexRef],print(liste[indexListe] != listeRef[indexRef])))\n",
    "                            }\n",
    "                    if ( # si il y a une erreur d'ecriture\n",
    "                        indexRef == longeurRef\n",
    "                        & liste[indexListe] != listeRef[indexRef]\n",
    "                        ) {\n",
    "                            message(paste('Les nom sont mal ecrite ; fonction position ', print(liste), print(listeRef)))\n",
    "                            } else {listePos <- append(listePos, indexRef)}\n",
    "                    }\n",
    "            }\n",
    "        return(listePos)\n",
    "        }\n",
    "replacElement <- function( # ramplce tout les valeur avec le meme element \n",
    "        listeData    # Liste des données\n",
    "        , listeModif # Liste à modifier\n",
    "        , element    # Valeur ou liste\n",
    "        , ramplace\n",
    "    ){\n",
    "        if (missing(listeModif)) {listeModif <- listeData} # si la liste que l'on veut modifier n'est pas la meme\n",
    "        if (length(element) != length(ramplace)) { # Marche meme si l'element n'est pas une liste\n",
    "                message(paste('Les listes ne sont pas de la meme longeur'))\n",
    "            } else {\n",
    "                listeModif1 <- as.character(listeModif)\n",
    "                for (index in 1:length(element)) {\n",
    "                    valeurElement <- if (is.vector(element)){element[index]} else {element}\n",
    "                    valeuRamplce <- if (is.vector(ramplace)) {ramplace[index]} else {ramplace}\n",
    "                    #print(valeurElement)\n",
    "                    #print(listeData)\n",
    "                    listeIndex <- rechercher(\n",
    "                        liste = listeData\n",
    "                        , valeurRecherche = valeurElement\n",
    "                        )\n",
    "                    if (length(listeIndex) != 0) {\n",
    "                        listeModif1 <- replace(\n",
    "                            x = listeModif1\n",
    "                            , list = listeIndex\n",
    "                            , values = valeuRamplce\n",
    "                            )\n",
    "                        }\n",
    "                    }\n",
    "                }\n",
    "        return(listeModif1)\n",
    "    }\n",
    "\n",
    "overall_p <- function( # Retourne la p-value de summary()\n",
    "        model\n",
    "    ) {\n",
    "        f <- summary(model)$fstatistic\n",
    "        p <- pf(f[1],f[2],f[3],lower.tail=F)\n",
    "        attributes(p) <- NULL\n",
    "        return(p)\n",
    "    } # https://www.statology.org/r-extract-p-value-from-lm/\n",
    "equation <- function (resum) { # ecri l'equoition de regression\n",
    "    #print(resum)\n",
    "    nomResum <- names(resum)\n",
    "    #print(nomResum)\n",
    "    polynome <- paste(\"Y=\",as.integer(resum[[1]]))\n",
    "    #print(polynome)\n",
    "    for (index in seq(2,length(nomResum))) {\n",
    "        polynome <- paste(polynome,\"+X_{\",nomResum[index],\"}*\",as.integer(resum[index]))\n",
    "        }\n",
    "    return(polynome)\n",
    "    }\n",
    "regression <- function(\n",
    "    affiche = FALSE\n",
    "    , element # Liste de colonne\n",
    "    , dataVariable # dataframe des variable explicative\n",
    "    , data\n",
    "    , Y = 'salaire'\n",
    "    ){\n",
    "        #print(element)\n",
    "        #print(missing(dataVariable) & !missing(element))\n",
    "        if (missing(dataVariable) & !missing(element)) {\n",
    "            dataVariable <- data.frame(data[,element[1]])\n",
    "            if (length(element) > 1) {\n",
    "                for (index in element[-1]) { # Implementer les liste\n",
    "                    dataVariable <- cbind(\n",
    "                        dataVariable\n",
    "                        , data[index]\n",
    "                        )\n",
    "                    }\n",
    "                }\n",
    "            } else {message(\"il manque les varible dataVariable ou element\")}\n",
    "        #print(tail(dataVariable))\n",
    "        model <- lm(data[,Y] ~ ., data = dataVariable )\n",
    "        #message(affiche)\n",
    "        if (affiche) {\n",
    "            print(summary(model))\n",
    "            #plot(model)\n",
    "            #print(coef(model))\n",
    "            }\n",
    "        return(c(\n",
    "                BIC(model)\n",
    "                , overall_p(model)\n",
    "                #, coef(model)\n",
    "                , equation(coefficients(model))\n",
    "                , coefficients(model, complete = TRUE)\n",
    "                )\n",
    "            )\n",
    "        }\n",
    "afficheModel <- function( # affiche laregretion linéair simple\n",
    "    data\n",
    "    , colonne\n",
    "    , Y = 'salaire'\n",
    "    ) {\n",
    "        model <- lm(data[,Y] ~ data[,colonne])\n",
    "        print(summary(model))\n",
    "        message(paste('BIC : ', BIC(model)))\n",
    "        message(paste('p-value : ', overall_p(model)))\n",
    "        liste <- if (\n",
    "            is.character(data[,colonne])\n",
    "        ) {\n",
    "            as.factor(data[,colonne])\n",
    "        } else {\n",
    "            as.numeric(data[,colonne])\n",
    "        }\n",
    "        plot(model) # 4 graphique\n",
    "            #x = liste, y = data$salaire, xlab = names(data)[colonne])\n",
    "        #abline(model)\n",
    "    }\n",
    "\n",
    "orderNumeric <- function( # order() ne marche pas dans un cas particulier \n",
    "        listeData\n",
    "    ) {\n",
    "        dataOrdre <- data.frame( # initialisation\n",
    "            index = c(1)\n",
    "            , valeur = c(as.numeric(listeData[1]))\n",
    "            , ordre = c(1)\n",
    "            )\n",
    "    for (indexData in 2:length(listeData)) { # Parcour se qui reste à trier\n",
    "            indexOrdre <- 1\n",
    "            nombreLigneOrdre <- nrow(dataOrdre)\n",
    "            valeurData <- as.numeric(listeData[indexData])\n",
    "            valeurOrdre <- as.numeric(dataOrdre$valeur[dataOrdre$ordre == indexOrdre])\n",
    "            #message('debut ', indexData, ' ; ', valeurData, ' > ', valeurOrdre, ' : ', valeurData > valeurOrdre)\n",
    "            while (valeurData > valeurOrdre) { # trouver sont niveaux\n",
    "                    indexOrdre <- indexOrdre + 1\n",
    "                    if (indexOrdre > nombreLigneOrdre) {\n",
    "                        #message('indexOrdre > nrow(dataOrdre)')\n",
    "                        break\n",
    "                        }\n",
    "                    valeurData <- as.numeric(listeData[indexData])\n",
    "                    valeurOrdre <- as.numeric(dataOrdre$valeur[dataOrdre$ordre == indexOrdre])\n",
    "                    #message('cour ', indexOrdre, ' ; ', valeurData, ' > ', valeurOrdre, ' : ', valeurData > valeurOrdre)\n",
    "                }\n",
    "            if (indexOrdre <= nombreLigneOrdre) { # reasigner le reste des valeur\n",
    "                    dataOrdre1 <- dataOrdre[order(dataOrdre$ordre),]\n",
    "                    for (indexReste in indexOrdre:nombreLigneOrdre) {\n",
    "                        dataOrdre1$ordre[indexReste] <- dataOrdre1$ordre[indexReste] + 1\n",
    "                        }\n",
    "                    dataOrdre <- dataOrdre1[order(dataOrdre1$index),]\n",
    "                }\n",
    "            dataOrdre[nombreLigneOrdre + 1,] <- c( # rajout de la nouvel ligne\n",
    "                indexData\n",
    "                , as.numeric(listeData[indexData])\n",
    "                , indexOrdre\n",
    "                )\n",
    "        }\n",
    "    return(dataOrdre$ordre)\n",
    "    }\n",
    "\n",
    "afficheRegression <- function( # affiche une table de BIC et p-value\n",
    "    data\n",
    "    , colonnes # Liste des colonnes de base\n",
    "    , eliminer # colonnes que l'on ne veut pas voir\n",
    "    ) {\n",
    "        listeBIC <- c()\n",
    "        listePvalue <- c()\n",
    "        nomColonnes <- names(data)\n",
    "        if (missing(colonnes)\n",
    "            | length(colonnes) == 0\n",
    "            ) {colonnes <- c()} else {colonnes <- position(\n",
    "                liste = colonnes\n",
    "                , listeRef = nomColonnes\n",
    "                )}\n",
    "        #print(colonnes)\n",
    "        if (missing(eliminer)) {eliminer <- c()} else {eliminer <- position(\n",
    "                liste = eliminer\n",
    "                , listeRef = nomColonnes\n",
    "                )}\n",
    "        eliminer1 <- c(9, colonnes, eliminer)\n",
    "        #print(eliminer1)\n",
    "        longeurColonnes <- length(colonnes)\n",
    "        if (longeurColonnes != 0) { # Initialisation dataframe des variavle\n",
    "            #print(data[colonnes])\n",
    "            #dataExplique <- data.frame(data[colonnes[1]])\n",
    "            dataExplique <- data.frame(data[colonnes[1]])\n",
    "            if (longeurColonnes > 1) { # Création dataframe des variavle\n",
    "                for (index in colonnes[-1]) {\n",
    "                    dataExplique <- cbind(\n",
    "                        dataExplique\n",
    "                        , data[index]\n",
    "                        )\n",
    "                    }\n",
    "                }\n",
    "            }\n",
    "        sequance <- seq(length(data))[-eliminer1] # ne marche pas si eliminer1 contien du texte\n",
    "        #print(sequance)\n",
    "        for (index in sequance) { # Implementer les liste\n",
    "            couple <- regression(\n",
    "                data = data\n",
    "                #, dataVariable = dataExplique1\n",
    "                , element = append(colonnes, index)\n",
    "                )\n",
    "            listeBIC <- append(\n",
    "                x = listeBIC\n",
    "                , values = as.numeric(couple[1])\n",
    "                )\n",
    "            listePvalue <- append(\n",
    "                x = listePvalue\n",
    "                , values = as.numeric(couple[2])\n",
    "                )\n",
    "            }\n",
    "        #print(listeBIC)\n",
    "        #print(listePvalue)\n",
    "        listeOrderBIC <- as.numeric(orderNumeric(listeBIC))\n",
    "        listeOrderPvalue <- as.numeric(orderNumeric(listePvalue))\n",
    "        listeProd = listeBIC * listePvalue\n",
    "        df <- data.frame( # Construction tableau final\n",
    "            index = sequance\n",
    "            , nam = nomColonnes[-eliminer1]\n",
    "            , BIC = listeBIC\n",
    "            , Pvalue = listePvalue\n",
    "            , prod = listeProd\n",
    "            , ordreBIC = listeOrderBIC\n",
    "            , ordrePvalue = listeOrderPvalue\n",
    "            , ordreProd = as.numeric(orderNumeric(listeProd))\n",
    "            , prodOrdre = listeOrderBIC * listeOrderPvalue\n",
    "            )\n",
    "        return(df)\n",
    "        #print(df[order(df$prodOrdre),])\n",
    "        }"
   ]
  },
  {
   "cell_type": "code",
   "execution_count": 204,
   "metadata": {
    "vscode": {
     "languageId": "r"
    }
   },
   "outputs": [],
   "source": [
    "# Type de donnée\n",
    "seqColonne <- seq(length(dataset))\n",
    "indexNum <- c(1, 5, 6, 9, 14, 15, 16)\n",
    "indexChar <- seqColonne[-indexNum]\n",
    "for (index in seqColonne) {\n",
    "   if (is.element(index, indexNum)) {\n",
    "      dataset[,index] <- as.numeric(dataset[,index])\n",
    "      } else {\n",
    "         dataset[,index] <- as.character(dataset[,index])\n",
    "         }\n",
    "   }\n",
    "dataset1 <- as.data.frame(dataset)"
   ]
  },
  {
   "cell_type": "markdown",
   "metadata": {},
   "source": [
    "Nous avons rebaptisé les catégories afin de faciliter la compréhension lors de la présentation des résultats."
   ]
  },
  {
   "cell_type": "code",
   "execution_count": 205,
   "metadata": {
    "vscode": {
     "languageId": "r"
    }
   },
   "outputs": [
    {
     "data": {
      "text/html": [
       "<ol class=list-inline>\n",
       "\t<li>'BTS'</li>\n",
       "\t<li>'Classe préparatoire littéraire'</li>\n",
       "\t<li>'Classe préparatoire scientifique'</li>\n",
       "\t<li>'Classe préparatoire scientifique, La prépa \"intégrée\" était Classe préparatoire scientifique'</li>\n",
       "\t<li>'DUT'</li>\n",
       "\t<li>'Licence'</li>\n",
       "</ol>\n"
      ],
      "text/latex": [
       "\\begin{enumerate*}\n",
       "\\item 'BTS'\n",
       "\\item 'Classe préparatoire littéraire'\n",
       "\\item 'Classe préparatoire scientifique'\n",
       "\\item 'Classe préparatoire scientifique, La prépa \"intégrée\" était Classe préparatoire scientifique'\n",
       "\\item 'DUT'\n",
       "\\item 'Licence'\n",
       "\\end{enumerate*}\n"
      ],
      "text/markdown": [
       "1. 'BTS'\n",
       "2. 'Classe préparatoire littéraire'\n",
       "3. 'Classe préparatoire scientifique'\n",
       "4. 'Classe préparatoire scientifique, La prépa \"intégrée\" était Classe préparatoire scientifique'\n",
       "5. 'DUT'\n",
       "6. 'Licence'\n",
       "\n",
       "\n"
      ],
      "text/plain": [
       "[1] \"BTS\"                                                                                           \n",
       "[2] \"Classe préparatoire littéraire\"                                                                \n",
       "[3] \"Classe préparatoire scientifique\"                                                              \n",
       "[4] \"Classe préparatoire scientifique, La prépa \\\"intégrée\\\" était Classe préparatoire scientifique\"\n",
       "[5] \"DUT\"                                                                                           \n",
       "[6] \"Licence\"                                                                                       "
      ]
     },
     "metadata": {},
     "output_type": "display_data"
    },
    {
     "data": {
      "text/html": [
       "<ol class=list-inline>\n",
       "\t<li>''</li>\n",
       "\t<li>'Entre 10 et 249 employés'</li>\n",
       "\t<li>'Entre 250 et 4999 employés'</li>\n",
       "\t<li>'Moins de 10 employés'</li>\n",
       "\t<li>'Plus de 5000 salariés'</li>\n",
       "</ol>\n"
      ],
      "text/latex": [
       "\\begin{enumerate*}\n",
       "\\item ''\n",
       "\\item 'Entre 10 et 249 employés'\n",
       "\\item 'Entre 250 et 4999 employés'\n",
       "\\item 'Moins de 10 employés'\n",
       "\\item 'Plus de 5000 salariés'\n",
       "\\end{enumerate*}\n"
      ],
      "text/markdown": [
       "1. ''\n",
       "2. 'Entre 10 et 249 employés'\n",
       "3. 'Entre 250 et 4999 employés'\n",
       "4. 'Moins de 10 employés'\n",
       "5. 'Plus de 5000 salariés'\n",
       "\n",
       "\n"
      ],
      "text/plain": [
       "[1] \"\"                           \"Entre 10 et 249 employés\"  \n",
       "[3] \"Entre 250 et 4999 employés\" \"Moins de 10 employés\"      \n",
       "[5] \"Plus de 5000 salariés\"     "
      ]
     },
     "metadata": {},
     "output_type": "display_data"
    },
    {
     "data": {
      "text/html": [
       "5"
      ],
      "text/latex": [
       "5"
      ],
      "text/markdown": [
       "5"
      ],
      "text/plain": [
       "[1] 5"
      ]
     },
     "metadata": {},
     "output_type": "display_data"
    },
    {
     "data": {
      "text/html": [
       "<ol class=list-inline>\n",
       "\t<li>''</li>\n",
       "\t<li>'A l\\'étranger (UE)'</li>\n",
       "\t<li>'Autre ville française'</li>\n",
       "\t<li>'Hors UE'</li>\n",
       "\t<li>'Marseille-Aix, Lyon, Lille, Toulouse, Nice ou Bordeaux'</li>\n",
       "\t<li>'Paris ou son agglomération'</li>\n",
       "</ol>\n"
      ],
      "text/latex": [
       "\\begin{enumerate*}\n",
       "\\item ''\n",
       "\\item 'A l\\textbackslash{}'étranger (UE)'\n",
       "\\item 'Autre ville française'\n",
       "\\item 'Hors UE'\n",
       "\\item 'Marseille-Aix, Lyon, Lille, Toulouse, Nice ou Bordeaux'\n",
       "\\item 'Paris ou son agglomération'\n",
       "\\end{enumerate*}\n"
      ],
      "text/markdown": [
       "1. ''\n",
       "2. 'A l\\'étranger (UE)'\n",
       "3. 'Autre ville française'\n",
       "4. 'Hors UE'\n",
       "5. 'Marseille-Aix, Lyon, Lille, Toulouse, Nice ou Bordeaux'\n",
       "6. 'Paris ou son agglomération'\n",
       "\n",
       "\n"
      ],
      "text/plain": [
       "[1] \"\"                                                      \n",
       "[2] \"A l'étranger (UE)\"                                     \n",
       "[3] \"Autre ville française\"                                 \n",
       "[4] \"Hors UE\"                                               \n",
       "[5] \"Marseille-Aix, Lyon, Lille, Toulouse, Nice ou Bordeaux\"\n",
       "[6] \"Paris ou son agglomération\"                            "
      ]
     },
     "metadata": {},
     "output_type": "display_data"
    },
    {
     "data": {
      "text/html": [
       "<ol class=list-inline>\n",
       "\t<li>''</li>\n",
       "\t<li>'Oui'</li>\n",
       "\t<li>'Peu'</li>\n",
       "\t<li>'Totalement'</li>\n",
       "</ol>\n"
      ],
      "text/latex": [
       "\\begin{enumerate*}\n",
       "\\item ''\n",
       "\\item 'Oui'\n",
       "\\item 'Peu'\n",
       "\\item 'Totalement'\n",
       "\\end{enumerate*}\n"
      ],
      "text/markdown": [
       "1. ''\n",
       "2. 'Oui'\n",
       "3. 'Peu'\n",
       "4. 'Totalement'\n",
       "\n",
       "\n"
      ],
      "text/plain": [
       "[1] \"\"           \"Oui\"        \"Peu\"        \"Totalement\""
      ]
     },
     "metadata": {},
     "output_type": "display_data"
    },
    {
     "data": {
      "text/html": [
       "<ol class=list-inline>\n",
       "\t<li>''</li>\n",
       "\t<li>'Femme'</li>\n",
       "\t<li>'Homme'</li>\n",
       "</ol>\n"
      ],
      "text/latex": [
       "\\begin{enumerate*}\n",
       "\\item ''\n",
       "\\item 'Femme'\n",
       "\\item 'Homme'\n",
       "\\end{enumerate*}\n"
      ],
      "text/markdown": [
       "1. ''\n",
       "2. 'Femme'\n",
       "3. 'Homme'\n",
       "\n",
       "\n"
      ],
      "text/plain": [
       "[1] \"\"      \"Femme\" \"Homme\""
      ]
     },
     "metadata": {},
     "output_type": "display_data"
    },
    {
     "data": {
      "text/html": [
       "<table>\n",
       "<thead><tr><th scope=col>promo</th><th scope=col>ecole</th><th scope=col>bac</th><th scope=col>etudes</th><th scope=col>exp</th><th scope=col>chang</th><th scope=col>contrat</th><th scope=col>employers</th><th scope=col>salaire</th><th scope=col>lieu</th><th scope=col>heureu</th><th scope=col>sexe</th><th scope=col>enfants</th><th scope=col>age</th><th scope=col>taille</th><th scope=col>poids</th></tr></thead>\n",
       "<tbody>\n",
       "\t<tr><td>2020        </td><td>B           </td><td>Sans        </td><td>DUT         </td><td>1.0         </td><td>1           </td><td>CDI         </td><td>[10;249]    </td><td>36000       </td><td>Grande_ville</td><td>OUI         </td><td>F           </td><td>Non         </td><td>26          </td><td>1.70e+02    </td><td>5.7e+01     </td></tr>\n",
       "\t<tr><td>2020        </td><td>B           </td><td>B           </td><td>Licence     </td><td>1.0         </td><td>1           </td><td>CDI         </td><td>[10;249]    </td><td>40000       </td><td>Capital     </td><td>OUI         </td><td>F           </td><td>Non         </td><td>25          </td><td>1.66e+02    </td><td>6.9e+01     </td></tr>\n",
       "\t<tr><td>2017        </td><td>B           </td><td>B           </td><td>CPS         </td><td>3.0         </td><td>2           </td><td>CDI         </td><td>[10;249]    </td><td>36000       </td><td>Grande_ville</td><td>OUI         </td><td>F           </td><td>Non         </td><td>25          </td><td>1.00e+19    </td><td>1.0e+07     </td></tr>\n",
       "\t<tr><td>2018        </td><td>NA          </td><td>B           </td><td>CPS         </td><td>2.5         </td><td>1           </td><td>CDI         </td><td>[10;249]    </td><td>42000       </td><td>Autre_ville </td><td>OUI         </td><td>F           </td><td>Non         </td><td>25          </td><td>1.68e+02    </td><td>6.8e+01     </td></tr>\n",
       "\t<tr><td>2018        </td><td>B           </td><td>TB          </td><td>CPL         </td><td>3.0         </td><td>2           </td><td>CDI         </td><td>[250;4999]  </td><td>84000       </td><td>Hors_UE     </td><td>OUI         </td><td>H           </td><td>Non         </td><td>24          </td><td>1.69e+02    </td><td>5.7e+01     </td></tr>\n",
       "\t<tr><td>2014        </td><td>Sans        </td><td>Sans        </td><td>CPS         </td><td>5.0         </td><td>3           </td><td>CDI         </td><td>[5000;+]    </td><td>35000       </td><td>Grande_ville</td><td>OUI         </td><td>F           </td><td>Non         </td><td>32          </td><td>1.63e+02    </td><td>6.7e+01     </td></tr>\n",
       "</tbody>\n",
       "</table>\n"
      ],
      "text/latex": [
       "\\begin{tabular}{r|llllllllllllllll}\n",
       " promo & ecole & bac & etudes & exp & chang & contrat & employers & salaire & lieu & heureu & sexe & enfants & age & taille & poids\\\\\n",
       "\\hline\n",
       "\t 2020           & B              & Sans           & DUT            & 1.0            & 1              & CDI            & {[}10;249{]}   & 36000          & Grande\\_ville & OUI            & F              & Non            & 26             & 1.70e+02       & 5.7e+01       \\\\\n",
       "\t 2020           & B              & B              & Licence        & 1.0            & 1              & CDI            & {[}10;249{]}   & 40000          & Capital        & OUI            & F              & Non            & 25             & 1.66e+02       & 6.9e+01       \\\\\n",
       "\t 2017           & B              & B              & CPS            & 3.0            & 2              & CDI            & {[}10;249{]}   & 36000          & Grande\\_ville & OUI            & F              & Non            & 25             & 1.00e+19       & 1.0e+07       \\\\\n",
       "\t 2018           & NA             & B              & CPS            & 2.5            & 1              & CDI            & {[}10;249{]}   & 42000          & Autre\\_ville  & OUI            & F              & Non            & 25             & 1.68e+02       & 6.8e+01       \\\\\n",
       "\t 2018           & B              & TB             & CPL            & 3.0            & 2              & CDI            & {[}250;4999{]} & 84000          & Hors\\_UE      & OUI            & H              & Non            & 24             & 1.69e+02       & 5.7e+01       \\\\\n",
       "\t 2014           & Sans           & Sans           & CPS            & 5.0            & 3              & CDI            & {[}5000;+{]}   & 35000          & Grande\\_ville & OUI            & F              & Non            & 32             & 1.63e+02       & 6.7e+01       \\\\\n",
       "\\end{tabular}\n"
      ],
      "text/markdown": [
       "\n",
       "| promo | ecole | bac | etudes | exp | chang | contrat | employers | salaire | lieu | heureu | sexe | enfants | age | taille | poids |\n",
       "|---|---|---|---|---|---|---|---|---|---|---|---|---|---|---|---|\n",
       "| 2020         | B            | Sans         | DUT          | 1.0          | 1            | CDI          | [10;249]     | 36000        | Grande_ville | OUI          | F            | Non          | 26           | 1.70e+02     | 5.7e+01      |\n",
       "| 2020         | B            | B            | Licence      | 1.0          | 1            | CDI          | [10;249]     | 40000        | Capital      | OUI          | F            | Non          | 25           | 1.66e+02     | 6.9e+01      |\n",
       "| 2017         | B            | B            | CPS          | 3.0          | 2            | CDI          | [10;249]     | 36000        | Grande_ville | OUI          | F            | Non          | 25           | 1.00e+19     | 1.0e+07      |\n",
       "| 2018         | NA           | B            | CPS          | 2.5          | 1            | CDI          | [10;249]     | 42000        | Autre_ville  | OUI          | F            | Non          | 25           | 1.68e+02     | 6.8e+01      |\n",
       "| 2018         | B            | TB           | CPL          | 3.0          | 2            | CDI          | [250;4999]   | 84000        | Hors_UE      | OUI          | H            | Non          | 24           | 1.69e+02     | 5.7e+01      |\n",
       "| 2014         | Sans         | Sans         | CPS          | 5.0          | 3            | CDI          | [5000;+]     | 35000        | Grande_ville | OUI          | F            | Non          | 32           | 1.63e+02     | 6.7e+01      |\n",
       "\n"
      ],
      "text/plain": [
       "  promo ecole bac  etudes  exp chang contrat employers  salaire lieu        \n",
       "1 2020  B     Sans DUT     1.0 1     CDI     [10;249]   36000   Grande_ville\n",
       "2 2020  B     B    Licence 1.0 1     CDI     [10;249]   40000   Capital     \n",
       "3 2017  B     B    CPS     3.0 2     CDI     [10;249]   36000   Grande_ville\n",
       "4 2018  NA    B    CPS     2.5 1     CDI     [10;249]   42000   Autre_ville \n",
       "5 2018  B     TB   CPL     3.0 2     CDI     [250;4999] 84000   Hors_UE     \n",
       "6 2014  Sans  Sans CPS     5.0 3     CDI     [5000;+]   35000   Grande_ville\n",
       "  heureu sexe enfants age taille   poids  \n",
       "1 OUI    F    Non     26  1.70e+02 5.7e+01\n",
       "2 OUI    F    Non     25  1.66e+02 6.9e+01\n",
       "3 OUI    F    Non     25  1.00e+19 1.0e+07\n",
       "4 OUI    F    Non     25  1.68e+02 6.8e+01\n",
       "5 OUI    H    Non     24  1.69e+02 5.7e+01\n",
       "6 OUI    F    Non     32  1.63e+02 6.7e+01"
      ]
     },
     "metadata": {},
     "output_type": "display_data"
    }
   ],
   "source": [
    "colonne <- 2\n",
    "colnames(dataset1)[colonne] <-'ecole'\n",
    "dataset1[colonne] <- replacElement(\n",
    "    listeData = dataset1[,colonne]\n",
    "    , element = c(\"Sans mention\", \"Je ne m'en souviens pas\", \"Bien\", \"Très bien\", \"Assez bien\")\n",
    "    , ramplace = c(\"Sans\", NA, \"B\", \"TB\", \"AB\")\n",
    "    )\n",
    "colonne <- 3\n",
    "colnames(dataset1)[colonne] <-'bac'\n",
    "dataset1[colonne] <- replacElement(\n",
    "    listeData = dataset1[,colonne]\n",
    "    , element = c(\"Sans mention\", \"Bien\", \"Très bien\", \"Assez bien\")\n",
    "    , ramplace = c(\"Sans\", \"B\", \"TB\", \"AB\")\n",
    "    )\n",
    "colonne <- 4\n",
    "Sort <- distinct(dataset1[,colonne])\n",
    "Sort\n",
    "dataset1[colonne]  <- replacElement(\n",
    "    listeData = dataset1[,colonne]\n",
    "    , element = Sort\n",
    "    , ramplace = c('BTS','CPL','CPS','CPS','DUT','Licence')\n",
    "    )\n",
    "colnames(dataset1)[5] <-'exp'\n",
    "colnames(dataset1)[6] <-'chang'\n",
    "colonne <- 7\n",
    "dataset1[colonne] <- replacElement(\n",
    "    listeData = dataset1[,colonne]\n",
    "    , element = \"Sans emploi\"\n",
    "    , ramplace = \"Sans\"\n",
    "    )\n",
    "colonne <- 8\n",
    "colnames(dataset1)[colonne] <-'employers'\n",
    "Sort <- distinct(dataset1[,colonne])\n",
    "Sort\n",
    "length(Sort)\n",
    "dataset1[colonne]  <- replacElement(\n",
    "    listeData = dataset1[,colonne]\n",
    "    , element = Sort\n",
    "    , ramplace = c(NA,'[10;249]','[250;4999]','[0;10]','[5000;+]')\n",
    "    )\n",
    "colonne <- 10\n",
    "colnames(dataset1)[colonne] <-'lieu'\n",
    "Sort <- distinct(dataset1[,colonne])\n",
    "Sort\n",
    "dataset1[colonne] <- replacElement(\n",
    "    listeData = dataset1[,colonne]\n",
    "    , element = Sort\n",
    "    , ramplace = c(NA, 'UE', 'Autre_ville', 'Hors_UE', 'Grande_ville', 'Capital')\n",
    "    )\n",
    "colonne <- 11\n",
    "colnames(dataset1)[colonne] <-'heureu'\n",
    "Sort <- distinct(dataset1[,colonne])\n",
    "Sort\n",
    "dataset1[colonne] <- replacElement(\n",
    "    listeData = dataset1[,colonne]\n",
    "    , element = Sort\n",
    "    , ramplace = c(NA, 'OUI', 'NON', 'OUI')\n",
    "    )\n",
    "colonne <- 12\n",
    "Sort <- distinct(dataset1[,colonne])\n",
    "Sort\n",
    "dataset1[colonne] <- replacElement(\n",
    "    listeData = dataset1[,colonne]\n",
    "    , element = Sort\n",
    "    , ramplace = c(NA, 'H', 'F')\n",
    "    )\n",
    "head(dataset1)"
   ]
  },
  {
   "cell_type": "markdown",
   "metadata": {},
   "source": [
    "En remplaçant les catégories on remarque : \n",
    "- **études supérieures** ; la catégorie nommé ***'Classe préparatoire scientifique, La prépa \"intégrée\" était Classe préparatoire scientifique'*** sera considéré comme la catégorie ***'Classe préparatoire scientifique'*** car elles sont équivalentes.\n",
    "- **Épanouissement** : il y a trop de subjectivité pour être différent d'une relation ***binaire***."
   ]
  },
  {
   "cell_type": "markdown",
   "metadata": {},
   "source": [
    "## Recherche\n",
    "\n",
    "### Préliminaire\n",
    "\n",
    "On va commencer par ***vérifier*** chaque colonne, si celles-ci correspondent bien aux catégories souhaitées.  \n",
    "Comme on peut le voir dans la colonne \"*chang*\" du tableau ci-dessus, à la dernière ligne, la variable est un texte et non numérique.  \n",
    "Cette dernière a été mise automatiquement  à *\"1\"* grâce à la mise en forme.\n",
    "\n",
    "#### Contrat\n",
    "\n",
    "La question qui a été posée est de déterminer le salaire et non le taux d'***employabilité***. \n",
    "De plus, sur les mêmes lignes de données, il ***manque*** la moitié des informations.  \n",
    "En l'absence d'emploi, les personnes qui ont rempli le sondage n'ont pas pu transcrire les informations concernant l'entreprise, puisqu'elles n'ont pas de travail.  \n",
    "Elles seront donc **supprimées**. "
   ]
  },
  {
   "cell_type": "code",
   "execution_count": 206,
   "metadata": {
    "tags": [],
    "vscode": {
     "languageId": "r"
    }
   },
   "outputs": [
    {
     "data": {
      "text/html": [
       "<table>\n",
       "<thead><tr><th></th><th scope=col>promo</th><th scope=col>ecole</th><th scope=col>bac</th><th scope=col>etudes</th><th scope=col>exp</th><th scope=col>chang</th><th scope=col>contrat</th><th scope=col>employers</th><th scope=col>salaire</th><th scope=col>lieu</th><th scope=col>heureu</th><th scope=col>sexe</th><th scope=col>enfants</th><th scope=col>age</th><th scope=col>taille</th><th scope=col>poids</th></tr></thead>\n",
       "<tbody>\n",
       "\t<tr><th scope=row>13</th><td>2020   </td><td>B      </td><td>B      </td><td>Licence</td><td>1.000  </td><td>1      </td><td>Sans   </td><td>NA     </td><td>NA     </td><td>NA     </td><td>NA     </td><td>NA     </td><td>       </td><td>NA     </td><td>NA     </td><td>NA     </td></tr>\n",
       "\t<tr><th scope=row>17</th><td>2020   </td><td>NA     </td><td>TB     </td><td>CPL    </td><td>0.001  </td><td>1      </td><td>Sans   </td><td>NA     </td><td>NA     </td><td>NA     </td><td>NA     </td><td>NA     </td><td>       </td><td>NA     </td><td>NA     </td><td>NA     </td></tr>\n",
       "\t<tr><th scope=row>41</th><td>2017   </td><td>B      </td><td>TB     </td><td>CPS    </td><td>3.000  </td><td>4      </td><td>Sans   </td><td>NA     </td><td>NA     </td><td>NA     </td><td>NA     </td><td>NA     </td><td>       </td><td>NA     </td><td>NA     </td><td>NA     </td></tr>\n",
       "\t<tr><th scope=row>52</th><td>2013   </td><td>NA     </td><td>B      </td><td>CPS    </td><td>7.000  </td><td>2      </td><td>Sans   </td><td>NA     </td><td>NA     </td><td>NA     </td><td>NA     </td><td>NA     </td><td>       </td><td>NA     </td><td>NA     </td><td>NA     </td></tr>\n",
       "\t<tr><th scope=row>55</th><td>2019   </td><td>B      </td><td>TB     </td><td>CPL    </td><td>1.000  </td><td>1      </td><td>Sans   </td><td>NA     </td><td>NA     </td><td>NA     </td><td>NA     </td><td>NA     </td><td>       </td><td>NA     </td><td>NA     </td><td>NA     </td></tr>\n",
       "</tbody>\n",
       "</table>\n"
      ],
      "text/latex": [
       "\\begin{tabular}{r|llllllllllllllll}\n",
       "  & promo & ecole & bac & etudes & exp & chang & contrat & employers & salaire & lieu & heureu & sexe & enfants & age & taille & poids\\\\\n",
       "\\hline\n",
       "\t13 & 2020    & B       & B       & Licence & 1.000   & 1       & Sans    & NA      & NA      & NA      & NA      & NA      &         & NA      & NA      & NA     \\\\\n",
       "\t17 & 2020    & NA      & TB      & CPL     & 0.001   & 1       & Sans    & NA      & NA      & NA      & NA      & NA      &         & NA      & NA      & NA     \\\\\n",
       "\t41 & 2017    & B       & TB      & CPS     & 3.000   & 4       & Sans    & NA      & NA      & NA      & NA      & NA      &         & NA      & NA      & NA     \\\\\n",
       "\t52 & 2013    & NA      & B       & CPS     & 7.000   & 2       & Sans    & NA      & NA      & NA      & NA      & NA      &         & NA      & NA      & NA     \\\\\n",
       "\t55 & 2019    & B       & TB      & CPL     & 1.000   & 1       & Sans    & NA      & NA      & NA      & NA      & NA      &         & NA      & NA      & NA     \\\\\n",
       "\\end{tabular}\n"
      ],
      "text/markdown": [
       "\n",
       "| <!--/--> | promo | ecole | bac | etudes | exp | chang | contrat | employers | salaire | lieu | heureu | sexe | enfants | age | taille | poids |\n",
       "|---|---|---|---|---|---|---|---|---|---|---|---|---|---|---|---|---|\n",
       "| 13 | 2020    | B       | B       | Licence | 1.000   | 1       | Sans    | NA      | NA      | NA      | NA      | NA      |         | NA      | NA      | NA      |\n",
       "| 17 | 2020    | NA      | TB      | CPL     | 0.001   | 1       | Sans    | NA      | NA      | NA      | NA      | NA      |         | NA      | NA      | NA      |\n",
       "| 41 | 2017    | B       | TB      | CPS     | 3.000   | 4       | Sans    | NA      | NA      | NA      | NA      | NA      |         | NA      | NA      | NA      |\n",
       "| 52 | 2013    | NA      | B       | CPS     | 7.000   | 2       | Sans    | NA      | NA      | NA      | NA      | NA      |         | NA      | NA      | NA      |\n",
       "| 55 | 2019    | B       | TB      | CPL     | 1.000   | 1       | Sans    | NA      | NA      | NA      | NA      | NA      |         | NA      | NA      | NA      |\n",
       "\n"
      ],
      "text/plain": [
       "   promo ecole bac etudes  exp   chang contrat employers salaire lieu heureu\n",
       "13 2020  B     B   Licence 1.000 1     Sans    NA        NA      NA   NA    \n",
       "17 2020  NA    TB  CPL     0.001 1     Sans    NA        NA      NA   NA    \n",
       "41 2017  B     TB  CPS     3.000 4     Sans    NA        NA      NA   NA    \n",
       "52 2013  NA    B   CPS     7.000 2     Sans    NA        NA      NA   NA    \n",
       "55 2019  B     TB  CPL     1.000 1     Sans    NA        NA      NA   NA    \n",
       "   sexe enfants age taille poids\n",
       "13 NA           NA  NA     NA   \n",
       "17 NA           NA  NA     NA   \n",
       "41 NA           NA  NA     NA   \n",
       "52 NA           NA  NA     NA   \n",
       "55 NA           NA  NA     NA   "
      ]
     },
     "metadata": {},
     "output_type": "display_data"
    }
   ],
   "source": [
    "#dataset2 <- subset(dataset1, dataset1$contrat != contratSort[1])\n",
    "indexContratSans <- rechercher(\n",
    "    dataset1$contrat\n",
    "    , 'Sans'\n",
    "    )\n",
    "dataset1[indexContratSans,]"
   ]
  },
  {
   "cell_type": "code",
   "execution_count": 207,
   "metadata": {
    "vscode": {
     "languageId": "r"
    }
   },
   "outputs": [],
   "source": [
    "indexContratSans <- rechercher(\n",
    "    dataset1$contrat\n",
    "    , 'Sans'\n",
    "    )\n",
    "dataset2 <- dataset1[-indexContratSans,]"
   ]
  },
  {
   "cell_type": "markdown",
   "metadata": {},
   "source": [
    "#### Lieu\n",
    "\n",
    "On a des salaires très élevés chez des ingénieurs en petit nombre (4) **travaillant à l’étranger**.\n",
    "Sachant que chaque pays a ses règles salariales (salaire minimum, cotisations sociales, règles du marché différentes) et qu’on ne peut pas comparer les salaires d’un pays à l’autre, je prends le parti\n",
    "de supprimer ces données.\n",
    "Cela permettra aussi de ***réduire la variabilité*** de nos données."
   ]
  },
  {
   "cell_type": "code",
   "execution_count": 208,
   "metadata": {
    "vscode": {
     "languageId": "r"
    }
   },
   "outputs": [
    {
     "data": {
      "text/html": [
       "<table>\n",
       "<thead><tr><th></th><th scope=col>promo</th><th scope=col>ecole</th><th scope=col>bac</th><th scope=col>etudes</th><th scope=col>exp</th><th scope=col>chang</th><th scope=col>contrat</th><th scope=col>employers</th><th scope=col>salaire</th><th scope=col>lieu</th><th scope=col>heureu</th><th scope=col>sexe</th><th scope=col>enfants</th><th scope=col>age</th><th scope=col>taille</th><th scope=col>poids</th></tr></thead>\n",
       "<tbody>\n",
       "\t<tr><th scope=row>50</th><td>2019      </td><td>NA        </td><td>TB        </td><td>DUT       </td><td>2.0       </td><td>2         </td><td>CDI       </td><td>[250;4999]</td><td> 42089    </td><td>UE        </td><td>OUI       </td><td>H         </td><td>Non       </td><td>24        </td><td> NA       </td><td>NA        </td></tr>\n",
       "\t<tr><th scope=row>58</th><td>2013      </td><td>B         </td><td>B         </td><td>Licence   </td><td>7.5       </td><td>1         </td><td>CDI       </td><td>[5000;+]  </td><td> 73000    </td><td>UE        </td><td>OUI       </td><td>H         </td><td>Non       </td><td>31        </td><td>160       </td><td>54        </td></tr>\n",
       "\t<tr><th scope=row>5</th><td>2018      </td><td>B         </td><td>TB        </td><td>CPL       </td><td>3.0       </td><td>2         </td><td>CDI       </td><td>[250;4999]</td><td> 84000    </td><td>Hors_UE   </td><td>OUI       </td><td>H         </td><td>Non       </td><td>24        </td><td>169       </td><td>57        </td></tr>\n",
       "\t<tr><th scope=row>28</th><td>2017      </td><td>B         </td><td>AB        </td><td>CPS       </td><td>4.0       </td><td>1         </td><td>CDI       </td><td>[250;4999]</td><td>110000    </td><td>Hors_UE   </td><td>OUI       </td><td>F         </td><td>Non       </td><td>28        </td><td>167       </td><td>72        </td></tr>\n",
       "</tbody>\n",
       "</table>\n"
      ],
      "text/latex": [
       "\\begin{tabular}{r|llllllllllllllll}\n",
       "  & promo & ecole & bac & etudes & exp & chang & contrat & employers & salaire & lieu & heureu & sexe & enfants & age & taille & poids\\\\\n",
       "\\hline\n",
       "\t50 & 2019           & NA             & TB             & DUT            & 2.0            & 2              & CDI            & {[}250;4999{]} &  42089         & UE             & OUI            & H              & Non            & 24             &  NA            & NA            \\\\\n",
       "\t58 & 2013           & B              & B              & Licence        & 7.5            & 1              & CDI            & {[}5000;+{]}   &  73000         & UE             & OUI            & H              & Non            & 31             & 160            & 54            \\\\\n",
       "\t5 & 2018           & B              & TB             & CPL            & 3.0            & 2              & CDI            & {[}250;4999{]} &  84000         & Hors\\_UE      & OUI            & H              & Non            & 24             & 169            & 57            \\\\\n",
       "\t28 & 2017           & B              & AB             & CPS            & 4.0            & 1              & CDI            & {[}250;4999{]} & 110000         & Hors\\_UE      & OUI            & F              & Non            & 28             & 167            & 72            \\\\\n",
       "\\end{tabular}\n"
      ],
      "text/markdown": [
       "\n",
       "| <!--/--> | promo | ecole | bac | etudes | exp | chang | contrat | employers | salaire | lieu | heureu | sexe | enfants | age | taille | poids |\n",
       "|---|---|---|---|---|---|---|---|---|---|---|---|---|---|---|---|---|\n",
       "| 50 | 2019       | NA         | TB         | DUT        | 2.0        | 2          | CDI        | [250;4999] |  42089     | UE         | OUI        | H          | Non        | 24         |  NA        | NA         |\n",
       "| 58 | 2013       | B          | B          | Licence    | 7.5        | 1          | CDI        | [5000;+]   |  73000     | UE         | OUI        | H          | Non        | 31         | 160        | 54         |\n",
       "| 5 | 2018       | B          | TB         | CPL        | 3.0        | 2          | CDI        | [250;4999] |  84000     | Hors_UE    | OUI        | H          | Non        | 24         | 169        | 57         |\n",
       "| 28 | 2017       | B          | AB         | CPS        | 4.0        | 1          | CDI        | [250;4999] | 110000     | Hors_UE    | OUI        | F          | Non        | 28         | 167        | 72         |\n",
       "\n"
      ],
      "text/plain": [
       "   promo ecole bac etudes  exp chang contrat employers  salaire lieu    heureu\n",
       "50 2019  NA    TB  DUT     2.0 2     CDI     [250;4999]  42089  UE      OUI   \n",
       "58 2013  B     B   Licence 7.5 1     CDI     [5000;+]    73000  UE      OUI   \n",
       "5  2018  B     TB  CPL     3.0 2     CDI     [250;4999]  84000  Hors_UE OUI   \n",
       "28 2017  B     AB  CPS     4.0 1     CDI     [250;4999] 110000  Hors_UE OUI   \n",
       "   sexe enfants age taille poids\n",
       "50 H    Non     24   NA    NA   \n",
       "58 H    Non     31  160    54   \n",
       "5  H    Non     24  169    57   \n",
       "28 F    Non     28  167    72   "
      ]
     },
     "metadata": {},
     "output_type": "display_data"
    }
   ],
   "source": [
    "indexLieuUE <- rechercher(\n",
    "    dataset2$lieu\n",
    "    , 'UE'\n",
    "    )\n",
    "index1LieuHEU <- rechercher(\n",
    "    dataset2$lieu\n",
    "    , 'Hors_UE'\n",
    "    )\n",
    "indexLieuHFrance <- c(indexLieuUE,index1LieuHEU)\n",
    "dataset2[indexLieuHFrance,]"
   ]
  },
  {
   "cell_type": "code",
   "execution_count": 209,
   "metadata": {
    "vscode": {
     "languageId": "r"
    }
   },
   "outputs": [],
   "source": [
    "dataset2 <- dataset2[-indexLieuHFrance,]"
   ]
  },
  {
   "cell_type": "markdown",
   "metadata": {},
   "source": [
    "#### Salaire"
   ]
  },
  {
   "cell_type": "code",
   "execution_count": 210,
   "metadata": {
    "tags": [],
    "vscode": {
     "languageId": "r"
    }
   },
   "outputs": [
    {
     "data": {
      "text/html": [
       "<ol class=list-inline>\n",
       "\t<li>'40'</li>\n",
       "\t<li>'2800'</li>\n",
       "\t<li>'2880'</li>\n",
       "\t<li>'23000'</li>\n",
       "\t<li>'23500'</li>\n",
       "\t<li>'24000'</li>\n",
       "\t<li>'25000'</li>\n",
       "\t<li>'25412'</li>\n",
       "\t<li>'29232'</li>\n",
       "\t<li>'30000'</li>\n",
       "\t<li>'30192'</li>\n",
       "\t<li>'32000'</li>\n",
       "\t<li>'32400'</li>\n",
       "\t<li>'32500'</li>\n",
       "\t<li>'33000'</li>\n",
       "\t<li>'33500'</li>\n",
       "\t<li>'33600'</li>\n",
       "\t<li>'34500'</li>\n",
       "\t<li>'35000'</li>\n",
       "\t<li>'36000'</li>\n",
       "\t<li>'38000'</li>\n",
       "\t<li>'38600'</li>\n",
       "\t<li>'39000'</li>\n",
       "\t<li>'40000'</li>\n",
       "\t<li>'40500'</li>\n",
       "\t<li>'41000'</li>\n",
       "\t<li>'42000'</li>\n",
       "\t<li>'43000'</li>\n",
       "\t<li>'45000'</li>\n",
       "\t<li>'46000'</li>\n",
       "\t<li>'47000'</li>\n",
       "\t<li>'50000'</li>\n",
       "\t<li>'52000'</li>\n",
       "\t<li>'52700'</li>\n",
       "\t<li>'54000'</li>\n",
       "\t<li>'60000'</li>\n",
       "\t<li>'75000'</li>\n",
       "</ol>\n"
      ],
      "text/latex": [
       "\\begin{enumerate*}\n",
       "\\item '40'\n",
       "\\item '2800'\n",
       "\\item '2880'\n",
       "\\item '23000'\n",
       "\\item '23500'\n",
       "\\item '24000'\n",
       "\\item '25000'\n",
       "\\item '25412'\n",
       "\\item '29232'\n",
       "\\item '30000'\n",
       "\\item '30192'\n",
       "\\item '32000'\n",
       "\\item '32400'\n",
       "\\item '32500'\n",
       "\\item '33000'\n",
       "\\item '33500'\n",
       "\\item '33600'\n",
       "\\item '34500'\n",
       "\\item '35000'\n",
       "\\item '36000'\n",
       "\\item '38000'\n",
       "\\item '38600'\n",
       "\\item '39000'\n",
       "\\item '40000'\n",
       "\\item '40500'\n",
       "\\item '41000'\n",
       "\\item '42000'\n",
       "\\item '43000'\n",
       "\\item '45000'\n",
       "\\item '46000'\n",
       "\\item '47000'\n",
       "\\item '50000'\n",
       "\\item '52000'\n",
       "\\item '52700'\n",
       "\\item '54000'\n",
       "\\item '60000'\n",
       "\\item '75000'\n",
       "\\end{enumerate*}\n"
      ],
      "text/markdown": [
       "1. '40'\n",
       "2. '2800'\n",
       "3. '2880'\n",
       "4. '23000'\n",
       "5. '23500'\n",
       "6. '24000'\n",
       "7. '25000'\n",
       "8. '25412'\n",
       "9. '29232'\n",
       "10. '30000'\n",
       "11. '30192'\n",
       "12. '32000'\n",
       "13. '32400'\n",
       "14. '32500'\n",
       "15. '33000'\n",
       "16. '33500'\n",
       "17. '33600'\n",
       "18. '34500'\n",
       "19. '35000'\n",
       "20. '36000'\n",
       "21. '38000'\n",
       "22. '38600'\n",
       "23. '39000'\n",
       "24. '40000'\n",
       "25. '40500'\n",
       "26. '41000'\n",
       "27. '42000'\n",
       "28. '43000'\n",
       "29. '45000'\n",
       "30. '46000'\n",
       "31. '47000'\n",
       "32. '50000'\n",
       "33. '52000'\n",
       "34. '52700'\n",
       "35. '54000'\n",
       "36. '60000'\n",
       "37. '75000'\n",
       "\n",
       "\n"
      ],
      "text/plain": [
       " [1] \"40\"    \"2800\"  \"2880\"  \"23000\" \"23500\" \"24000\" \"25000\" \"25412\" \"29232\"\n",
       "[10] \"30000\" \"30192\" \"32000\" \"32400\" \"32500\" \"33000\" \"33500\" \"33600\" \"34500\"\n",
       "[19] \"35000\" \"36000\" \"38000\" \"38600\" \"39000\" \"40000\" \"40500\" \"41000\" \"42000\"\n",
       "[28] \"43000\" \"45000\" \"46000\" \"47000\" \"50000\" \"52000\" \"52700\" \"54000\" \"60000\"\n",
       "[37] \"75000\""
      ]
     },
     "metadata": {},
     "output_type": "display_data"
    }
   ],
   "source": [
    "salaireSort <- distinct(dataset2$salaire)\n",
    "salaireSort"
   ]
  },
  {
   "cell_type": "markdown",
   "metadata": {},
   "source": [
    "On peut considérer que tous les salaires inférieurs au SMIC sont des erreurs d'enregistrement.  \n",
    "Les sommes à quatre chiffres peuvent correspondre à un salaire mensuel au lieu d'un salaire annuel brut.  \n",
    "Les sommes  à deux chiffres peuvent correspondre à des enregistrements en milliers d'euros."
   ]
  },
  {
   "cell_type": "code",
   "execution_count": 211,
   "metadata": {
    "tags": [],
    "vscode": {
     "languageId": "r"
    }
   },
   "outputs": [],
   "source": [
    "dataset2$salaire <- as.numeric(replacElement(\n",
    "    listeData = dataset2$salaire\n",
    "    , element = c(40, 2800, 2880)\n",
    "    , ramplace = c(40000, 2800*12, 2880*12)\n",
    "    ))"
   ]
  },
  {
   "cell_type": "markdown",
   "metadata": {},
   "source": [
    "#### Taille"
   ]
  },
  {
   "cell_type": "code",
   "execution_count": 212,
   "metadata": {
    "tags": [],
    "vscode": {
     "languageId": "r"
    }
   },
   "outputs": [
    {
     "data": {
      "text/html": [
       "<ol class=list-inline>\n",
       "\t<li>'152'</li>\n",
       "\t<li>'153'</li>\n",
       "\t<li>'155'</li>\n",
       "\t<li>'158'</li>\n",
       "\t<li>'160'</li>\n",
       "\t<li>'161'</li>\n",
       "\t<li>'162'</li>\n",
       "\t<li>'163'</li>\n",
       "\t<li>'164'</li>\n",
       "\t<li>'165'</li>\n",
       "\t<li>'166'</li>\n",
       "\t<li>'168'</li>\n",
       "\t<li>'169'</li>\n",
       "\t<li>'170'</li>\n",
       "\t<li>'171'</li>\n",
       "\t<li>'172'</li>\n",
       "\t<li>'173'</li>\n",
       "\t<li>'174'</li>\n",
       "\t<li>'175'</li>\n",
       "\t<li>'176'</li>\n",
       "\t<li>'177'</li>\n",
       "\t<li>'178'</li>\n",
       "\t<li>'181'</li>\n",
       "\t<li>'182'</li>\n",
       "\t<li>'183'</li>\n",
       "\t<li>'184'</li>\n",
       "\t<li>'185'</li>\n",
       "\t<li>'186'</li>\n",
       "\t<li>'187'</li>\n",
       "\t<li>'193'</li>\n",
       "\t<li>'194'</li>\n",
       "\t<li>'195'</li>\n",
       "\t<li>'1e+19'</li>\n",
       "</ol>\n"
      ],
      "text/latex": [
       "\\begin{enumerate*}\n",
       "\\item '152'\n",
       "\\item '153'\n",
       "\\item '155'\n",
       "\\item '158'\n",
       "\\item '160'\n",
       "\\item '161'\n",
       "\\item '162'\n",
       "\\item '163'\n",
       "\\item '164'\n",
       "\\item '165'\n",
       "\\item '166'\n",
       "\\item '168'\n",
       "\\item '169'\n",
       "\\item '170'\n",
       "\\item '171'\n",
       "\\item '172'\n",
       "\\item '173'\n",
       "\\item '174'\n",
       "\\item '175'\n",
       "\\item '176'\n",
       "\\item '177'\n",
       "\\item '178'\n",
       "\\item '181'\n",
       "\\item '182'\n",
       "\\item '183'\n",
       "\\item '184'\n",
       "\\item '185'\n",
       "\\item '186'\n",
       "\\item '187'\n",
       "\\item '193'\n",
       "\\item '194'\n",
       "\\item '195'\n",
       "\\item '1e+19'\n",
       "\\end{enumerate*}\n"
      ],
      "text/markdown": [
       "1. '152'\n",
       "2. '153'\n",
       "3. '155'\n",
       "4. '158'\n",
       "5. '160'\n",
       "6. '161'\n",
       "7. '162'\n",
       "8. '163'\n",
       "9. '164'\n",
       "10. '165'\n",
       "11. '166'\n",
       "12. '168'\n",
       "13. '169'\n",
       "14. '170'\n",
       "15. '171'\n",
       "16. '172'\n",
       "17. '173'\n",
       "18. '174'\n",
       "19. '175'\n",
       "20. '176'\n",
       "21. '177'\n",
       "22. '178'\n",
       "23. '181'\n",
       "24. '182'\n",
       "25. '183'\n",
       "26. '184'\n",
       "27. '185'\n",
       "28. '186'\n",
       "29. '187'\n",
       "30. '193'\n",
       "31. '194'\n",
       "32. '195'\n",
       "33. '1e+19'\n",
       "\n",
       "\n"
      ],
      "text/plain": [
       " [1] \"152\"   \"153\"   \"155\"   \"158\"   \"160\"   \"161\"   \"162\"   \"163\"   \"164\"  \n",
       "[10] \"165\"   \"166\"   \"168\"   \"169\"   \"170\"   \"171\"   \"172\"   \"173\"   \"174\"  \n",
       "[19] \"175\"   \"176\"   \"177\"   \"178\"   \"181\"   \"182\"   \"183\"   \"184\"   \"185\"  \n",
       "[28] \"186\"   \"187\"   \"193\"   \"194\"   \"195\"   \"1e+19\""
      ]
     },
     "metadata": {},
     "output_type": "display_data"
    }
   ],
   "source": [
    "tailleSort <- distinct(dataset2$taille)\n",
    "tailleSort"
   ]
  },
  {
   "cell_type": "markdown",
   "metadata": {},
   "source": [
    "Les valeurs de la taille et du poids sont ***disproportionnées***, par exemple respectivement $10^{19}$ et $10^7$.  \n",
    "Nous décidons de les remplacer par la ***moyenne nationale**, soit respectivement $175$ et $80$."
   ]
  },
  {
   "cell_type": "code",
   "execution_count": 213,
   "metadata": {
    "tags": [],
    "vscode": {
     "languageId": "r"
    }
   },
   "outputs": [
    {
     "data": {
      "text/html": [
       "<table>\n",
       "<thead><tr><th></th><th scope=col>promo</th><th scope=col>ecole</th><th scope=col>bac</th><th scope=col>etudes</th><th scope=col>exp</th><th scope=col>chang</th><th scope=col>contrat</th><th scope=col>employers</th><th scope=col>salaire</th><th scope=col>lieu</th><th scope=col>heureu</th><th scope=col>sexe</th><th scope=col>enfants</th><th scope=col>age</th><th scope=col>taille</th><th scope=col>poids</th></tr></thead>\n",
       "<tbody>\n",
       "\t<tr><th scope=row>3</th><td>2017        </td><td>B           </td><td>B           </td><td>CPS         </td><td>3           </td><td>2           </td><td>CDI         </td><td>[10;249]    </td><td>36000       </td><td>Grande_ville</td><td>OUI         </td><td>F           </td><td>Non         </td><td>25          </td><td>1e+19       </td><td>1e+07       </td></tr>\n",
       "</tbody>\n",
       "</table>\n"
      ],
      "text/latex": [
       "\\begin{tabular}{r|llllllllllllllll}\n",
       "  & promo & ecole & bac & etudes & exp & chang & contrat & employers & salaire & lieu & heureu & sexe & enfants & age & taille & poids\\\\\n",
       "\\hline\n",
       "\t3 & 2017           & B              & B              & CPS            & 3              & 2              & CDI            & {[}10;249{]}   & 36000          & Grande\\_ville & OUI            & F              & Non            & 25             & 1e+19          & 1e+07         \\\\\n",
       "\\end{tabular}\n"
      ],
      "text/markdown": [
       "\n",
       "| <!--/--> | promo | ecole | bac | etudes | exp | chang | contrat | employers | salaire | lieu | heureu | sexe | enfants | age | taille | poids |\n",
       "|---|---|---|---|---|---|---|---|---|---|---|---|---|---|---|---|---|\n",
       "| 3 | 2017         | B            | B            | CPS          | 3            | 2            | CDI          | [10;249]     | 36000        | Grande_ville | OUI          | F            | Non          | 25           | 1e+19        | 1e+07        |\n",
       "\n"
      ],
      "text/plain": [
       "  promo ecole bac etudes exp chang contrat employers salaire lieu        \n",
       "3 2017  B     B   CPS    3   2     CDI     [10;249]  36000   Grande_ville\n",
       "  heureu sexe enfants age taille poids\n",
       "3 OUI    F    Non     25  1e+19  1e+07"
      ]
     },
     "metadata": {},
     "output_type": "display_data"
    }
   ],
   "source": [
    "dataset2[\n",
    "    dataset2$taille == 1e+19\n",
    "    & !is.na(dataset2$taille)\n",
    "    ,\n",
    "]\n",
    "dataset2[3,15] <- 164 # c'est une femme\n",
    "dataset2[3,16] <- 65"
   ]
  },
  {
   "cell_type": "markdown",
   "metadata": {},
   "source": [
    "### Disperssion"
   ]
  },
  {
   "cell_type": "markdown",
   "metadata": {},
   "source": [
    "On s’intéressera donc au salaire de ces ingénieurs uniquement en ***France***.  \n",
    "Il reste $n=53$ ingénieurs dans la base de données.\n",
    "Sachant que le salaire est notre variable à expliquer, on peut se pencher sur sa boîte à **moustaches** et sa **distribution**."
   ]
  },
  {
   "cell_type": "code",
   "execution_count": 214,
   "metadata": {
    "tags": [],
    "vscode": {
     "languageId": "r"
    }
   },
   "outputs": [
    {
     "ename": "ERROR",
     "evalue": "Error in x[floor(d)] + x[ceiling(d)]: argument non numérique pour un opérateur binaire\n",
     "output_type": "error",
     "traceback": [
      "Error in x[floor(d)] + x[ceiling(d)]: argument non numérique pour un opérateur binaire\nTraceback:\n",
      "1. boxplot(dataset2[, colonne], xlab = names(dataset2)[colonne], \n .     horizontal = TRUE)",
      "2. boxplot.default(dataset2[, colonne], xlab = names(dataset2)[colonne], \n .     horizontal = TRUE)",
      "3. boxplot.stats(unclass(groups[[i]]), range)",
      "4. stats::fivenum(x, na.rm = TRUE)"
     ]
    },
    {
     "data": {
      "image/png": "[encoded data removed]",
      "text/plain": [
       "Plot with title \"Histograme\""
      ]
     },
     "metadata": {},
     "output_type": "display_data"
    }
   ],
   "source": [
    "colonne <- \"sexe\"\n",
    "#tableColonne <- table(dataset2[,colonne])\n",
    "#tableColonne\n",
    "tableColonne <- as.factor(dataset2[,colonne])\n",
    "#summary(tableColonne)\n",
    "plot(tableColonne,\n",
    "    , main = \"Histograme\"\n",
    "    , xlab = names(dataset2)[colonne]\n",
    "    , ylab = \"Effecitf\"\n",
    "    )\n",
    "boxplot(dataset2[,colonne], xlab = names(dataset2)[colonne], horizontal = TRUE)\n",
    "#hist(dataset2[,colonne],main = )"
   ]
  },
  {
   "cell_type": "markdown",
   "metadata": {},
   "source": [
    "On observe une forte propotion de personne avec peut experience de travaille par raport à l'effectife de promotion eyant repondu au sondage.  \n",
    "Il sont en general ``satisfait`` de leur travaille se qui pourais explique le peut de ``changement`` d'entreprise.  \n",
    "\n",
    "On remarque aussi des points extremes en `salaire`"
   ]
  },
  {
   "cell_type": "code",
   "execution_count": 215,
   "metadata": {
    "tags": [],
    "vscode": {
     "languageId": "r"
    }
   },
   "outputs": [
    {
     "data": {
      "text/html": [
       "<table>\n",
       "<thead><tr><th scope=col>promo</th><th scope=col>ecole</th><th scope=col>bac</th><th scope=col>etudes</th><th scope=col>exp</th><th scope=col>chang</th><th scope=col>contrat</th><th scope=col>employers</th><th scope=col>salaire</th><th scope=col>lieu</th><th scope=col>heureu</th><th scope=col>sexe</th><th scope=col>enfants</th><th scope=col>age</th><th scope=col>taille</th><th scope=col>poids</th></tr></thead>\n",
       "<tbody>\n",
       "</tbody>\n",
       "</table>\n"
      ],
      "text/latex": [
       "\\begin{tabular}{r|llllllllllllllll}\n",
       " promo & ecole & bac & etudes & exp & chang & contrat & employers & salaire & lieu & heureu & sexe & enfants & age & taille & poids\\\\\n",
       "\\hline\n",
       "\\end{tabular}\n"
      ],
      "text/markdown": [
       "\n",
       "| promo | ecole | bac | etudes | exp | chang | contrat | employers | salaire | lieu | heureu | sexe | enfants | age | taille | poids |\n",
       "|---|---|---|---|---|---|---|---|---|---|---|---|---|---|---|---|\n",
       "\n"
      ],
      "text/plain": [
       "     promo ecole bac etudes exp chang contrat employers salaire lieu heureu\n",
       "     sexe enfants age taille poids"
      ]
     },
     "metadata": {},
     "output_type": "display_data"
    },
    {
     "data": {
      "text/html": [
       "<table>\n",
       "<thead><tr><th></th><th scope=col>promo</th><th scope=col>ecole</th><th scope=col>bac</th><th scope=col>etudes</th><th scope=col>exp</th><th scope=col>chang</th><th scope=col>contrat</th><th scope=col>employers</th><th scope=col>salaire</th><th scope=col>lieu</th><th scope=col>heureu</th><th scope=col>sexe</th><th scope=col>enfants</th><th scope=col>age</th><th scope=col>taille</th><th scope=col>poids</th></tr></thead>\n",
       "<tbody>\n",
       "\t<tr><th scope=row>29</th><td>2014        </td><td>AB          </td><td>Sans        </td><td>DUT         </td><td> 6          </td><td>4           </td><td>CDI         </td><td>[10;249]    </td><td>60000       </td><td>Capital     </td><td>OUI         </td><td>F           </td><td>Oui         </td><td>30          </td><td>182         </td><td>68          </td></tr>\n",
       "\t<tr><th scope=row>38</th><td>2010        </td><td>AB          </td><td>AB          </td><td>CPS         </td><td>10          </td><td>6           </td><td>CDI         </td><td>[5000;+]    </td><td>75000       </td><td>Grande_ville</td><td>OUI         </td><td>F           </td><td>Oui         </td><td>33          </td><td> NA         </td><td>NA          </td></tr>\n",
       "</tbody>\n",
       "</table>\n"
      ],
      "text/latex": [
       "\\begin{tabular}{r|llllllllllllllll}\n",
       "  & promo & ecole & bac & etudes & exp & chang & contrat & employers & salaire & lieu & heureu & sexe & enfants & age & taille & poids\\\\\n",
       "\\hline\n",
       "\t29 & 2014         & AB           & Sans         & DUT          &  6           & 4            & CDI          & {[}10;249{]} & 60000        & Capital      & OUI          & F            & Oui          & 30           & 182          & 68          \\\\\n",
       "\t38 & 2010           & AB             & AB             & CPS            & 10             & 6              & CDI            & {[}5000;+{]}   & 75000          & Grande\\_ville & OUI            & F              & Oui            & 33             &  NA            & NA            \\\\\n",
       "\\end{tabular}\n"
      ],
      "text/markdown": [
       "\n",
       "| <!--/--> | promo | ecole | bac | etudes | exp | chang | contrat | employers | salaire | lieu | heureu | sexe | enfants | age | taille | poids |\n",
       "|---|---|---|---|---|---|---|---|---|---|---|---|---|---|---|---|---|\n",
       "| 29 | 2014         | AB           | Sans         | DUT          |  6           | 4            | CDI          | [10;249]     | 60000        | Capital      | OUI          | F            | Oui          | 30           | 182          | 68           |\n",
       "| 38 | 2010         | AB           | AB           | CPS          | 10           | 6            | CDI          | [5000;+]     | 75000        | Grande_ville | OUI          | F            | Oui          | 33           |  NA          | NA           |\n",
       "\n"
      ],
      "text/plain": [
       "   promo ecole bac  etudes exp chang contrat employers salaire lieu        \n",
       "29 2014  AB    Sans DUT     6  4     CDI     [10;249]  60000   Capital     \n",
       "38 2010  AB    AB   CPS    10  6     CDI     [5000;+]  75000   Grande_ville\n",
       "   heureu sexe enfants age taille poids\n",
       "29 OUI    F    Oui     30  182    68   \n",
       "38 OUI    F    Oui     33   NA    NA   "
      ]
     },
     "metadata": {},
     "output_type": "display_data"
    }
   ],
   "source": [
    "colonne <- 9\n",
    "Q1 <- quantile(\n",
    "    x = dataset2[colonne]\n",
    "    , prob = .25 \n",
    "    , na.rm = TRUE\n",
    "    )\n",
    "Q3 <- quantile(\n",
    "    x = dataset2[colonne]\n",
    "    , prob = .75\n",
    "    , na.rm = TRUE\n",
    "    )\n",
    "QI <- as.numeric(Q3 - Q1)\n",
    "QIR <- as.numeric(c(\n",
    "    Q1 - 1.5 * QI\n",
    "    , Q3 + 1.5 * QI\n",
    "    ))\n",
    "dataset2[dataset2[colonne] < QIR[1] & !is.na(dataset2[colonne]),]\n",
    "dataset2[dataset2[colonne] > QIR[2] & !is.na(dataset2[colonne]),]"
   ]
  },
  {
   "cell_type": "markdown",
   "metadata": {},
   "source": [
    "Il est ***difficile*** de déterminer si les valeurs du **salaire** sont aberrantes ou non, à partir des résultats obtenus.  \n",
    "Pour la catégorie du **nombre de changements d'entreprise**, elles semblent plutôt ***cohérentes*** dans la globalité.  \n",
    "Aucune modification ne sera opérée, on les gardera à l'esprit."
   ]
  },
  {
   "cell_type": "markdown",
   "metadata": {},
   "source": [
    "### Dépendence"
   ]
  },
  {
   "cell_type": "code",
   "execution_count": 216,
   "metadata": {
    "vscode": {
     "languageId": "r"
    }
   },
   "outputs": [
    {
     "data": {
      "text/plain": [
       "\n",
       "\tWelch Two Sample t-test\n",
       "\n",
       "data:  dataset2[\"taille\"] and dataset2[\"poids\"]\n",
       "t = 41.38, df = 89.847, p-value < 2.2e-16\n",
       "alternative hypothesis: true difference in means is not equal to 0\n",
       "99 percent confidence interval:\n",
       "  96.69663 109.83121\n",
       "sample estimates:\n",
       "mean of x mean of y \n",
       " 171.8039   68.5400 \n"
      ]
     },
     "metadata": {},
     "output_type": "display_data"
    },
    {
     "data": {
      "text/plain": [
       "\n",
       "\tWelch Two Sample t-test\n",
       "\n",
       "data:  dataset2[\"promo\"] and dataset2[\"exp\"]\n",
       "t = 3961.6, df = 109.07, p-value < 2.2e-16\n",
       "alternative hypothesis: true difference in means is not equal to 0\n",
       "99 percent confidence interval:\n",
       " 2010.972 2013.635\n",
       "sample estimates:\n",
       "  mean of x   mean of y \n",
       "2016.232143    3.928571 \n"
      ]
     },
     "metadata": {},
     "output_type": "display_data"
    },
    {
     "data": {
      "text/plain": [
       "\n",
       "\tWelch Two Sample t-test\n",
       "\n",
       "data:  dataset2[\"exp\"] and dataset2[\"chang\"]\n",
       "t = 3.7365, df = 93.547, p-value = 0.0003209\n",
       "alternative hypothesis: true difference in means is not equal to 0\n",
       "99 percent confidence interval:\n",
       " 0.449714 2.586000\n",
       "sample estimates:\n",
       "mean of x mean of y \n",
       " 3.928571  2.410714 \n"
      ]
     },
     "metadata": {},
     "output_type": "display_data"
    },
    {
     "data": {
      "text/plain": [
       "\n",
       "\tWelch Two Sample t-test\n",
       "\n",
       "data:  dataset2[\"age\"] and dataset2[\"chang\"]\n",
       "t = 53.944, df = 83.504, p-value < 2.2e-16\n",
       "alternative hypothesis: true difference in means is not equal to 0\n",
       "99 percent confidence interval:\n",
       " 24.03314 26.50258\n",
       "sample estimates:\n",
       "mean of x mean of y \n",
       "27.678571  2.410714 \n"
      ]
     },
     "metadata": {},
     "output_type": "display_data"
    },
    {
     "data": {
      "text/plain": [
       "\n",
       "\tOne Sample t-test\n",
       "\n",
       "data:  table(dataset2[, \"employers\"], dataset2[, \"lieu\"])\n",
       "t = 5.5697, df = 11, p-value = 0.0001677\n",
       "alternative hypothesis: true mean is not equal to 0\n",
       "99 percent confidence interval:\n",
       " 2.064416 7.268918\n",
       "sample estimates:\n",
       "mean of x \n",
       " 4.666667 \n"
      ]
     },
     "metadata": {},
     "output_type": "display_data"
    }
   ],
   "source": [
    "t.test(x=dataset2[\"taille\"],y=dataset2[\"poids\"],conf.level = 0.99)\n",
    "#graphique(x = dataset2[\"taille\"],y = dataset2[\"poids\"])\n",
    "\n",
    "t.test(x=dataset2[\"promo\"],y=dataset2[\"exp\"],conf.level = 0.99)\n",
    "#graphique(x = dataset2[14],y = dataset2[6])\n",
    "\n",
    "t.test(x=dataset2[\"exp\"],y=dataset2[\"chang\"],conf.level = 0.99)\n",
    "#graphique(x = dataset2[5],y = dataset2[6])\n",
    "\n",
    "t.test(x=dataset2[\"age\"],y=dataset2[\"chang\"],conf.level = 0.99)\n",
    "#graphique(x = dataset2[14],y = dataset2[6])\n",
    "\n",
    "#table(dataset2[,\"employers\"],dataset2[,\"lieu\"])\n",
    "t.test(table(dataset2[,\"employers\"],dataset2[,\"lieu\"]),conf.level = 0.99)\n",
    "#graphique(x = dataset2[,10],y = dataset2[,8])"
   ]
  },
  {
   "cell_type": "code",
   "execution_count": 217,
   "metadata": {
    "vscode": {
     "languageId": "r"
    }
   },
   "outputs": [],
   "source": [
    "dataset3 <- cbind(dataset2, dataset2[\"poids\"] / (dataset2[\"taille\"]/100)^2)\n",
    "colnames(dataset3)[length(dataset3)] <- \"IMC\"\n",
    "\n",
    "dataset3 <- cbind(dataset3, dataset3[\"exp\"] / (2021-dataset3[\"promo\"]))\n",
    "colnames(dataset3)[length(dataset3)] <- \"exp/promo\"\n",
    "\n",
    "dataset3 <- cbind(dataset3, dataset3[\"exp\"] / dataset3[\"chang\"])\n",
    "colnames(dataset3)[length(dataset3)] <- \"exp/chang\""
   ]
  },
  {
   "cell_type": "code",
   "execution_count": 218,
   "metadata": {
    "vscode": {
     "languageId": "r"
    }
   },
   "outputs": [
    {
     "data": {
      "text/plain": [
       "   Min. 1st Qu.  Median    Mean 3rd Qu.    Max.    NA's \n",
       "  16.97   19.83   23.79   23.01   25.24   29.74       6 "
      ]
     },
     "metadata": {},
     "output_type": "display_data"
    }
   ],
   "source": [
    "summary(dataset3[,\"IMC\"])"
   ]
  },
  {
   "cell_type": "markdown",
   "metadata": {},
   "source": [
    "l’IMC maximale est de 28 : on n’a donc dans notre échantillon que des individus à corpulence normale (puisque l’obésité est défini au-delà de 30)."
   ]
  },
  {
   "cell_type": "code",
   "execution_count": 219,
   "metadata": {
    "vscode": {
     "languageId": "r"
    }
   },
   "outputs": [
    {
     "data": {
      "text/plain": [
       "\n",
       "\tOne Sample t-test\n",
       "\n",
       "data:  table(dataset3[, \"sexe\"], dataset3[, \"IMC\"])\n",
       "t = 9.8672, df = 93, p-value = 3.907e-16\n",
       "alternative hypothesis: true mean is not equal to 0\n",
       "99 percent confidence interval:\n",
       " 0.3901531 0.6736767\n",
       "sample estimates:\n",
       "mean of x \n",
       "0.5319149 \n"
      ]
     },
     "metadata": {},
     "output_type": "display_data"
    }
   ],
   "source": [
    "#table(dataset2[,\"sexe\"],dataset2[,\"taille/poids\"])\n",
    "t.test(table(dataset3[,\"sexe\"],dataset3[,\"IMC\"]),conf.level = 0.99)\n",
    "#graphique(x = dataset2[,\"sexe\"],y = dataset2[,\"taille/poids\"])"
   ]
  },
  {
   "cell_type": "markdown",
   "metadata": {},
   "source": [
    "Certaines variables ne sont pas indépendantes entre elles, il serait préférable de faire un produit entre deux variables dépendantes entre elles.  \n",
    "On constate ci-dessus, que se sont des ***variables dépendantes*** entre elles dans notre echantillon.  \n",
    "Nous ne prendrons pas les nouvelles variables en rapport avec l'**âge** car elles sont ***difficiles*** à expliquer de manière objective.  \n",
    "La nouvelle variable qui dépend de l'emplacement et de la taille de l'**entreprise** est plus ***complexe*** à définir.\n",
    "\n",
    "Explication des nouvelles variables :\n",
    "- **IMC**  : l’Indice de Masse Corporelle.\n",
    "- **exp/promo** : l'experience realiser sur le nombre d'experience possible\n",
    "- **exp/chang** : c'est la moyenne d'années accordées à chaque employeur."
   ]
  },
  {
   "cell_type": "markdown",
   "metadata": {},
   "source": [
    "## Régression"
   ]
  },
  {
   "cell_type": "markdown",
   "metadata": {},
   "source": [
    "### Représentation"
   ]
  },
  {
   "cell_type": "code",
   "execution_count": 220,
   "metadata": {
    "vscode": {
     "languageId": "r"
    }
   },
   "outputs": [
    {
     "name": "stdout",
     "output_type": "stream",
     "text": [
      "\n",
      "Call:\n",
      "lm(formula = data[, Y] ~ data[, colonne])\n",
      "\n",
      "Residuals:\n",
      "   Min     1Q Median     3Q    Max \n",
      "-16493  -5247  -1375   4065  33507 \n",
      "\n",
      "Coefficients:\n",
      "                    Estimate Std. Error t value Pr(>|t|)    \n",
      "(Intercept)          41493.2     2573.3  16.125   <2e-16 ***\n",
      "data[, colonne]B     -5558.1     3113.9  -1.785   0.0813 .  \n",
      "data[, colonne]Sans   -493.2     5942.7  -0.083   0.9342    \n",
      "data[, colonne]TB    -4493.2     5942.7  -0.756   0.4537    \n",
      "---\n",
      "Signif. codes:  0 '***' 0.001 '**' 0.01 '*' 0.05 '.' 0.1 ' ' 1\n",
      "\n",
      "Residual standard error: 9278 on 43 degrees of freedom\n",
      "  (9 observations deleted due to missingness)\n",
      "Multiple R-squared:  0.07662,\tAdjusted R-squared:  0.0122 \n",
      "F-statistic: 1.189 on 3 and 43 DF,  p-value: 0.3251\n",
      "\n"
     ]
    },
    {
     "name": "stderr",
     "output_type": "stream",
     "text": [
      "BIC :  1007.17894198343\n",
      "p-value :  0.325080909952881\n"
     ]
    },
    {
     "data": {
      "image/png": "[encoded data removed]",
      "text/plain": [
       "Plot with title \"\""
      ]
     },
     "metadata": {},
     "output_type": "display_data"
    },
    {
     "data": {
      "image/png": "[encoded data removed]",
      "text/plain": [
       "Plot with title \"\""
      ]
     },
     "metadata": {},
     "output_type": "display_data"
    },
    {
     "data": {
      "image/png": "[encoded data removed]",
      "text/plain": [
       "Plot with title \"\""
      ]
     },
     "metadata": {},
     "output_type": "display_data"
    },
    {
     "data": {
      "image/png": "[encoded data removed]",
      "text/plain": [
       "Plot with title \"\""
      ]
     },
     "metadata": {},
     "output_type": "display_data"
    }
   ],
   "source": [
    "afficheModel(data = dataset3, colonne = \"ecole\")"
   ]
  },
  {
   "cell_type": "markdown",
   "metadata": {},
   "source": [
    "Pour la version en ligne, vous pouvez ***défiler*** les différents graphiques en modifiant la variable `colonne` de la fonction ci-dessous."
   ]
  },
  {
   "cell_type": "markdown",
   "metadata": {},
   "source": [
    "Au cours du défilement, nous n'avons pas constaté de modification à effectuer sur des variables par une ***fonction***.\n",
    "Nous avons remaquer que pour ``ecole``,\t``bac`` et ``etudes`` ne représante pas le ``salaire``. Elles seront donc retirer cette variable du modèle final."
   ]
  },
  {
   "cell_type": "markdown",
   "metadata": {},
   "source": [
    "Nous avons cependant bien sûr constaté que, comparativement à une interprétation humaine, les droites de régression ne sont toujours ***pas suffisamment inclinées***, due aux points extrêmes des salaire laissés.  \n",
    "Nous envisagerons de les ***conserver*** afin d'obtenir un modèle plus robuste et que dans leur globalité et ses valeurs ne sont pas aussi aberrantes."
   ]
  },
  {
   "cell_type": "markdown",
   "metadata": {},
   "source": [
    "### Distribution"
   ]
  },
  {
   "cell_type": "markdown",
   "metadata": {},
   "source": [
    "Lors de notre première régression, nous avions omis de distribuer les catégories des colonnes.  \n",
    "Cela signifie que chaque catégorie des colonnes non continues (caractère) sera ***distribuée*** en autant de colonnes binaires.\n",
    "Nous avons observé que les résultats de régression pour la même cathegorie d'interception étaient différents entre la mise ortogonal automatique et notre distribution.  \n",
    "Nous sélectionnerons la colonne de référence à la fin."
   ]
  },
  {
   "cell_type": "code",
   "execution_count": 221,
   "metadata": {
    "vscode": {
     "languageId": "r"
    }
   },
   "outputs": [
    {
     "data": {
      "text/html": [
       "<table>\n",
       "<thead><tr><th></th><th scope=col>promo</th><th scope=col>ecole</th><th scope=col>bac</th><th scope=col>etudes</th><th scope=col>exp</th><th scope=col>chang</th><th scope=col>contrat</th><th scope=col>employers</th><th scope=col>salaire</th><th scope=col>lieu</th><th scope=col>...</th><th scope=col>employers[5000;+]</th><th scope=col>lieuAutre_ville</th><th scope=col>lieuCapital</th><th scope=col>lieuGrande_ville</th><th scope=col>heureuNON</th><th scope=col>heureuOUI</th><th scope=col>sexeF</th><th scope=col>sexeH</th><th scope=col>enfantsNon</th><th scope=col>enfantsOui</th></tr></thead>\n",
       "<tbody>\n",
       "\t<tr><th scope=row>60</th><td>2019        </td><td>B           </td><td>TB          </td><td>CPS         </td><td>2.0         </td><td>2           </td><td>CDI         </td><td>[10;249]    </td><td>32000       </td><td>Autre_ville </td><td>...         </td><td>0           </td><td>1           </td><td>0           </td><td>0           </td><td>0           </td><td>1           </td><td>0           </td><td>1           </td><td>1           </td><td>0           </td></tr>\n",
       "\t<tr><th scope=row>61</th><td>2019        </td><td>AB          </td><td>AB          </td><td>CPS         </td><td>2.0         </td><td>1           </td><td>CDI         </td><td>[10;249]    </td><td>40000       </td><td>Capital     </td><td>...         </td><td>0           </td><td>0           </td><td>1           </td><td>0           </td><td>0           </td><td>1           </td><td>0           </td><td>1           </td><td>1           </td><td>0           </td></tr>\n",
       "\t<tr><th scope=row>62</th><td>2013        </td><td>B           </td><td>Sans        </td><td>Licence     </td><td>7.0         </td><td>2           </td><td>CDI         </td><td>[5000;+]    </td><td>40000       </td><td>Capital     </td><td>...         </td><td>1           </td><td>0           </td><td>1           </td><td>0           </td><td>0           </td><td>1           </td><td>1           </td><td>0           </td><td>1           </td><td>0           </td></tr>\n",
       "\t<tr><th scope=row>63</th><td>2019        </td><td>B           </td><td>TB          </td><td>CPS         </td><td>1.0         </td><td>1           </td><td>CDI         </td><td>[5000;+]    </td><td>33000       </td><td>Grande_ville</td><td>...         </td><td>1           </td><td>0           </td><td>0           </td><td>1           </td><td>0           </td><td>1           </td><td>1           </td><td>0           </td><td>1           </td><td>0           </td></tr>\n",
       "\t<tr><th scope=row>64</th><td>2010        </td><td>B           </td><td>B           </td><td>CPS         </td><td>3.5         </td><td>4           </td><td>CDD         </td><td>[10;249]    </td><td>34560       </td><td>Capital     </td><td>...         </td><td>0           </td><td>0           </td><td>1           </td><td>0           </td><td>0           </td><td>1           </td><td>1           </td><td>0           </td><td>1           </td><td>0           </td></tr>\n",
       "\t<tr><th scope=row>65</th><td>2016        </td><td>B           </td><td>Sans        </td><td>Licence     </td><td>3.0         </td><td>2           </td><td>CDI         </td><td>[0;10]      </td><td>32500       </td><td>Grande_ville</td><td>...         </td><td>0           </td><td>0           </td><td>0           </td><td>1           </td><td>0           </td><td>1           </td><td>0           </td><td>1           </td><td>0           </td><td>1           </td></tr>\n",
       "</tbody>\n",
       "</table>\n"
      ],
      "text/latex": [
       "\\begin{tabular}{r|lllllllllllllllllllllllllllllllllllllllllllllll}\n",
       "  & promo & ecole & bac & etudes & exp & chang & contrat & employers & salaire & lieu & ... & employers{[}5000;+{]} & lieuAutre\\_ville & lieuCapital & lieuGrande\\_ville & heureuNON & heureuOUI & sexeF & sexeH & enfantsNon & enfantsOui\\\\\n",
       "\\hline\n",
       "\t60 & 2019           & B              & TB             & CPS            & 2.0            & 2              & CDI            & {[}10;249{]}   & 32000          & Autre\\_ville  & ...            & 0              & 1              & 0              & 0              & 0              & 1              & 0              & 1              & 1              & 0             \\\\\n",
       "\t61 & 2019         & AB           & AB           & CPS          & 2.0          & 1            & CDI          & {[}10;249{]} & 40000        & Capital      & ...          & 0            & 0            & 1            & 0            & 0            & 1            & 0            & 1            & 1            & 0           \\\\\n",
       "\t62 & 2013         & B            & Sans         & Licence      & 7.0          & 2            & CDI          & {[}5000;+{]} & 40000        & Capital      & ...          & 1            & 0            & 1            & 0            & 0            & 1            & 1            & 0            & 1            & 0           \\\\\n",
       "\t63 & 2019           & B              & TB             & CPS            & 1.0            & 1              & CDI            & {[}5000;+{]}   & 33000          & Grande\\_ville & ...            & 1              & 0              & 0              & 1              & 0              & 1              & 1              & 0              & 1              & 0             \\\\\n",
       "\t64 & 2010         & B            & B            & CPS          & 3.5          & 4            & CDD          & {[}10;249{]} & 34560        & Capital      & ...          & 0            & 0            & 1            & 0            & 0            & 1            & 1            & 0            & 1            & 0           \\\\\n",
       "\t65 & 2016           & B              & Sans           & Licence        & 3.0            & 2              & CDI            & {[}0;10{]}     & 32500          & Grande\\_ville & ...            & 0              & 0              & 0              & 1              & 0              & 1              & 0              & 1              & 0              & 1             \\\\\n",
       "\\end{tabular}\n"
      ],
      "text/markdown": [
       "\n",
       "| <!--/--> | promo | ecole | bac | etudes | exp | chang | contrat | employers | salaire | lieu | ... | employers[5000;+] | lieuAutre_ville | lieuCapital | lieuGrande_ville | heureuNON | heureuOUI | sexeF | sexeH | enfantsNon | enfantsOui |\n",
       "|---|---|---|---|---|---|---|---|---|---|---|---|---|---|---|---|---|---|---|---|---|---|\n",
       "| 60 | 2019         | B            | TB           | CPS          | 2.0          | 2            | CDI          | [10;249]     | 32000        | Autre_ville  | ...          | 0            | 1            | 0            | 0            | 0            | 1            | 0            | 1            | 1            | 0            |\n",
       "| 61 | 2019         | AB           | AB           | CPS          | 2.0          | 1            | CDI          | [10;249]     | 40000        | Capital      | ...          | 0            | 0            | 1            | 0            | 0            | 1            | 0            | 1            | 1            | 0            |\n",
       "| 62 | 2013         | B            | Sans         | Licence      | 7.0          | 2            | CDI          | [5000;+]     | 40000        | Capital      | ...          | 1            | 0            | 1            | 0            | 0            | 1            | 1            | 0            | 1            | 0            |\n",
       "| 63 | 2019         | B            | TB           | CPS          | 1.0          | 1            | CDI          | [5000;+]     | 33000        | Grande_ville | ...          | 1            | 0            | 0            | 1            | 0            | 1            | 1            | 0            | 1            | 0            |\n",
       "| 64 | 2010         | B            | B            | CPS          | 3.5          | 4            | CDD          | [10;249]     | 34560        | Capital      | ...          | 0            | 0            | 1            | 0            | 0            | 1            | 1            | 0            | 1            | 0            |\n",
       "| 65 | 2016         | B            | Sans         | Licence      | 3.0          | 2            | CDI          | [0;10]       | 32500        | Grande_ville | ...          | 0            | 0            | 0            | 1            | 0            | 1            | 0            | 1            | 0            | 1            |\n",
       "\n"
      ],
      "text/plain": [
       "   promo ecole bac  etudes  exp chang contrat employers salaire lieu        \n",
       "60 2019  B     TB   CPS     2.0 2     CDI     [10;249]  32000   Autre_ville \n",
       "61 2019  AB    AB   CPS     2.0 1     CDI     [10;249]  40000   Capital     \n",
       "62 2013  B     Sans Licence 7.0 2     CDI     [5000;+]  40000   Capital     \n",
       "63 2019  B     TB   CPS     1.0 1     CDI     [5000;+]  33000   Grande_ville\n",
       "64 2010  B     B    CPS     3.5 4     CDD     [10;249]  34560   Capital     \n",
       "65 2016  B     Sans Licence 3.0 2     CDI     [0;10]    32500   Grande_ville\n",
       "   ... employers[5000;+] lieuAutre_ville lieuCapital lieuGrande_ville heureuNON\n",
       "60 ... 0                 1               0           0                0        \n",
       "61 ... 0                 0               1           0                0        \n",
       "62 ... 1                 0               1           0                0        \n",
       "63 ... 1                 0               0           1                0        \n",
       "64 ... 0                 0               1           0                0        \n",
       "65 ... 0                 0               0           1                0        \n",
       "   heureuOUI sexeF sexeH enfantsNon enfantsOui\n",
       "60 1         0     1     1          0         \n",
       "61 1         0     1     1          0         \n",
       "62 1         1     0     1          0         \n",
       "63 1         1     0     1          0         \n",
       "64 1         1     0     1          0         \n",
       "65 1         0     1     0          1         "
      ]
     },
     "metadata": {},
     "output_type": "display_data"
    }
   ],
   "source": [
    "categorie <- function(\n",
    "    data\n",
    "    , colonne\n",
    "    , exept\n",
    "    ) {\n",
    "        vectorNull <- as.numeric(rep(0, nrow(data)))\n",
    "        if (missing(exept)) {exept <- \"\"}\n",
    "        #print(data[colonne])\n",
    "        listeUnique <- distinct(data[,colonne])\n",
    "        #print(listeUnique)\n",
    "        dataNew <- data\n",
    "        for (index in seq(length(listeUnique))) {\n",
    "            dataNew <- cbind(\n",
    "                dataNew\n",
    "                , if (listeUnique[index] == exept) {vectorNull} else {\n",
    "                    as.numeric(replacElement(\n",
    "                        listeData = data[,colonne]\n",
    "                        , listeModif = vectorNull\n",
    "                        , element = listeUnique[index]\n",
    "                        , ramplace = 1\n",
    "                        ))\n",
    "                    }\n",
    "                )\n",
    "            colnames(dataNew)[length(dataNew)] <- paste( # modifier le nom de la colonne\n",
    "                names(data)[colonne]\n",
    "                , listeUnique[index]\n",
    "                , sep = \"\" # separation\n",
    "                )\n",
    "            }\n",
    "        return(dataNew)\n",
    "        }\n",
    "dataset4 <- categorie(data = dataset3, colonne = 2)#, exept = \"AB\")\n",
    "#regression(affiche = TRUE, data = dataset2, element = c(2))\n",
    "#regression(affiche = TRUE, data = dataset3, element = c(17,18,19,20))\n",
    "for (index in indexChar[-1]) {\n",
    "    dataset4 <- categorie(data = dataset4, colonne = index)\n",
    "    }\n",
    "tail(dataset4)\n",
    "indexEcole <- c(20,21,22,23)\n",
    "indexBac <- c(24,25,26,27)\n",
    "indexEtudes <- c(28,29,30,31,32)\n",
    "indexContrat <- c(33,34)\n",
    "indexEmployers <- c(35,36,37,38)\n",
    "indexLieu <- c(39,40,41,42,43)\n",
    "indexHeureu <- c(44,45)\n",
    "indexSexe <- c(46,47)\n",
    "indexEnfants <- c(48,49)"
   ]
  },
  {
   "cell_type": "code",
   "execution_count": 230,
   "metadata": {
    "vscode": {
     "languageId": "r"
    }
   },
   "outputs": [
    {
     "name": "stdout",
     "output_type": "stream",
     "text": [
      "\n",
      "Call:\n",
      "lm(formula = data[, Y] ~ ., data = dataVariable)\n",
      "\n",
      "Residuals:\n",
      "   Min     1Q Median     3Q    Max \n",
      "-15215  -3911  -1129   3533  23372 \n",
      "\n",
      "Coefficients:\n",
      "                   Estimate Std. Error t value Pr(>|t|)    \n",
      "(Intercept)         27106.5     7566.4   3.582 0.000793 ***\n",
      "data...element.1..    463.8      325.4   1.425 0.160568    \n",
      "---\n",
      "Signif. codes:  0 '***' 0.001 '**' 0.01 '*' 0.05 '.' 0.1 ' ' 1\n",
      "\n",
      "Residual standard error: 7679 on 48 degrees of freedom\n",
      "  (6 observations deleted due to missingness)\n",
      "Multiple R-squared:  0.0406,\tAdjusted R-squared:  0.02061 \n",
      "F-statistic: 2.031 on 1 and 48 DF,  p-value: 0.1606\n",
      "\n"
     ]
    },
    {
     "data": {
      "text/html": [
       "<dl class=dl-horizontal>\n",
       "\t<dt>1</dt>\n",
       "\t\t<dd>'1046.21102329398'</dd>\n",
       "\t<dt>2</dt>\n",
       "\t\t<dd>'0.160568185538459'</dd>\n",
       "\t<dt>3</dt>\n",
       "\t\t<dd>'Y= 27106 +X_{ data...element.1.. }* 463'</dd>\n",
       "\t<dt>(Intercept)</dt>\n",
       "\t\t<dd>'27106.4960550968'</dd>\n",
       "\t<dt>data...element.1..</dt>\n",
       "\t\t<dd>'463.790363469851'</dd>\n",
       "</dl>\n"
      ],
      "text/latex": [
       "\\begin{description*}\n",
       "\\item[1] '1046.21102329398'\n",
       "\\item[2] '0.160568185538459'\n",
       "\\item[3] 'Y= 27106 +X\\_\\{ data...element.1.. \\}* 463'\n",
       "\\item[(Intercept)] '27106.4960550968'\n",
       "\\item[data...element.1..] '463.790363469851'\n",
       "\\end{description*}\n"
      ],
      "text/markdown": [
       "1\n",
       ":   '1046.21102329398'2\n",
       ":   '0.160568185538459'3\n",
       ":   'Y= 27106 +X_{ data...element.1.. }* 463'(Intercept)\n",
       ":   '27106.4960550968'data...element.1..\n",
       ":   '463.790363469851'\n",
       "\n"
      ],
      "text/plain": [
       "                                          \n",
       "                       \"1046.21102329398\" \n",
       "                                          \n",
       "                      \"0.160568185538459\" \n",
       "                                          \n",
       "\"Y= 27106 +X_{ data...element.1.. }* 463\" \n",
       "                              (Intercept) \n",
       "                       \"27106.4960550968\" \n",
       "                       data...element.1.. \n",
       "                       \"463.790363469851\" "
      ]
     },
     "metadata": {},
     "output_type": "display_data"
    }
   ],
   "source": [
    "choix <- c('ecoleAB','ecoleB','ecoleTB') #,'ecoleSans' | coefficient ... | p-value=96% & R²=0% & BIC=1340\n",
    "choix <- c('bacAB','bacB','bacTB') #,'bacSans' | coefficient ... | p-value=78% & R²=2% & BIC=1339\n",
    "choix <- c('etudesBTS','etudesDUT','etudesCPL','etudesCPS') #,'etudesLicence' | coefficient ... | p-value=100% & R²=0% & BIC=1344\n",
    "choix <- c('contratCDI') #'contratCDD', | coefficient positive | p-value=0% & R²=15% & BIC=1322\n",
    "choix <- c('employers[10;249]','employers[250;4999]','employers[5000;+]') #'employers[0;10]', | coefficient croissant | p-value=44% & R²=5% & BIC=1338\n",
    "choix <- c('lieuGrande_ville','lieuCapital','lieuUE','lieuHors_UE') #'lieuAutre_ville', | coefficient \"croissant\" | p-value=0% & R²=60% & BIC=1289\n",
    "choix <- c('heureuOUI') #'heureuNON', | coefficient positive | p-value=43% & R²=1% & BIC=1332\n",
    "choix <- c('sexeF') #,'sexeH' | coefficient positive | p-value=44% & R²=1% & BIC=1332\n",
    "choix <- c('enfantsOui') #'enfantsNon', | coefficient positive | p-value=10% & R²=4% & BIC=1329\n",
    "choix <- c('age') # coefficient positive | p-value=5% & R²=6% & BIC=1328\n",
    "choix <- c('IMC') # coefficient negative | p-value=47% & R²=1% & BIC=1177\n",
    "regression(affiche = TRUE, data = dataset4, element = choix)\n",
    "choix <- c('promo/exp') # coefficient negative | p-value=0% & R²=14% & BIC=1323\n",
    "choix <- c('exp/chang') # coefficient negative | p-value=44% & R²=7% & BIC=1328"
   ]
  },
  {
   "cell_type": "markdown",
   "metadata": {},
   "source": [
    "Quelques remarques sur les coefficients des régressions :\n",
    "\n",
    "1. **Année de promotion** : diminue avec le temps, alors la valeur de la monnaie augmente de 2 % par an. Rappelons que l'effectif entre 2010 et 2013 est faible.\n",
    "2. **mention à l'école** : les ***coefficients sont incohérents*** (une personne avec la mention très bien serait moins bien payé qu'une personne sans mention) car ils ne sont pas assez nombreux pour représenter cette catégorie.\n",
    "2. **Mention au bac** : les ***coefficients sont incohérents***.\n",
    "3. **Étude supérieure** : les ***coefficients sont incohérents***.\n",
    "4. **Lieu de travail** : un ingénieur serait mieux payé dans des petites et moyennes villes que dans des grandes villes de France. Rappelons que cette variable est corrélée avec la **taille de l'entreprise**.\n",
    "5. **Contrat** : on peut être embauché en CDD pour des ***missions spécifiques*** et être embauché plus cher.\n",
    "6. **IMC** : on peut se demander si ce n'est pas cette proportion qui est prise de façon subjective.\n",
    "7. **Année de promotion** : lien négatif qui peut s'expliquer par le nombre d'années ***d'expérience***.\n",
    "8. **promo/exp** : plus on sort taux plus on a le temps d'avoir de l'expérience."
   ]
  },
  {
   "cell_type": "markdown",
   "metadata": {},
   "source": [
    "### Comparaison"
   ]
  },
  {
   "cell_type": "markdown",
   "metadata": {},
   "source": [
    "**Aplication d'un cas particulier** :  \n",
    "Soit un jeunne ingegnieur cognicient, homme de corpulence moyenne de 25ans qui à optenu sont diplomme en 2020 avec 1an d'experience et sans enfant,\n",
    "heureux dans une entreprise entre 10 et 249 employers se situant dans une grande ville qui là embaucher en CDI."
   ]
  },
  {
   "cell_type": "code",
   "execution_count": 229,
   "metadata": {
    "vscode": {
     "languageId": "r"
    }
   },
   "outputs": [
    {
     "name": "stdout",
     "output_type": "stream",
     "text": [
      "\n",
      "Call:\n",
      "lm(formula = data[, Y] ~ ., data = dataVariable)\n",
      "\n",
      "Residuals:\n",
      "    Min      1Q  Median      3Q     Max \n",
      "-8270.5 -3149.5  -172.3  2076.5  8764.5 \n",
      "\n",
      "Coefficients:\n",
      "                      Estimate Std. Error t value Pr(>|t|)    \n",
      "(Intercept)            -4532.2     9972.6  -0.454 0.652224    \n",
      "data...element.1..      7896.2     2110.2   3.742 0.000636 ***\n",
      "`employers[10;249]`     4878.1     3020.4   1.615 0.115034    \n",
      "`employers[250;4999]`   3376.1     3264.5   1.034 0.307944    \n",
      "`employers[5000;+]`     5102.4     3019.3   1.690 0.099685 .  \n",
      "lieuGrande_ville       -2275.9     1774.1  -1.283 0.207723    \n",
      "lieuCapital             4140.1     2053.9   2.016 0.051340 .  \n",
      "heureuOUI               -954.5     3405.5  -0.280 0.780867    \n",
      "sexeF                   2382.2     1639.4   1.453 0.154842    \n",
      "enfantsOui              5958.1     2596.7   2.294 0.027701 *  \n",
      "age                      843.8      289.8   2.911 0.006142 ** \n",
      "IMC                      211.7      251.8   0.841 0.406035    \n",
      "`exp/promo`             4440.2     4528.6   0.980 0.333384    \n",
      "`exp/chang`             -787.9      509.5  -1.546 0.130765    \n",
      "---\n",
      "Signif. codes:  0 '***' 0.001 '**' 0.01 '*' 0.05 '.' 0.1 ' ' 1\n",
      "\n",
      "Residual standard error: 4808 on 36 degrees of freedom\n",
      "  (6 observations deleted due to missingness)\n",
      "Multiple R-squared:  0.7179,\tAdjusted R-squared:  0.616 \n",
      "F-statistic: 7.046 on 13 and 36 DF,  p-value: 1.594e-06\n",
      "\n"
     ]
    },
    {
     "name": "stderr",
     "output_type": "stream",
     "text": [
      "BIC :  1031.96057307247\n",
      "Polynome :  Y= -4532 +X_{ data...element.1.. }* 7896 +X_{ `employers[10;249]` }* 4878 +X_{ `employers[250;4999]` }* 3376 +X_{ `employers[5000;+]` }* 5102 +X_{ lieuGrande_ville }* -2275 +X_{ lieuCapital }* 4140 +X_{ heureuOUI }* -954 +X_{ sexeF }* 2382 +X_{ enfantsOui }* 5958 +X_{ age }* 843 +X_{ IMC }* 211 +X_{ `exp/promo` }* 4440 +X_{ `exp/chang` }* -787\n",
      "Resultat cas particulier :  31097.7169333282\n",
      "corpulence moyenne :  23.0103615458084\n"
     ]
    }
   ],
   "source": [
    "choix <- c() #\n",
    "choix <- c(choix,'contratCDI') #'contratCDD',\n",
    "choix <- c(choix,'employers[10;249]','employers[250;4999]','employers[5000;+]') #'employers[0;10]',\n",
    "choix <- c(choix,'lieuGrande_ville','lieuCapital') #'lieuAutre_ville',\n",
    "choix <- c(choix,'heureuOUI') #'heureuNON',\n",
    "choix <- c(choix,'sexeF') #,'sexeH'\n",
    "choix <- c(choix,'enfantsOui') #'enfantsNon',\n",
    "choix <- c(choix,'age')\n",
    "choix <- c(choix,'IMC')\n",
    "choix <- c(choix,'exp/promo')\n",
    "choix <- c(choix,'exp/chang')\n",
    "result1 <- regression(affiche = TRUE, data = dataset4, element = choix) # coefficient ... | p-value=0% & Adjusted_R²=86% & BIC=1107\n",
    "message(paste('BIC : ', result1[1]))\n",
    "message(paste('Polynome : ', result1[3]))\n",
    "cas1 <- (as.numeric(result1[4])\n",
    "    + as.numeric(result1[5])\n",
    "    + as.numeric(result1[6])\n",
    "    + as.numeric(result1[9])\n",
    "    + as.numeric(result1[11])\n",
    "    + 25*as.numeric(result1[14])\n",
    "    + 2.6*as.numeric(result1[15])\n",
    "    + 1*as.numeric(result1[16]))\n",
    "message(paste('Resultat cas particulier : ', cas1))\n",
    "message(paste('corpulence moyenne : ',mean(dataset4[,'IMC'],na.rm = TRUE)))"
   ]
  },
  {
   "cell_type": "markdown",
   "metadata": {},
   "source": [
    "Cette première régression nous laisse supposer un rôle des variables contrat (les CDI sont plus rémunérateurs que les CDD), taille_entreprise (les plus grosses boîtes paient mieux) et capital (travailler à Paris rapporte plus).  \n",
    "D’autres résultats sont curieux : par exemple ni l’âge ni l’expérience n’expliquent le salaire (ce qui va à l’encontre de ce qu’on image avec des ingénieurs payés à l’ancienneté).  \n",
    "On n’a pas non plus d’effet du sexe et de l'IMC (il pourrait y avoir eu un effet de censure ou complexées par leur poids).  \n",
    "Reste à opter pour un plan d’action pour trouver maintenant le meilleur modèle explicatif."
   ]
  },
  {
   "cell_type": "markdown",
   "metadata": {},
   "source": [
    "Etant donné le nombre important de variables et le faible nombre d’observations, ici nous partons d’une approche ***ascendante*** : on part d’un modèle sans variables et on les ajoute peu à peu.  \n",
    "Avec le critère BIC en prenant à chaque fois la p-value la plus faible. C’est ici un choix restrictif (on veut le modèle le plus compact possible), d’autres critères sont également possibles (le plus petit AIC ou BIC, le plus petit R² ajusté…)."
   ]
  },
  {
   "cell_type": "markdown",
   "metadata": {},
   "source": [
    "Les p-value des coefficients restent pour la plupart très faibles, mais on conjserve un ***BIC proche*** du précédent."
   ]
  },
  {
   "cell_type": "code",
   "execution_count": 228,
   "metadata": {
    "vscode": {
     "languageId": "r"
    }
   },
   "outputs": [
    {
     "data": {
      "text/html": [
       "<table>\n",
       "<thead><tr><th></th><th scope=col>index</th><th scope=col>nam</th><th scope=col>BIC</th><th scope=col>Pvalue</th><th scope=col>prod</th><th scope=col>ordreBIC</th><th scope=col>ordrePvalue</th><th scope=col>ordreProd</th><th scope=col>prodOrdre</th></tr></thead>\n",
       "<tbody>\n",
       "\t<tr><th scope=row>4</th><td>19          </td><td>exp/chang   </td><td>1018.318    </td><td>3.947957e-08</td><td>4.020275e-05</td><td>1           </td><td>1           </td><td>1           </td><td> 1          </td></tr>\n",
       "\t<tr><th scope=row>3</th><td>18          </td><td>exp/promo   </td><td>1018.714    </td><td>4.596810e-08</td><td>4.682836e-05</td><td>2           </td><td>2           </td><td>2           </td><td> 4          </td></tr>\n",
       "\t<tr><th scope=row>2</th><td>11          </td><td>heureu      </td><td>1019.862    </td><td>7.137274e-08</td><td>7.279035e-05</td><td>3           </td><td>3           </td><td>3           </td><td> 9          </td></tr>\n",
       "\t<tr><th scope=row>1</th><td> 8          </td><td>employers   </td><td>1024.672    </td><td>2.646045e-07</td><td>2.711328e-04</td><td>4           </td><td>4           </td><td>4           </td><td>16          </td></tr>\n",
       "</tbody>\n",
       "</table>\n"
      ],
      "text/latex": [
       "\\begin{tabular}{r|lllllllll}\n",
       "  & index & nam & BIC & Pvalue & prod & ordreBIC & ordrePvalue & ordreProd & prodOrdre\\\\\n",
       "\\hline\n",
       "\t4 & 19           & exp/chang    & 1018.318     & 3.947957e-08 & 4.020275e-05 & 1            & 1            & 1            &  1          \\\\\n",
       "\t3 & 18           & exp/promo    & 1018.714     & 4.596810e-08 & 4.682836e-05 & 2            & 2            & 2            &  4          \\\\\n",
       "\t2 & 11           & heureu       & 1019.862     & 7.137274e-08 & 7.279035e-05 & 3            & 3            & 3            &  9          \\\\\n",
       "\t1 &  8           & employers    & 1024.672     & 2.646045e-07 & 2.711328e-04 & 4            & 4            & 4            & 16          \\\\\n",
       "\\end{tabular}\n"
      ],
      "text/markdown": [
       "\n",
       "| <!--/--> | index | nam | BIC | Pvalue | prod | ordreBIC | ordrePvalue | ordreProd | prodOrdre |\n",
       "|---|---|---|---|---|---|---|---|---|---|\n",
       "| 4 | 19           | exp/chang    | 1018.318     | 3.947957e-08 | 4.020275e-05 | 1            | 1            | 1            |  1           |\n",
       "| 3 | 18           | exp/promo    | 1018.714     | 4.596810e-08 | 4.682836e-05 | 2            | 2            | 2            |  4           |\n",
       "| 2 | 11           | heureu       | 1019.862     | 7.137274e-08 | 7.279035e-05 | 3            | 3            | 3            |  9           |\n",
       "| 1 |  8           | employers    | 1024.672     | 2.646045e-07 | 2.711328e-04 | 4            | 4            | 4            | 16           |\n",
       "\n"
      ],
      "text/plain": [
       "  index nam       BIC      Pvalue       prod         ordreBIC ordrePvalue\n",
       "4 19    exp/chang 1018.318 3.947957e-08 4.020275e-05 1        1          \n",
       "3 18    exp/promo 1018.714 4.596810e-08 4.682836e-05 2        2          \n",
       "2 11    heureu    1019.862 7.137274e-08 7.279035e-05 3        3          \n",
       "1  8    employers 1024.672 2.646045e-07 2.711328e-04 4        4          \n",
       "  ordreProd prodOrdre\n",
       "4 1          1       \n",
       "3 2          4       \n",
       "2 3          9       \n",
       "1 4         16       "
      ]
     },
     "metadata": {},
     "output_type": "display_data"
    },
    {
     "name": "stdout",
     "output_type": "stream",
     "text": [
      "\n",
      "Call:\n",
      "lm(formula = data[, Y] ~ ., data = dataVariable)\n",
      "\n",
      "Residuals:\n",
      "    Min      1Q  Median      3Q     Max \n",
      "-9803.7 -2846.8  -291.9  2044.8  9878.3 \n",
      "\n",
      "Coefficients:\n",
      "                   Estimate Std. Error t value Pr(>|t|)    \n",
      "(Intercept)           342.6     8782.5   0.039  0.96907    \n",
      "data...element.1..   7884.1     1799.9   4.380 7.74e-05 ***\n",
      "lieuGrande_ville    -2589.3     1648.1  -1.571  0.12368    \n",
      "lieuCapital          5240.9     1887.3   2.777  0.00817 ** \n",
      "sexeF                2530.6     1533.5   1.650  0.10635    \n",
      "enfantsOui           3956.8     2244.9   1.763  0.08526 .  \n",
      "age                   818.5      255.9   3.198  0.00263 ** \n",
      "IMC                   273.3      231.1   1.183  0.24355    \n",
      "---\n",
      "Signif. codes:  0 '***' 0.001 '**' 0.01 '*' 0.05 '.' 0.1 ' ' 1\n",
      "\n",
      "Residual standard error: 4797 on 42 degrees of freedom\n",
      "  (6 observations deleted due to missingness)\n",
      "Multiple R-squared:  0.6724,\tAdjusted R-squared:  0.6178 \n",
      "F-statistic: 12.31 on 7 and 42 DF,  p-value: 1.936e-08\n",
      "\n"
     ]
    },
    {
     "name": "stderr",
     "output_type": "stream",
     "text": [
      "BIC :  1015.96362208489\n",
      "Polynome :  Y= 342 +X_{ data...element.1.. }* 7884 +X_{ lieuGrande_ville }* -2589 +X_{ lieuCapital }* 5240 +X_{ sexeF }* 2530 +X_{ enfantsOui }* 3956 +X_{ age }* 818 +X_{ IMC }* 273\n",
      "Resultat cas particulier :  26811.1444873279\n",
      "Diference des cas :  -4286.57244600037\n",
      "Diference des BIC :  -15.99695098758\n"
     ]
    }
   ],
   "source": [
    "nonSelect <- c('exp','chang','taille','poids','ecole','bac','etudes','promo')\n",
    "choix <- c() #\n",
    "choix <- c(choix,'contrat') # p-vale=0% & BIC=1174\n",
    "choix <- c(choix,'age') # p-vale=0% & BIC=1161\n",
    "choix <- c(choix,'sexe') # p-vale=0% & BIC=1160.9\n",
    "choix <- c(choix,'enfants') # p-vale=0% & BIC=1160.2\n",
    "choix <- c(choix,'lieu') # p-vale=0% & BIC=1159\n",
    "choix <- c(choix,'IMC') # p-vale=0% & BIC=1015\n",
    "result <- afficheRegression(data = dataset3, colonnes = choix, eliminer = nonSelect)\n",
    "result[order(result$Pvalue),]\n",
    "choix <- c() #\n",
    "choix <- c(choix,'contratCDI')\n",
    "choix <- c(choix,'lieuGrande_ville','lieuCapital')\n",
    "choix <- c(choix,'sexeF')\n",
    "choix <- c(choix,'enfantsOui')\n",
    "choix <- c(choix,'age')\n",
    "choix <- c(choix,'IMC')\n",
    "result2 <- regression(affiche = TRUE, data = dataset4, element = choix)\n",
    "message(paste('BIC : ', result2[1]))\n",
    "message(paste('Polynome : ', result2[3]))\n",
    "cas2 <- (as.numeric(result2[4])\n",
    "    + as.numeric(result2[5])\n",
    "    + as.numeric(result2[6])\n",
    "    + 25*as.numeric(result2[10])\n",
    "    + 2.6*as.numeric(result2[11]))\n",
    "message(paste('Resultat cas particulier : ', cas2))\n",
    "message(paste('Diference des cas : ', cas2 - cas1))\n",
    "message(paste('Diference des BIC : ', as.numeric(result2[1]) - as.numeric(result1[1])))"
   ]
  },
  {
   "cell_type": "markdown",
   "metadata": {},
   "source": [
    "On voit ici que l'influence du sexe et du enfants sont à l'opposer des resultats globale du marcher du travaile."
   ]
  },
  {
   "cell_type": "markdown",
   "metadata": {},
   "source": [
    "## Conclusion\n",
    "\n",
    "L'ensemble des données de base ont été ***nettoyées*** (*des erreurs sûrement dues à des problèmes de somnolence ou de bizutage*), pour obtenir un environnement de travail correct.  \n",
    "À partir de cette nouvelle table, nous avons réalisé des ***visualisations*** de chaque VE (variable explicative), qui permet de faire une première analyse de leur comportement dans lequel nous avons remarqué de possibles corrélations et des points extrêmes.  \n",
    "Avec cette phase de travail, nous avons procédé à des tests de ***corrélation*** entre les VE pour vérifier la véracité des remarques évoquées précédemment.  \n",
    "Ensuite, nous avons visualisé les différentes régressions simples pour faire une première sélection des VE et de ***comprendre*** leur comportement.\n",
    "Pour clore, nous déterminons les VE les plus ***pertinentes*** par une méthode conventionnelle.\n",
    "\n",
    "Depuis 2003, ENISC forme des ingénieurs en cognatique.\n",
    "Uniquement 65 personnes diplômées de 2010 à 2020 ont répondu au sondage.  \n",
    "En dépit de son ***échantillon faible***, elle doit être considérée comme représentative de cette population.  \n",
    "Comme l'a montré une autre étude, la population répondant le plus au sondage sont des statisticiens, imaginez donc quelle serait la proportion de réponse au sondage si ce n'était pas à ces personnes.\n",
    "\n",
    "Il faudrait vérifier s'il existe une véritable dépendance entre les variables `lieu` et `employers` dans une autre étude grâce à \"opendata.gouv\".  \n",
    "Il serait pertinent de comparer le polynôme trouvé avec un ingénieur, peu importe sa spécialité, afin de déterminer si ces ***critères sont inhérents*** à ce secteur."
   ]
  }
 ],
 "metadata": {
  "kernelspec": {
   "display_name": "R",
   "language": "R",
   "name": "ir"
  },
  "language_info": {
   "codemirror_mode": "r",
   "file_extension": ".r",
   "mimetype": "text/x-r-source",
   "name": "R",
   "pygments_lexer": "r",
   "version": "3.6.1"
  }
 },
 "nbformat": 4,
 "nbformat_minor": 4
}
