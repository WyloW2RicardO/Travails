{
 "cells": [
  {
   "cell_type": "markdown",
   "metadata": {},
   "source": [
    "# Déterminer le salaire annuel d’un ingénieur cogniticien\n",
    "Projet personnel de statistiques M1 IA School 2024 de Victorien Marchand fait par Wilfried RICHARD  \n",
    "Le rapport est à envoyer en format PDF et est attendu pour le 8 avril 2024 au plus tard.\n",
    "\n",
    "## Introduction\n",
    "\n",
    "Un groupe d’étudiants de l’école d’ingénieurs ENISC (École Nationale d’Ingénieurs en Cognitique, à Bordeaux) a mené une enquête par questionnaire à destination d’ancien étudiants pour connaitre ***quels facteurs peuvent influencer le salaire qu’ils gagnent***.\n",
    "La spécialité d’ingénieur cogniticien est très particulière, seule l’ENISC y forme ***depuis seulement 2003*** et les anciens ingénieurs sont ***peu nombreux*** : il n’existe pas d’autres informations sur cette population. L’échantillon des répondants est considéré comme représentatif de la population des ingénieurs cogniticiens.\n",
    "\n",
    "### Somaire\n",
    "\n",
    "<!-- @import \"[TOC]\" {cmd=\"toc\" depthFrom=1 depthTo=6 orderedList=false} -->\n",
    "- [Déterminer le salaire annuel d’un ingénieur cogniticien](#d%C3%A9terminer-le-salaire-annuel-dun-ing%C3%A9nieur-cogniticien)\n",
    "  - [Introduction](#introduction)\n",
    "    - [Somaire](#somaire)\n",
    "    - [Objectif](#objectif)\n",
    "  - [Données](#données)\n",
    "    - [Import](#import)\n",
    "    - [Disperssion](#Disperssion)\n",
    "    - [Dépendence](#dépendence)\n",
    "  - [Régression](#régression)\n",
    "    - [Représentation](#représentation)\n",
    "    - [Distribution](#distribution)\n",
    "    - [Comparaison](#comparaison)\n",
    "  - [Conclusion](#conclusion)\n",
    "\n",
    "### Objectif\n",
    "\n",
    "Ce rapport ne se résumera pas à une suite de copier-coller de sorties R et devra comprendre une réflexion personnelle sur le problème posé et une conclusion rédigée.\n",
    "Un rapport expliquant clairement les étapes de votre ***raisonnement***, les ***initiatives*** prises, Les ***statistiques*** descriptives et inférentielles employées pour répondre à la question posée.\n",
    "***Le but est de savoir si la réussite académique, des facteurs liés à l’entreprise ou personnels jouent sur le salaire***.\n",
    "\n",
    "## Données\n",
    "\n",
    "Les variables de la base de données et leur codage sont les suivantes :\n",
    "\n",
    "1. **promo** : année d’obtention du diplôme d’ingénieur\n",
    "2. **mention_ecole** : mention obtenue au diplôme d’ingénieur\n",
    "3. **mention_bac** : mention obtenue au baccalauréat\n",
    "4. **etudes** : études suivies avant l’entrée dans l’école d’ingénieurs\n",
    "5. **annees_experience** : nombre d’années d’expérience dans le métier\n",
    "6. **changements_employeur** : nombre de changements d’employeur au cours de la - carrière\n",
    "7. **contrat** : type de contrat (CDD ou CDI)\n",
    "8. **taille_entreprise** : nombre de salariés dans l’entreprise\n",
    "9. **salaire** : salaire brut annuel (en €)\n",
    "10. **lieu_travail** : lieu de travail\n",
    "11. **epanouissement** : à quel point l’ingénieur se sent épanoui dans son travail (Pas du tout / Peu / Oui / Totalement)\n",
    "12. **sexe** : Homme / Femme\n",
    "13. **enfants** : avez-vous des enfants\n",
    "14. **age** : en années\n",
    "15. **taille** : en cm\n",
    "16. **poids** : en kg\n",
    "\n",
    "### Import"
   ]
  },
  {
   "cell_type": "code",
   "execution_count": 1,
   "metadata": {
    "tags": [],
    "vscode": {
     "languageId": "r"
    }
   },
   "outputs": [],
   "source": [
    "path <- \"D:\\\\WyloW2RicardO\\\\Cours\\\\Mathematiques\\\\bdd_regretion_salaire.csv\"\n",
    "path <- \"./bdd_regretion_salaire.csv\""
   ]
  },
  {
   "cell_type": "code",
   "execution_count": 2,
   "metadata": {
    "tags": [],
    "vscode": {
     "languageId": "r"
    }
   },
   "outputs": [
    {
     "data": {
      "text/html": [
       "<table>\n",
       "<thead><tr><th scope=col>promo</th><th scope=col>mention_ecole</th><th scope=col>mention_bac</th><th scope=col>etudes</th><th scope=col>annees_experience</th><th scope=col>changements_employeur</th><th scope=col>contrat</th><th scope=col>taille_entreprise</th><th scope=col>salaire</th><th scope=col>lieu_travail</th><th scope=col>epanouissement</th><th scope=col>sexe</th><th scope=col>enfants</th><th scope=col>age</th><th scope=col>taille</th><th scope=col>poids</th></tr></thead>\n",
       "<tbody>\n",
       "\t<tr><td>2020                                                  </td><td>Bien                                                  </td><td>Sans mention                                          </td><td>DUT                                                   </td><td>1.0                                                   </td><td>0                                                     </td><td>CDI                                                   </td><td>Entre 10 et 249 employés                              </td><td>36000                                                 </td><td>Marseille-Aix, Lyon, Lille, Toulouse, Nice ou Bordeaux</td><td>Oui                                                   </td><td>Homme                                                 </td><td>Non                                                   </td><td>26                                                    </td><td>1.70e+02                                              </td><td>      57                                              </td></tr>\n",
       "\t<tr><td>2020                                                  </td><td>Bien                                                  </td><td>Bien                                                  </td><td>Licence                                               </td><td>1.0                                                   </td><td>0                                                     </td><td>CDI                                                   </td><td>Entre 10 et 249 employés                              </td><td>40000                                                 </td><td>Paris ou son agglomération                            </td><td>Oui                                                   </td><td>Homme                                                 </td><td>Non                                                   </td><td>25                                                    </td><td>1.66e+02                                              </td><td>      69                                              </td></tr>\n",
       "\t<tr><td>2017                                                  </td><td>Bien                                                  </td><td>Bien                                                  </td><td>Classe préparatoire scientifique                      </td><td>3.0                                                   </td><td>1                                                     </td><td>CDI                                                   </td><td>Entre 10 et 249 employés                              </td><td>36000                                                 </td><td>Marseille-Aix, Lyon, Lille, Toulouse, Nice ou Bordeaux</td><td>Totalement                                            </td><td>Homme                                                 </td><td>Non                                                   </td><td>25                                                    </td><td>1.00e+19                                              </td><td>10000000                                              </td></tr>\n",
       "\t<tr><td>2018                                                  </td><td>Je ne m'en souviens pas                               </td><td>Bien                                                  </td><td>Classe préparatoire scientifique                      </td><td>2.5                                                   </td><td>0                                                     </td><td>CDI                                                   </td><td>Entre 10 et 249 employés                              </td><td>42000                                                 </td><td>Autre ville française                                 </td><td>Oui                                                   </td><td>Homme                                                 </td><td>Non                                                   </td><td>25                                                    </td><td>1.68e+02                                              </td><td>      68                                              </td></tr>\n",
       "\t<tr><td>2018                                                  </td><td>Bien                                                  </td><td>Très bien                                             </td><td>Classe préparatoire littéraire                        </td><td>3.0                                                   </td><td>1                                                     </td><td>CDI                                                   </td><td>Entre 250 et 4999 employés                            </td><td>84000                                                 </td><td>Hors UE                                               </td><td>Oui                                                   </td><td>Femme                                                 </td><td>Non                                                   </td><td>24                                                    </td><td>1.69e+02                                              </td><td>      57                                              </td></tr>\n",
       "\t<tr><td>2014                                                  </td><td>Sans mention                                          </td><td>Sans mention                                          </td><td>Classe préparatoire scientifique                      </td><td>5.0                                                   </td><td>1 fois                                                </td><td>CDI                                                   </td><td>Plus de 5000 salariés                                 </td><td>35000                                                 </td><td>Marseille-Aix, Lyon, Lille, Toulouse, Nice ou Bordeaux</td><td>Oui                                                   </td><td>Homme                                                 </td><td>Non                                                   </td><td>32                                                    </td><td>1.63e+02                                              </td><td>      67                                              </td></tr>\n",
       "</tbody>\n",
       "</table>\n"
      ],
      "text/latex": [
       "\\begin{tabular}{r|llllllllllllllll}\n",
       " promo & mention\\_ecole & mention\\_bac & etudes & annees\\_experience & changements\\_employeur & contrat & taille\\_entreprise & salaire & lieu\\_travail & epanouissement & sexe & enfants & age & taille & poids\\\\\n",
       "\\hline\n",
       "\t 2020                                                   & Bien                                                   & Sans mention                                           & DUT                                                    & 1.0                                                    & 0                                                      & CDI                                                    & Entre 10 et 249 employés                               & 36000                                                  & Marseille-Aix, Lyon, Lille, Toulouse, Nice ou Bordeaux & Oui                                                    & Homme                                                  & Non                                                    & 26                                                     & 1.70e+02                                               &       57                                              \\\\\n",
       "\t 2020                                                   & Bien                                                   & Bien                                                   & Licence                                                & 1.0                                                    & 0                                                      & CDI                                                    & Entre 10 et 249 employés                               & 40000                                                  & Paris ou son agglomération                             & Oui                                                    & Homme                                                  & Non                                                    & 25                                                     & 1.66e+02                                               &       69                                              \\\\\n",
       "\t 2017                                                   & Bien                                                   & Bien                                                   & Classe préparatoire scientifique                       & 3.0                                                    & 1                                                      & CDI                                                    & Entre 10 et 249 employés                               & 36000                                                  & Marseille-Aix, Lyon, Lille, Toulouse, Nice ou Bordeaux & Totalement                                             & Homme                                                  & Non                                                    & 25                                                     & 1.00e+19                                               & 10000000                                              \\\\\n",
       "\t 2018                                                   & Je ne m'en souviens pas                                & Bien                                                   & Classe préparatoire scientifique                       & 2.5                                                    & 0                                                      & CDI                                                    & Entre 10 et 249 employés                               & 42000                                                  & Autre ville française                                  & Oui                                                    & Homme                                                  & Non                                                    & 25                                                     & 1.68e+02                                               &       68                                              \\\\\n",
       "\t 2018                                                   & Bien                                                   & Très bien                                              & Classe préparatoire littéraire                         & 3.0                                                    & 1                                                      & CDI                                                    & Entre 250 et 4999 employés                             & 84000                                                  & Hors UE                                                & Oui                                                    & Femme                                                  & Non                                                    & 24                                                     & 1.69e+02                                               &       57                                              \\\\\n",
       "\t 2014                                                   & Sans mention                                           & Sans mention                                           & Classe préparatoire scientifique                       & 5.0                                                    & 1 fois                                                 & CDI                                                    & Plus de 5000 salariés                                  & 35000                                                  & Marseille-Aix, Lyon, Lille, Toulouse, Nice ou Bordeaux & Oui                                                    & Homme                                                  & Non                                                    & 32                                                     & 1.63e+02                                               &       67                                              \\\\\n",
       "\\end{tabular}\n"
      ],
      "text/markdown": [
       "\n",
       "| promo | mention_ecole | mention_bac | etudes | annees_experience | changements_employeur | contrat | taille_entreprise | salaire | lieu_travail | epanouissement | sexe | enfants | age | taille | poids |\n",
       "|---|---|---|---|---|---|---|---|---|---|---|---|---|---|---|---|\n",
       "| 2020                                                   | Bien                                                   | Sans mention                                           | DUT                                                    | 1.0                                                    | 0                                                      | CDI                                                    | Entre 10 et 249 employés                               | 36000                                                  | Marseille-Aix, Lyon, Lille, Toulouse, Nice ou Bordeaux | Oui                                                    | Homme                                                  | Non                                                    | 26                                                     | 1.70e+02                                               |       57                                               |\n",
       "| 2020                                                   | Bien                                                   | Bien                                                   | Licence                                                | 1.0                                                    | 0                                                      | CDI                                                    | Entre 10 et 249 employés                               | 40000                                                  | Paris ou son agglomération                             | Oui                                                    | Homme                                                  | Non                                                    | 25                                                     | 1.66e+02                                               |       69                                               |\n",
       "| 2017                                                   | Bien                                                   | Bien                                                   | Classe préparatoire scientifique                       | 3.0                                                    | 1                                                      | CDI                                                    | Entre 10 et 249 employés                               | 36000                                                  | Marseille-Aix, Lyon, Lille, Toulouse, Nice ou Bordeaux | Totalement                                             | Homme                                                  | Non                                                    | 25                                                     | 1.00e+19                                               | 10000000                                               |\n",
       "| 2018                                                   | Je ne m'en souviens pas                                | Bien                                                   | Classe préparatoire scientifique                       | 2.5                                                    | 0                                                      | CDI                                                    | Entre 10 et 249 employés                               | 42000                                                  | Autre ville française                                  | Oui                                                    | Homme                                                  | Non                                                    | 25                                                     | 1.68e+02                                               |       68                                               |\n",
       "| 2018                                                   | Bien                                                   | Très bien                                              | Classe préparatoire littéraire                         | 3.0                                                    | 1                                                      | CDI                                                    | Entre 250 et 4999 employés                             | 84000                                                  | Hors UE                                                | Oui                                                    | Femme                                                  | Non                                                    | 24                                                     | 1.69e+02                                               |       57                                               |\n",
       "| 2014                                                   | Sans mention                                           | Sans mention                                           | Classe préparatoire scientifique                       | 5.0                                                    | 1 fois                                                 | CDI                                                    | Plus de 5000 salariés                                  | 35000                                                  | Marseille-Aix, Lyon, Lille, Toulouse, Nice ou Bordeaux | Oui                                                    | Homme                                                  | Non                                                    | 32                                                     | 1.63e+02                                               |       67                                               |\n",
       "\n"
      ],
      "text/plain": [
       "  promo mention_ecole           mention_bac  etudes                          \n",
       "1 2020  Bien                    Sans mention DUT                             \n",
       "2 2020  Bien                    Bien         Licence                         \n",
       "3 2017  Bien                    Bien         Classe préparatoire scientifique\n",
       "4 2018  Je ne m'en souviens pas Bien         Classe préparatoire scientifique\n",
       "5 2018  Bien                    Très bien    Classe préparatoire littéraire  \n",
       "6 2014  Sans mention            Sans mention Classe préparatoire scientifique\n",
       "  annees_experience changements_employeur contrat taille_entreprise         \n",
       "1 1.0               0                     CDI     Entre 10 et 249 employés  \n",
       "2 1.0               0                     CDI     Entre 10 et 249 employés  \n",
       "3 3.0               1                     CDI     Entre 10 et 249 employés  \n",
       "4 2.5               0                     CDI     Entre 10 et 249 employés  \n",
       "5 3.0               1                     CDI     Entre 250 et 4999 employés\n",
       "6 5.0               1 fois                CDI     Plus de 5000 salariés     \n",
       "  salaire lieu_travail                                           epanouissement\n",
       "1 36000   Marseille-Aix, Lyon, Lille, Toulouse, Nice ou Bordeaux Oui           \n",
       "2 40000   Paris ou son agglomération                             Oui           \n",
       "3 36000   Marseille-Aix, Lyon, Lille, Toulouse, Nice ou Bordeaux Totalement    \n",
       "4 42000   Autre ville française                                  Oui           \n",
       "5 84000   Hors UE                                                Oui           \n",
       "6 35000   Marseille-Aix, Lyon, Lille, Toulouse, Nice ou Bordeaux Oui           \n",
       "  sexe  enfants age taille   poids   \n",
       "1 Homme Non     26  1.70e+02       57\n",
       "2 Homme Non     25  1.66e+02       69\n",
       "3 Homme Non     25  1.00e+19 10000000\n",
       "4 Homme Non     25  1.68e+02       68\n",
       "5 Femme Non     24  1.69e+02       57\n",
       "6 Homme Non     32  1.63e+02       67"
      ]
     },
     "metadata": {},
     "output_type": "display_data"
    }
   ],
   "source": [
    "#dataset <- read_xlsx(path)\n",
    "dataset <- read.csv(\n",
    "    file = path\n",
    "    #,header = TRUE\n",
    "    ,dec=\",\" # caracter de separation de decimal\n",
    ")\n",
    "#attach(dataset) # Le nom des colonnes deviens des liste corespondant\n",
    "head(dataset) # montre le debut du tableau"
   ]
  },
  {
   "cell_type": "code",
   "execution_count": 3,
   "metadata": {
    "vscode": {
     "languageId": "r"
    }
   },
   "outputs": [],
   "source": [
    "# cration d'une fonction pour ne pas à avoir à le refaire si néssaisaire\n",
    "distinct <- function(liste){return(as.character(sort(unique(liste))))}\n",
    "graphique <- function(\n",
    "    x\n",
    "    , y\n",
    "    ){\n",
    "        data <- data.frame(x, y)\n",
    "        plot(data\n",
    "            #, main = type\n",
    "            , xlab = names(x)\n",
    "            , ylab = names(y)\n",
    "            )\n",
    "        }\n",
    "rechercher <- function( # recherche la position des valeur correspondent\n",
    "        liste               # liste des valeur dans laquelle on doit cherhcer\n",
    "        , valeurRecherche   # la valeur rechercher dans la liste\n",
    "    ) {\n",
    "        listeIndex <- c()\n",
    "        for (index in 1:length(liste)) { # de 1 à 65\n",
    "            if (\n",
    "                    !is.na(liste[index]) \n",
    "                    & liste[index] == valeurRecherche\n",
    "                ) {\n",
    "                    listeIndex  <- append(\n",
    "                        x = listeIndex\n",
    "                        , values = index\n",
    "                        )\n",
    "                }\n",
    "            }\n",
    "        return(listeIndex) # renvoi une liste des numéro de ligne\n",
    "    }\n",
    "position <- function ( # Renvoi les position des valeur corespondante\n",
    "    liste\n",
    "    , listeRef\n",
    "    ) {\n",
    "        listePos <- c()\n",
    "        longeurRef <- length(listeRef)\n",
    "        #print(liste)\n",
    "        #print(listeRef)\n",
    "        for (indexListe in seq(length(liste))) {\n",
    "            indexRef <- 1\n",
    "            #print(is.character(liste[indexListe]))\n",
    "            if (grepl(\"^[0-9]{1,}$\", liste[indexListe])) { # pour enchainé texte et numéro\n",
    "                listePos <- append(listePos, as.numeric(liste[indexListe]))\n",
    "                } else {\n",
    "                    #message(paste('debut : ',print(liste[indexListe] != listeRef[indexRef])))\n",
    "                    while ( # parcour la liste de reference\n",
    "                        liste[indexListe] != listeRef[indexRef]\n",
    "                        & indexRef < longeurRef\n",
    "                        ) {\n",
    "                            indexRef <- indexRef + 1\n",
    "                            #message(paste('court : ',liste[indexListe],' != ',listeRef[indexRef],print(liste[indexListe] != listeRef[indexRef])))\n",
    "                            }\n",
    "                    if ( # si il y a une erreur d'ecriture\n",
    "                        indexRef == longeurRef\n",
    "                        & liste[indexListe] != listeRef[indexRef]\n",
    "                        ) {\n",
    "                            message(paste('Les nom sont mal ecrite ; fonction position ', print(liste), print(listeRef)))\n",
    "                            } else {listePos <- append(listePos, indexRef)}\n",
    "                    }\n",
    "            }\n",
    "        return(listePos)\n",
    "        }\n",
    "replacElement <- function( # ramplce tout les valeur avec le meme element \n",
    "        listeData    # Liste des données\n",
    "        , listeModif # Liste à modifier\n",
    "        , element    # Valeur ou liste\n",
    "        , ramplace\n",
    "    ){\n",
    "        if (missing(listeModif)) {listeModif <- listeData} # si la liste que l'on veut modifier n'est pas la meme\n",
    "        if (length(element) != length(ramplace)) { # Marche meme si l'element n'est pas une liste\n",
    "                message(paste('Les listes ne sont pas de la meme longeur'))\n",
    "            } else {\n",
    "                listeModif1 <- as.character(listeModif)\n",
    "                for (index in 1:length(element)) {\n",
    "                    valeurElement <- if (is.vector(element)){element[index]} else {element}\n",
    "                    valeuRamplce <- if (is.vector(ramplace)) {ramplace[index]} else {ramplace}\n",
    "                    #print(valeurElement)\n",
    "                    #print(listeData)\n",
    "                    listeIndex <- rechercher(\n",
    "                        liste = listeData\n",
    "                        , valeurRecherche = valeurElement\n",
    "                        )\n",
    "                    if (length(listeIndex) != 0) {\n",
    "                        listeModif1 <- replace(\n",
    "                            x = listeModif1\n",
    "                            , list = listeIndex\n",
    "                            , values = valeuRamplce\n",
    "                            )\n",
    "                        }\n",
    "                    }\n",
    "                }\n",
    "        return(listeModif1)\n",
    "    }\n",
    "\n",
    "overall_p <- function( # Retourne la p-value de summary()\n",
    "        model\n",
    "    ) {\n",
    "        f <- summary(model)$fstatistic\n",
    "        p <- pf(f[1],f[2],f[3],lower.tail=F)\n",
    "        attributes(p) <- NULL\n",
    "        return(p)\n",
    "    } # https://www.statology.org/r-extract-p-value-from-lm/\n",
    "equation <- function (resum) { # ecri l'equoition de regression\n",
    "    #print(resum)\n",
    "    nomResum <- names(resum)\n",
    "    #print(nomResum)\n",
    "    polynome <- paste(\"Y=\",as.integer(resum[[1]]))\n",
    "    #print(polynome)\n",
    "    for (index in seq(2,length(nomResum))) {\n",
    "        polynome <- paste(polynome,\"+X_{\",nomResum[index],\"}*\",as.integer(resum[index]))\n",
    "        }\n",
    "    return(polynome)\n",
    "    }\n",
    "regression <- function(\n",
    "    affiche = FALSE\n",
    "    , element # Liste de colonne\n",
    "    , dataVariable # dataframe des variable explicative\n",
    "    , data\n",
    "    , Y = 'salaire'\n",
    "    ){\n",
    "        #print(element)\n",
    "        #print(missing(dataVariable) & !missing(element))\n",
    "        if (missing(dataVariable) & !missing(element)) {\n",
    "            dataVariable <- data.frame(data[,element[1]])\n",
    "            if (length(element) > 1) {\n",
    "                for (index in element[-1]) { # Implementer les liste\n",
    "                    dataVariable <- cbind(\n",
    "                        dataVariable\n",
    "                        , data[index]\n",
    "                        )\n",
    "                    }\n",
    "                }\n",
    "            } else {message(\"il manque les varible dataVariable ou element\")}\n",
    "        #print(tail(dataVariable))\n",
    "        model <- lm(data[,Y] ~ ., data = dataVariable )\n",
    "        #message(affiche)\n",
    "        if (affiche) {\n",
    "            print(summary(model))\n",
    "            #print(coef(model))\n",
    "            }\n",
    "        return(c(\n",
    "                BIC(model)\n",
    "                , overall_p(model)\n",
    "                #, coef(model)\n",
    "                , equation(coefficients(model))\n",
    "                )\n",
    "            )\n",
    "        }\n",
    "afficheModel <- function( # affiche laregretion linéair simple\n",
    "    data\n",
    "    , colonne\n",
    "    , Y = 'salaire'\n",
    "    ) {\n",
    "        model <- lm(data[,Y] ~ data[,colonne])\n",
    "        print(summary(model))\n",
    "        message(paste('BIC : ', BIC(model)))\n",
    "        message(paste('p-value : ', overall_p(model)))\n",
    "        liste <- if (\n",
    "            is.character(data[,colonne])\n",
    "        ) {\n",
    "            as.factor(data[,colonne])\n",
    "        } else {\n",
    "            as.numeric(data[,colonne])\n",
    "        }\n",
    "        plot(\n",
    "            x = liste\n",
    "            , y = data$salaire\n",
    "            , xlab = names(data)[colonne]\n",
    "        )\n",
    "        abline(model)\n",
    "    }\n",
    "\n",
    "orderNumeric <- function( # order() ne marche pas dans un cas particulier \n",
    "        listeData\n",
    "    ) {\n",
    "        dataOrdre <- data.frame( # initialisation\n",
    "            index = c(1)\n",
    "            , valeur = c(as.numeric(listeData[1]))\n",
    "            , ordre = c(1)\n",
    "            )\n",
    "    for (indexData in 2:length(listeData)) { # Parcour se qui reste à trier\n",
    "            indexOrdre <- 1\n",
    "            nombreLigneOrdre <- nrow(dataOrdre)\n",
    "            valeurData <- as.numeric(listeData[indexData])\n",
    "            valeurOrdre <- as.numeric(dataOrdre$valeur[dataOrdre$ordre == indexOrdre])\n",
    "            #message('debut ', indexData, ' ; ', valeurData, ' > ', valeurOrdre, ' : ', valeurData > valeurOrdre)\n",
    "            while (valeurData > valeurOrdre) { # trouver sont niveaux\n",
    "                    indexOrdre <- indexOrdre + 1\n",
    "                    if (indexOrdre > nombreLigneOrdre) {\n",
    "                        #message('indexOrdre > nrow(dataOrdre)')\n",
    "                        break\n",
    "                        }\n",
    "                    valeurData <- as.numeric(listeData[indexData])\n",
    "                    valeurOrdre <- as.numeric(dataOrdre$valeur[dataOrdre$ordre == indexOrdre])\n",
    "                    #message('cour ', indexOrdre, ' ; ', valeurData, ' > ', valeurOrdre, ' : ', valeurData > valeurOrdre)\n",
    "                }\n",
    "            if (indexOrdre <= nombreLigneOrdre) { # reasigner le reste des valeur\n",
    "                    dataOrdre1 <- dataOrdre[order(dataOrdre$ordre),]\n",
    "                    for (indexReste in indexOrdre:nombreLigneOrdre) {\n",
    "                        dataOrdre1$ordre[indexReste] <- dataOrdre1$ordre[indexReste] + 1\n",
    "                        }\n",
    "                    dataOrdre <- dataOrdre1[order(dataOrdre1$index),]\n",
    "                }\n",
    "            dataOrdre[nombreLigneOrdre + 1,] <- c( # rajout de la nouvel ligne\n",
    "                indexData\n",
    "                , as.numeric(listeData[indexData])\n",
    "                , indexOrdre\n",
    "                )\n",
    "        }\n",
    "    return(dataOrdre$ordre)\n",
    "    }\n",
    "\n",
    "afficheRegression <- function( # affiche une table de BIC et p-value\n",
    "    data\n",
    "    , colonnes # Liste des colonnes de base\n",
    "    , eliminer # colonnes que l'on ne veut pas voir\n",
    "    ) {\n",
    "        listeBIC <- c()\n",
    "        listePvalue <- c()\n",
    "        nomColonnes <- names(data)\n",
    "        if (missing(colonnes)\n",
    "            | length(colonnes) == 0\n",
    "            ) {colonnes <- c()} else {colonnes <- position(\n",
    "                liste = colonnes\n",
    "                , listeRef = nomColonnes\n",
    "                )}\n",
    "        #print(colonnes)\n",
    "        if (missing(eliminer)) {eliminer <- c()} else {eliminer <- position(\n",
    "                liste = eliminer\n",
    "                , listeRef = nomColonnes\n",
    "                )}\n",
    "        eliminer1 <- c(9, colonnes, eliminer)\n",
    "        #print(eliminer1)\n",
    "        longeurColonnes <- length(colonnes)\n",
    "        if (longeurColonnes != 0) { # Initialisation dataframe des variavle\n",
    "            #print(data[colonnes])\n",
    "            #dataExplique <- data.frame(data[colonnes[1]])\n",
    "            dataExplique <- data.frame(data[colonnes[1]])\n",
    "            if (longeurColonnes > 1) { # Création dataframe des variavle\n",
    "                for (index in colonnes[-1]) {\n",
    "                    dataExplique <- cbind(\n",
    "                        dataExplique\n",
    "                        , data[index]\n",
    "                        )\n",
    "                    }\n",
    "                }\n",
    "            }\n",
    "        sequance <- seq(length(data))[-eliminer1] # ne marche pas si eliminer1 contien du texte\n",
    "        #print(sequance)\n",
    "        for (index in sequance) { # Implementer les liste\n",
    "            couple <- regression(\n",
    "                data = data\n",
    "                #, dataVariable = dataExplique1\n",
    "                , element = append(colonnes, index)\n",
    "                )\n",
    "            listeBIC <- append(\n",
    "                x = listeBIC\n",
    "                , values = as.numeric(couple[1])\n",
    "                )\n",
    "            listePvalue <- append(\n",
    "                x = listePvalue\n",
    "                , values = as.numeric(couple[2])\n",
    "                )\n",
    "            }\n",
    "        #print(listeBIC)\n",
    "        #print(listePvalue)\n",
    "        listeOrderBIC <- as.numeric(orderNumeric(listeBIC))\n",
    "        listeOrderPvalue <- as.numeric(orderNumeric(listePvalue))\n",
    "        listeProd = listeBIC * listePvalue\n",
    "        df <- data.frame( # Construction tableau final\n",
    "            index = sequance\n",
    "            , nam = nomColonnes[-eliminer1]\n",
    "            , BIC = listeBIC\n",
    "            , Pvalue = listePvalue\n",
    "            , prod = listeProd\n",
    "            , ordreBIC = listeOrderBIC\n",
    "            , ordrePvalue = listeOrderPvalue\n",
    "            , ordreProd = as.numeric(orderNumeric(listeProd))\n",
    "            , prodOrdre = listeOrderBIC * listeOrderPvalue\n",
    "            )\n",
    "        return(df)\n",
    "        #print(df[order(df$prodOrdre),])\n",
    "        }"
   ]
  },
  {
   "cell_type": "code",
   "execution_count": 4,
   "metadata": {
    "vscode": {
     "languageId": "r"
    }
   },
   "outputs": [],
   "source": [
    "# Type de donnée\n",
    "seqColonne <- seq(length(dataset))\n",
    "indexNum <- c(1, 5, 6, 9, 14, 15, 16)\n",
    "indexChar <- seqColonne[-indexNum]\n",
    "for (index in seqColonne) {\n",
    "   if (is.element(index, indexNum)) {\n",
    "      dataset[,index] <- as.numeric(dataset[,index])\n",
    "      } else {\n",
    "         dataset[,index] <- as.character(dataset[,index])\n",
    "         }\n",
    "   }\n",
    "dataset1 <- as.data.frame(dataset)"
   ]
  },
  {
   "cell_type": "markdown",
   "metadata": {},
   "source": [
    "Pour des soucis de présentation, nous renommons les catégories."
   ]
  },
  {
   "cell_type": "code",
   "execution_count": 5,
   "metadata": {
    "vscode": {
     "languageId": "r"
    }
   },
   "outputs": [
    {
     "data": {
      "text/html": [
       "<ol class=list-inline>\n",
       "\t<li>'BTS'</li>\n",
       "\t<li>'Classe préparatoire littéraire'</li>\n",
       "\t<li>'Classe préparatoire scientifique'</li>\n",
       "\t<li>'Classe préparatoire scientifique, La prépa \"intégrée\" était Classe préparatoire scientifique'</li>\n",
       "\t<li>'DUT'</li>\n",
       "\t<li>'Licence'</li>\n",
       "</ol>\n"
      ],
      "text/latex": [
       "\\begin{enumerate*}\n",
       "\\item 'BTS'\n",
       "\\item 'Classe préparatoire littéraire'\n",
       "\\item 'Classe préparatoire scientifique'\n",
       "\\item 'Classe préparatoire scientifique, La prépa \"intégrée\" était Classe préparatoire scientifique'\n",
       "\\item 'DUT'\n",
       "\\item 'Licence'\n",
       "\\end{enumerate*}\n"
      ],
      "text/markdown": [
       "1. 'BTS'\n",
       "2. 'Classe préparatoire littéraire'\n",
       "3. 'Classe préparatoire scientifique'\n",
       "4. 'Classe préparatoire scientifique, La prépa \"intégrée\" était Classe préparatoire scientifique'\n",
       "5. 'DUT'\n",
       "6. 'Licence'\n",
       "\n",
       "\n"
      ],
      "text/plain": [
       "[1] \"BTS\"                                                                                           \n",
       "[2] \"Classe préparatoire littéraire\"                                                                \n",
       "[3] \"Classe préparatoire scientifique\"                                                              \n",
       "[4] \"Classe préparatoire scientifique, La prépa \\\"intégrée\\\" était Classe préparatoire scientifique\"\n",
       "[5] \"DUT\"                                                                                           \n",
       "[6] \"Licence\"                                                                                       "
      ]
     },
     "metadata": {},
     "output_type": "display_data"
    },
    {
     "data": {
      "text/html": [
       "<ol class=list-inline>\n",
       "\t<li>''</li>\n",
       "\t<li>'Entre 10 et 249 employés'</li>\n",
       "\t<li>'Entre 250 et 4999 employés'</li>\n",
       "\t<li>'Moins de 10 employés'</li>\n",
       "\t<li>'Plus de 5000 salariés'</li>\n",
       "</ol>\n"
      ],
      "text/latex": [
       "\\begin{enumerate*}\n",
       "\\item ''\n",
       "\\item 'Entre 10 et 249 employés'\n",
       "\\item 'Entre 250 et 4999 employés'\n",
       "\\item 'Moins de 10 employés'\n",
       "\\item 'Plus de 5000 salariés'\n",
       "\\end{enumerate*}\n"
      ],
      "text/markdown": [
       "1. ''\n",
       "2. 'Entre 10 et 249 employés'\n",
       "3. 'Entre 250 et 4999 employés'\n",
       "4. 'Moins de 10 employés'\n",
       "5. 'Plus de 5000 salariés'\n",
       "\n",
       "\n"
      ],
      "text/plain": [
       "[1] \"\"                           \"Entre 10 et 249 employés\"  \n",
       "[3] \"Entre 250 et 4999 employés\" \"Moins de 10 employés\"      \n",
       "[5] \"Plus de 5000 salariés\"     "
      ]
     },
     "metadata": {},
     "output_type": "display_data"
    },
    {
     "data": {
      "text/html": [
       "5"
      ],
      "text/latex": [
       "5"
      ],
      "text/markdown": [
       "5"
      ],
      "text/plain": [
       "[1] 5"
      ]
     },
     "metadata": {},
     "output_type": "display_data"
    },
    {
     "data": {
      "text/html": [
       "<ol class=list-inline>\n",
       "\t<li>''</li>\n",
       "\t<li>'A l\\'étranger (UE)'</li>\n",
       "\t<li>'Autre ville française'</li>\n",
       "\t<li>'Hors UE'</li>\n",
       "\t<li>'Marseille-Aix, Lyon, Lille, Toulouse, Nice ou Bordeaux'</li>\n",
       "\t<li>'Paris ou son agglomération'</li>\n",
       "</ol>\n"
      ],
      "text/latex": [
       "\\begin{enumerate*}\n",
       "\\item ''\n",
       "\\item 'A l\\textbackslash{}'étranger (UE)'\n",
       "\\item 'Autre ville française'\n",
       "\\item 'Hors UE'\n",
       "\\item 'Marseille-Aix, Lyon, Lille, Toulouse, Nice ou Bordeaux'\n",
       "\\item 'Paris ou son agglomération'\n",
       "\\end{enumerate*}\n"
      ],
      "text/markdown": [
       "1. ''\n",
       "2. 'A l\\'étranger (UE)'\n",
       "3. 'Autre ville française'\n",
       "4. 'Hors UE'\n",
       "5. 'Marseille-Aix, Lyon, Lille, Toulouse, Nice ou Bordeaux'\n",
       "6. 'Paris ou son agglomération'\n",
       "\n",
       "\n"
      ],
      "text/plain": [
       "[1] \"\"                                                      \n",
       "[2] \"A l'étranger (UE)\"                                     \n",
       "[3] \"Autre ville française\"                                 \n",
       "[4] \"Hors UE\"                                               \n",
       "[5] \"Marseille-Aix, Lyon, Lille, Toulouse, Nice ou Bordeaux\"\n",
       "[6] \"Paris ou son agglomération\"                            "
      ]
     },
     "metadata": {},
     "output_type": "display_data"
    },
    {
     "data": {
      "text/html": [
       "<ol class=list-inline>\n",
       "\t<li>''</li>\n",
       "\t<li>'Oui'</li>\n",
       "\t<li>'Peu'</li>\n",
       "\t<li>'Totalement'</li>\n",
       "</ol>\n"
      ],
      "text/latex": [
       "\\begin{enumerate*}\n",
       "\\item ''\n",
       "\\item 'Oui'\n",
       "\\item 'Peu'\n",
       "\\item 'Totalement'\n",
       "\\end{enumerate*}\n"
      ],
      "text/markdown": [
       "1. ''\n",
       "2. 'Oui'\n",
       "3. 'Peu'\n",
       "4. 'Totalement'\n",
       "\n",
       "\n"
      ],
      "text/plain": [
       "[1] \"\"           \"Oui\"        \"Peu\"        \"Totalement\""
      ]
     },
     "metadata": {},
     "output_type": "display_data"
    },
    {
     "data": {
      "text/html": [
       "<ol class=list-inline>\n",
       "\t<li>''</li>\n",
       "\t<li>'Femme'</li>\n",
       "\t<li>'Homme'</li>\n",
       "</ol>\n"
      ],
      "text/latex": [
       "\\begin{enumerate*}\n",
       "\\item ''\n",
       "\\item 'Femme'\n",
       "\\item 'Homme'\n",
       "\\end{enumerate*}\n"
      ],
      "text/markdown": [
       "1. ''\n",
       "2. 'Femme'\n",
       "3. 'Homme'\n",
       "\n",
       "\n"
      ],
      "text/plain": [
       "[1] \"\"      \"Femme\" \"Homme\""
      ]
     },
     "metadata": {},
     "output_type": "display_data"
    },
    {
     "data": {
      "text/html": [
       "<table>\n",
       "<thead><tr><th scope=col>promo</th><th scope=col>ecole</th><th scope=col>bac</th><th scope=col>etudes</th><th scope=col>exp</th><th scope=col>chang</th><th scope=col>contrat</th><th scope=col>employers</th><th scope=col>salaire</th><th scope=col>lieu</th><th scope=col>heureu</th><th scope=col>sexe</th><th scope=col>enfants</th><th scope=col>age</th><th scope=col>taille</th><th scope=col>poids</th></tr></thead>\n",
       "<tbody>\n",
       "\t<tr><td>2020        </td><td>B           </td><td>Sans        </td><td>DUT         </td><td>1.0         </td><td>1           </td><td>CDI         </td><td>[10;249]    </td><td>36000       </td><td>Grande_ville</td><td>OUI         </td><td>F           </td><td>Non         </td><td>26          </td><td>1.70e+02    </td><td>5.7e+01     </td></tr>\n",
       "\t<tr><td>2020        </td><td>B           </td><td>B           </td><td>Licence     </td><td>1.0         </td><td>1           </td><td>CDI         </td><td>[10;249]    </td><td>40000       </td><td>Capital     </td><td>OUI         </td><td>F           </td><td>Non         </td><td>25          </td><td>1.66e+02    </td><td>6.9e+01     </td></tr>\n",
       "\t<tr><td>2017        </td><td>B           </td><td>B           </td><td>CPS         </td><td>3.0         </td><td>2           </td><td>CDI         </td><td>[10;249]    </td><td>36000       </td><td>Grande_ville</td><td>OUI         </td><td>F           </td><td>Non         </td><td>25          </td><td>1.00e+19    </td><td>1.0e+07     </td></tr>\n",
       "\t<tr><td>2018        </td><td>NA          </td><td>B           </td><td>CPS         </td><td>2.5         </td><td>1           </td><td>CDI         </td><td>[10;249]    </td><td>42000       </td><td>Autre_ville </td><td>OUI         </td><td>F           </td><td>Non         </td><td>25          </td><td>1.68e+02    </td><td>6.8e+01     </td></tr>\n",
       "\t<tr><td>2018        </td><td>B           </td><td>TB          </td><td>CPL         </td><td>3.0         </td><td>2           </td><td>CDI         </td><td>[250;4999]  </td><td>84000       </td><td>Hors_UE     </td><td>OUI         </td><td>H           </td><td>Non         </td><td>24          </td><td>1.69e+02    </td><td>5.7e+01     </td></tr>\n",
       "\t<tr><td>2014        </td><td>Sans        </td><td>Sans        </td><td>CPS         </td><td>5.0         </td><td>3           </td><td>CDI         </td><td>[5000;+]    </td><td>35000       </td><td>Grande_ville</td><td>OUI         </td><td>F           </td><td>Non         </td><td>32          </td><td>1.63e+02    </td><td>6.7e+01     </td></tr>\n",
       "</tbody>\n",
       "</table>\n"
      ],
      "text/latex": [
       "\\begin{tabular}{r|llllllllllllllll}\n",
       " promo & ecole & bac & etudes & exp & chang & contrat & employers & salaire & lieu & heureu & sexe & enfants & age & taille & poids\\\\\n",
       "\\hline\n",
       "\t 2020           & B              & Sans           & DUT            & 1.0            & 1              & CDI            & {[}10;249{]}   & 36000          & Grande\\_ville & OUI            & F              & Non            & 26             & 1.70e+02       & 5.7e+01       \\\\\n",
       "\t 2020           & B              & B              & Licence        & 1.0            & 1              & CDI            & {[}10;249{]}   & 40000          & Capital        & OUI            & F              & Non            & 25             & 1.66e+02       & 6.9e+01       \\\\\n",
       "\t 2017           & B              & B              & CPS            & 3.0            & 2              & CDI            & {[}10;249{]}   & 36000          & Grande\\_ville & OUI            & F              & Non            & 25             & 1.00e+19       & 1.0e+07       \\\\\n",
       "\t 2018           & NA             & B              & CPS            & 2.5            & 1              & CDI            & {[}10;249{]}   & 42000          & Autre\\_ville  & OUI            & F              & Non            & 25             & 1.68e+02       & 6.8e+01       \\\\\n",
       "\t 2018           & B              & TB             & CPL            & 3.0            & 2              & CDI            & {[}250;4999{]} & 84000          & Hors\\_UE      & OUI            & H              & Non            & 24             & 1.69e+02       & 5.7e+01       \\\\\n",
       "\t 2014           & Sans           & Sans           & CPS            & 5.0            & 3              & CDI            & {[}5000;+{]}   & 35000          & Grande\\_ville & OUI            & F              & Non            & 32             & 1.63e+02       & 6.7e+01       \\\\\n",
       "\\end{tabular}\n"
      ],
      "text/markdown": [
       "\n",
       "| promo | ecole | bac | etudes | exp | chang | contrat | employers | salaire | lieu | heureu | sexe | enfants | age | taille | poids |\n",
       "|---|---|---|---|---|---|---|---|---|---|---|---|---|---|---|---|\n",
       "| 2020         | B            | Sans         | DUT          | 1.0          | 1            | CDI          | [10;249]     | 36000        | Grande_ville | OUI          | F            | Non          | 26           | 1.70e+02     | 5.7e+01      |\n",
       "| 2020         | B            | B            | Licence      | 1.0          | 1            | CDI          | [10;249]     | 40000        | Capital      | OUI          | F            | Non          | 25           | 1.66e+02     | 6.9e+01      |\n",
       "| 2017         | B            | B            | CPS          | 3.0          | 2            | CDI          | [10;249]     | 36000        | Grande_ville | OUI          | F            | Non          | 25           | 1.00e+19     | 1.0e+07      |\n",
       "| 2018         | NA           | B            | CPS          | 2.5          | 1            | CDI          | [10;249]     | 42000        | Autre_ville  | OUI          | F            | Non          | 25           | 1.68e+02     | 6.8e+01      |\n",
       "| 2018         | B            | TB           | CPL          | 3.0          | 2            | CDI          | [250;4999]   | 84000        | Hors_UE      | OUI          | H            | Non          | 24           | 1.69e+02     | 5.7e+01      |\n",
       "| 2014         | Sans         | Sans         | CPS          | 5.0          | 3            | CDI          | [5000;+]     | 35000        | Grande_ville | OUI          | F            | Non          | 32           | 1.63e+02     | 6.7e+01      |\n",
       "\n"
      ],
      "text/plain": [
       "  promo ecole bac  etudes  exp chang contrat employers  salaire lieu        \n",
       "1 2020  B     Sans DUT     1.0 1     CDI     [10;249]   36000   Grande_ville\n",
       "2 2020  B     B    Licence 1.0 1     CDI     [10;249]   40000   Capital     \n",
       "3 2017  B     B    CPS     3.0 2     CDI     [10;249]   36000   Grande_ville\n",
       "4 2018  NA    B    CPS     2.5 1     CDI     [10;249]   42000   Autre_ville \n",
       "5 2018  B     TB   CPL     3.0 2     CDI     [250;4999] 84000   Hors_UE     \n",
       "6 2014  Sans  Sans CPS     5.0 3     CDI     [5000;+]   35000   Grande_ville\n",
       "  heureu sexe enfants age taille   poids  \n",
       "1 OUI    F    Non     26  1.70e+02 5.7e+01\n",
       "2 OUI    F    Non     25  1.66e+02 6.9e+01\n",
       "3 OUI    F    Non     25  1.00e+19 1.0e+07\n",
       "4 OUI    F    Non     25  1.68e+02 6.8e+01\n",
       "5 OUI    H    Non     24  1.69e+02 5.7e+01\n",
       "6 OUI    F    Non     32  1.63e+02 6.7e+01"
      ]
     },
     "metadata": {},
     "output_type": "display_data"
    }
   ],
   "source": [
    "colonne <- 2\n",
    "colnames(dataset1)[colonne] <-'ecole'\n",
    "dataset1[colonne] <- replacElement(\n",
    "    listeData = dataset1[,colonne]\n",
    "    , element = c(\"Sans mention\", \"Je ne m'en souviens pas\", \"Bien\", \"Très bien\", \"Assez bien\")\n",
    "    , ramplace = c(\"Sans\", NA, \"B\", \"TB\", \"AB\")\n",
    "    )\n",
    "colonne <- 3\n",
    "colnames(dataset1)[colonne] <-'bac'\n",
    "dataset1[colonne] <- replacElement(\n",
    "    listeData = dataset1[,colonne]\n",
    "    , element = c(\"Sans mention\", \"Bien\", \"Très bien\", \"Assez bien\")\n",
    "    , ramplace = c(\"Sans\", \"B\", \"TB\", \"AB\")\n",
    "    )\n",
    "colonne <- 4\n",
    "Sort <- distinct(dataset1[,colonne])\n",
    "Sort\n",
    "dataset1[colonne]  <- replacElement(\n",
    "    listeData = dataset1[,colonne]\n",
    "    , element = Sort\n",
    "    , ramplace = c('BTS','CPL','CPS','CPS','DUT','Licence')\n",
    "    )\n",
    "colnames(dataset1)[5] <-'exp'\n",
    "colnames(dataset1)[6] <-'chang'\n",
    "colonne <- 7\n",
    "dataset1[colonne] <- replacElement(\n",
    "    listeData = dataset1[,colonne]\n",
    "    , element = \"Sans emploi\"\n",
    "    , ramplace = \"Sans\"\n",
    "    )\n",
    "colonne <- 8\n",
    "colnames(dataset1)[colonne] <-'employers'\n",
    "Sort <- distinct(dataset1[,colonne])\n",
    "Sort\n",
    "length(Sort)\n",
    "dataset1[colonne]  <- replacElement(\n",
    "    listeData = dataset1[,colonne]\n",
    "    , element = Sort\n",
    "    , ramplace = c(NA,'[10;249]','[250;4999]','[0;10]','[5000;+]')\n",
    "    )\n",
    "colonne <- 10\n",
    "colnames(dataset1)[colonne] <-'lieu'\n",
    "Sort <- distinct(dataset1[,colonne])\n",
    "Sort\n",
    "dataset1[colonne] <- replacElement(\n",
    "    listeData = dataset1[,colonne]\n",
    "    , element = Sort\n",
    "    , ramplace = c(NA, 'UE', 'Autre_ville', 'Hors_UE', 'Grande_ville', 'Capital')\n",
    "    )\n",
    "colonne <- 11\n",
    "colnames(dataset1)[colonne] <-'heureu'\n",
    "Sort <- distinct(dataset1[,colonne])\n",
    "Sort\n",
    "dataset1[colonne] <- replacElement(\n",
    "    listeData = dataset1[,colonne]\n",
    "    , element = Sort\n",
    "    , ramplace = c(NA, 'OUI', 'NON', 'OUI')\n",
    "    )\n",
    "colonne <- 12\n",
    "Sort <- distinct(dataset1[,colonne])\n",
    "Sort\n",
    "dataset1[colonne] <- replacElement(\n",
    "    listeData = dataset1[,colonne]\n",
    "    , element = Sort\n",
    "    , ramplace = c(NA, 'H', 'F')\n",
    "    )\n",
    "head(dataset1)"
   ]
  },
  {
   "cell_type": "markdown",
   "metadata": {},
   "source": [
    "En remplaçant les catégories on remarque : \n",
    "- **études supérieures** ; la catégorie nommé ***'Classe préparatoire scientifique, La prépa \"intégrée\" était Classe préparatoire scientifique'*** sera considéré comme la catégorie ***'Classe préparatoire scientifique'*** car elles sont équivalentes.\n",
    "- **Épanouissement** : il y a trop de subjectivité pour être différent d'une relation ***binaire***."
   ]
  },
  {
   "cell_type": "markdown",
   "metadata": {},
   "source": [
    "## Recherche\n",
    "\n",
    "### Préliminaire\n",
    "\n",
    "On va commencer par ***vérifier*** chaque colonne, si celles-ci correspondent bien aux catégories souhaitées.  \n",
    "Comme on peut le voir dans la colonne \"*chang*\" du tableau ci-dessus, à la dernière ligne, la variable est un texte et non numérique.  \n",
    "Cette dernière a été mise automatiquement  à *\"1\"* grâce à la mise en forme.\n",
    "\n",
    "#### Contrat\n",
    "\n",
    "La question qui a été posée est de déterminer le salaire et non le taux d'***employabilité***. \n",
    "De plus, sur les mêmes lignes de données, il ***manque*** la moitié des informations.  \n",
    "En l'absence d'emploi, les personnes qui ont rempli le sondage n'ont pas pu transcrire les informations concernant l'entreprise, puisqu'elles n'ont pas de travail.  \n",
    "Elles seront donc **supprimées**. "
   ]
  },
  {
   "cell_type": "code",
   "execution_count": 6,
   "metadata": {
    "tags": [],
    "vscode": {
     "languageId": "r"
    }
   },
   "outputs": [
    {
     "data": {
      "text/html": [
       "<table>\n",
       "<thead><tr><th></th><th scope=col>promo</th><th scope=col>ecole</th><th scope=col>bac</th><th scope=col>etudes</th><th scope=col>exp</th><th scope=col>chang</th><th scope=col>contrat</th><th scope=col>employers</th><th scope=col>salaire</th><th scope=col>lieu</th><th scope=col>heureu</th><th scope=col>sexe</th><th scope=col>enfants</th><th scope=col>age</th><th scope=col>taille</th><th scope=col>poids</th></tr></thead>\n",
       "<tbody>\n",
       "\t<tr><th scope=row>13</th><td>2020   </td><td>B      </td><td>B      </td><td>Licence</td><td>1.000  </td><td>1      </td><td>Sans   </td><td>NA     </td><td>NA     </td><td>NA     </td><td>NA     </td><td>NA     </td><td>       </td><td>NA     </td><td>NA     </td><td>NA     </td></tr>\n",
       "\t<tr><th scope=row>17</th><td>2020   </td><td>NA     </td><td>TB     </td><td>CPL    </td><td>0.001  </td><td>1      </td><td>Sans   </td><td>NA     </td><td>NA     </td><td>NA     </td><td>NA     </td><td>NA     </td><td>       </td><td>NA     </td><td>NA     </td><td>NA     </td></tr>\n",
       "\t<tr><th scope=row>41</th><td>2017   </td><td>B      </td><td>TB     </td><td>CPS    </td><td>3.000  </td><td>4      </td><td>Sans   </td><td>NA     </td><td>NA     </td><td>NA     </td><td>NA     </td><td>NA     </td><td>       </td><td>NA     </td><td>NA     </td><td>NA     </td></tr>\n",
       "\t<tr><th scope=row>52</th><td>2013   </td><td>NA     </td><td>B      </td><td>CPS    </td><td>7.000  </td><td>2      </td><td>Sans   </td><td>NA     </td><td>NA     </td><td>NA     </td><td>NA     </td><td>NA     </td><td>       </td><td>NA     </td><td>NA     </td><td>NA     </td></tr>\n",
       "\t<tr><th scope=row>55</th><td>2019   </td><td>B      </td><td>TB     </td><td>CPL    </td><td>1.000  </td><td>1      </td><td>Sans   </td><td>NA     </td><td>NA     </td><td>NA     </td><td>NA     </td><td>NA     </td><td>       </td><td>NA     </td><td>NA     </td><td>NA     </td></tr>\n",
       "</tbody>\n",
       "</table>\n"
      ],
      "text/latex": [
       "\\begin{tabular}{r|llllllllllllllll}\n",
       "  & promo & ecole & bac & etudes & exp & chang & contrat & employers & salaire & lieu & heureu & sexe & enfants & age & taille & poids\\\\\n",
       "\\hline\n",
       "\t13 & 2020    & B       & B       & Licence & 1.000   & 1       & Sans    & NA      & NA      & NA      & NA      & NA      &         & NA      & NA      & NA     \\\\\n",
       "\t17 & 2020    & NA      & TB      & CPL     & 0.001   & 1       & Sans    & NA      & NA      & NA      & NA      & NA      &         & NA      & NA      & NA     \\\\\n",
       "\t41 & 2017    & B       & TB      & CPS     & 3.000   & 4       & Sans    & NA      & NA      & NA      & NA      & NA      &         & NA      & NA      & NA     \\\\\n",
       "\t52 & 2013    & NA      & B       & CPS     & 7.000   & 2       & Sans    & NA      & NA      & NA      & NA      & NA      &         & NA      & NA      & NA     \\\\\n",
       "\t55 & 2019    & B       & TB      & CPL     & 1.000   & 1       & Sans    & NA      & NA      & NA      & NA      & NA      &         & NA      & NA      & NA     \\\\\n",
       "\\end{tabular}\n"
      ],
      "text/markdown": [
       "\n",
       "| <!--/--> | promo | ecole | bac | etudes | exp | chang | contrat | employers | salaire | lieu | heureu | sexe | enfants | age | taille | poids |\n",
       "|---|---|---|---|---|---|---|---|---|---|---|---|---|---|---|---|---|\n",
       "| 13 | 2020    | B       | B       | Licence | 1.000   | 1       | Sans    | NA      | NA      | NA      | NA      | NA      |         | NA      | NA      | NA      |\n",
       "| 17 | 2020    | NA      | TB      | CPL     | 0.001   | 1       | Sans    | NA      | NA      | NA      | NA      | NA      |         | NA      | NA      | NA      |\n",
       "| 41 | 2017    | B       | TB      | CPS     | 3.000   | 4       | Sans    | NA      | NA      | NA      | NA      | NA      |         | NA      | NA      | NA      |\n",
       "| 52 | 2013    | NA      | B       | CPS     | 7.000   | 2       | Sans    | NA      | NA      | NA      | NA      | NA      |         | NA      | NA      | NA      |\n",
       "| 55 | 2019    | B       | TB      | CPL     | 1.000   | 1       | Sans    | NA      | NA      | NA      | NA      | NA      |         | NA      | NA      | NA      |\n",
       "\n"
      ],
      "text/plain": [
       "   promo ecole bac etudes  exp   chang contrat employers salaire lieu heureu\n",
       "13 2020  B     B   Licence 1.000 1     Sans    NA        NA      NA   NA    \n",
       "17 2020  NA    TB  CPL     0.001 1     Sans    NA        NA      NA   NA    \n",
       "41 2017  B     TB  CPS     3.000 4     Sans    NA        NA      NA   NA    \n",
       "52 2013  NA    B   CPS     7.000 2     Sans    NA        NA      NA   NA    \n",
       "55 2019  B     TB  CPL     1.000 1     Sans    NA        NA      NA   NA    \n",
       "   sexe enfants age taille poids\n",
       "13 NA           NA  NA     NA   \n",
       "17 NA           NA  NA     NA   \n",
       "41 NA           NA  NA     NA   \n",
       "52 NA           NA  NA     NA   \n",
       "55 NA           NA  NA     NA   "
      ]
     },
     "metadata": {},
     "output_type": "display_data"
    }
   ],
   "source": [
    "#dataset2 <- subset(dataset1, dataset1$contrat != contratSort[1])\n",
    "indexContratSans <- rechercher(\n",
    "    dataset1$contrat\n",
    "    , 'Sans'\n",
    "    )\n",
    "dataset1[indexContratSans,]"
   ]
  },
  {
   "cell_type": "code",
   "execution_count": 7,
   "metadata": {
    "vscode": {
     "languageId": "r"
    }
   },
   "outputs": [],
   "source": [
    "indexContratSans <- rechercher(\n",
    "    dataset1$contrat\n",
    "    , 'Sans'\n",
    "    )\n",
    "dataset2 <- dataset1[-indexContratSans,]"
   ]
  },
  {
   "cell_type": "markdown",
   "metadata": {},
   "source": [
    "#### Salaire"
   ]
  },
  {
   "cell_type": "code",
   "execution_count": 8,
   "metadata": {
    "tags": [],
    "vscode": {
     "languageId": "r"
    }
   },
   "outputs": [
    {
     "data": {
      "text/html": [
       "<ol class=list-inline>\n",
       "\t<li>'40'</li>\n",
       "\t<li>'2800'</li>\n",
       "\t<li>'2880'</li>\n",
       "\t<li>'23000'</li>\n",
       "\t<li>'23500'</li>\n",
       "\t<li>'24000'</li>\n",
       "\t<li>'25000'</li>\n",
       "\t<li>'25412'</li>\n",
       "\t<li>'29232'</li>\n",
       "\t<li>'30000'</li>\n",
       "\t<li>'30192'</li>\n",
       "\t<li>'32000'</li>\n",
       "\t<li>'32400'</li>\n",
       "\t<li>'32500'</li>\n",
       "\t<li>'33000'</li>\n",
       "\t<li>'33500'</li>\n",
       "\t<li>'33600'</li>\n",
       "\t<li>'34500'</li>\n",
       "\t<li>'35000'</li>\n",
       "\t<li>'36000'</li>\n",
       "\t<li>'38000'</li>\n",
       "\t<li>'38600'</li>\n",
       "\t<li>'39000'</li>\n",
       "\t<li>'40000'</li>\n",
       "\t<li>'40500'</li>\n",
       "\t<li>'41000'</li>\n",
       "\t<li>'42000'</li>\n",
       "\t<li>'42089'</li>\n",
       "\t<li>'43000'</li>\n",
       "\t<li>'45000'</li>\n",
       "\t<li>'46000'</li>\n",
       "\t<li>'47000'</li>\n",
       "\t<li>'50000'</li>\n",
       "\t<li>'52000'</li>\n",
       "\t<li>'52700'</li>\n",
       "\t<li>'54000'</li>\n",
       "\t<li>'60000'</li>\n",
       "\t<li>'73000'</li>\n",
       "\t<li>'75000'</li>\n",
       "\t<li>'84000'</li>\n",
       "\t<li>'110000'</li>\n",
       "</ol>\n"
      ],
      "text/latex": [
       "\\begin{enumerate*}\n",
       "\\item '40'\n",
       "\\item '2800'\n",
       "\\item '2880'\n",
       "\\item '23000'\n",
       "\\item '23500'\n",
       "\\item '24000'\n",
       "\\item '25000'\n",
       "\\item '25412'\n",
       "\\item '29232'\n",
       "\\item '30000'\n",
       "\\item '30192'\n",
       "\\item '32000'\n",
       "\\item '32400'\n",
       "\\item '32500'\n",
       "\\item '33000'\n",
       "\\item '33500'\n",
       "\\item '33600'\n",
       "\\item '34500'\n",
       "\\item '35000'\n",
       "\\item '36000'\n",
       "\\item '38000'\n",
       "\\item '38600'\n",
       "\\item '39000'\n",
       "\\item '40000'\n",
       "\\item '40500'\n",
       "\\item '41000'\n",
       "\\item '42000'\n",
       "\\item '42089'\n",
       "\\item '43000'\n",
       "\\item '45000'\n",
       "\\item '46000'\n",
       "\\item '47000'\n",
       "\\item '50000'\n",
       "\\item '52000'\n",
       "\\item '52700'\n",
       "\\item '54000'\n",
       "\\item '60000'\n",
       "\\item '73000'\n",
       "\\item '75000'\n",
       "\\item '84000'\n",
       "\\item '110000'\n",
       "\\end{enumerate*}\n"
      ],
      "text/markdown": [
       "1. '40'\n",
       "2. '2800'\n",
       "3. '2880'\n",
       "4. '23000'\n",
       "5. '23500'\n",
       "6. '24000'\n",
       "7. '25000'\n",
       "8. '25412'\n",
       "9. '29232'\n",
       "10. '30000'\n",
       "11. '30192'\n",
       "12. '32000'\n",
       "13. '32400'\n",
       "14. '32500'\n",
       "15. '33000'\n",
       "16. '33500'\n",
       "17. '33600'\n",
       "18. '34500'\n",
       "19. '35000'\n",
       "20. '36000'\n",
       "21. '38000'\n",
       "22. '38600'\n",
       "23. '39000'\n",
       "24. '40000'\n",
       "25. '40500'\n",
       "26. '41000'\n",
       "27. '42000'\n",
       "28. '42089'\n",
       "29. '43000'\n",
       "30. '45000'\n",
       "31. '46000'\n",
       "32. '47000'\n",
       "33. '50000'\n",
       "34. '52000'\n",
       "35. '52700'\n",
       "36. '54000'\n",
       "37. '60000'\n",
       "38. '73000'\n",
       "39. '75000'\n",
       "40. '84000'\n",
       "41. '110000'\n",
       "\n",
       "\n"
      ],
      "text/plain": [
       " [1] \"40\"     \"2800\"   \"2880\"   \"23000\"  \"23500\"  \"24000\"  \"25000\"  \"25412\" \n",
       " [9] \"29232\"  \"30000\"  \"30192\"  \"32000\"  \"32400\"  \"32500\"  \"33000\"  \"33500\" \n",
       "[17] \"33600\"  \"34500\"  \"35000\"  \"36000\"  \"38000\"  \"38600\"  \"39000\"  \"40000\" \n",
       "[25] \"40500\"  \"41000\"  \"42000\"  \"42089\"  \"43000\"  \"45000\"  \"46000\"  \"47000\" \n",
       "[33] \"50000\"  \"52000\"  \"52700\"  \"54000\"  \"60000\"  \"73000\"  \"75000\"  \"84000\" \n",
       "[41] \"110000\""
      ]
     },
     "metadata": {},
     "output_type": "display_data"
    }
   ],
   "source": [
    "salaireSort <- distinct(dataset2$salaire)\n",
    "salaireSort"
   ]
  },
  {
   "cell_type": "markdown",
   "metadata": {},
   "source": [
    "On peut considérer que tous les salaires inférieurs au SMIC sont des erreurs d'enregistrement.  \n",
    "Les sommes à quatre chiffres peuvent correspondre à un salaire mensuel au lieu d'un salaire annuel brut.  \n",
    "Les sommes  à deux chiffres peuvent correspondre à des enregistrements en milliers d'euros."
   ]
  },
  {
   "cell_type": "code",
   "execution_count": 9,
   "metadata": {
    "tags": [],
    "vscode": {
     "languageId": "r"
    }
   },
   "outputs": [],
   "source": [
    "dataset2$salaire <- as.numeric(replacElement(\n",
    "    listeData = dataset2$salaire\n",
    "    , element = c(40, 2800, 2880)\n",
    "    , ramplace = c(40000, 2800*12, 2880*12)\n",
    "    ))"
   ]
  },
  {
   "cell_type": "markdown",
   "metadata": {},
   "source": [
    "#### Taille"
   ]
  },
  {
   "cell_type": "code",
   "execution_count": 10,
   "metadata": {
    "tags": [],
    "vscode": {
     "languageId": "r"
    }
   },
   "outputs": [
    {
     "data": {
      "text/html": [
       "<ol class=list-inline>\n",
       "\t<li>'152'</li>\n",
       "\t<li>'153'</li>\n",
       "\t<li>'155'</li>\n",
       "\t<li>'158'</li>\n",
       "\t<li>'160'</li>\n",
       "\t<li>'161'</li>\n",
       "\t<li>'162'</li>\n",
       "\t<li>'163'</li>\n",
       "\t<li>'164'</li>\n",
       "\t<li>'165'</li>\n",
       "\t<li>'166'</li>\n",
       "\t<li>'167'</li>\n",
       "\t<li>'168'</li>\n",
       "\t<li>'169'</li>\n",
       "\t<li>'170'</li>\n",
       "\t<li>'171'</li>\n",
       "\t<li>'172'</li>\n",
       "\t<li>'173'</li>\n",
       "\t<li>'174'</li>\n",
       "\t<li>'175'</li>\n",
       "\t<li>'176'</li>\n",
       "\t<li>'177'</li>\n",
       "\t<li>'178'</li>\n",
       "\t<li>'181'</li>\n",
       "\t<li>'182'</li>\n",
       "\t<li>'183'</li>\n",
       "\t<li>'184'</li>\n",
       "\t<li>'185'</li>\n",
       "\t<li>'186'</li>\n",
       "\t<li>'187'</li>\n",
       "\t<li>'193'</li>\n",
       "\t<li>'194'</li>\n",
       "\t<li>'195'</li>\n",
       "\t<li>'1e+19'</li>\n",
       "</ol>\n"
      ],
      "text/latex": [
       "\\begin{enumerate*}\n",
       "\\item '152'\n",
       "\\item '153'\n",
       "\\item '155'\n",
       "\\item '158'\n",
       "\\item '160'\n",
       "\\item '161'\n",
       "\\item '162'\n",
       "\\item '163'\n",
       "\\item '164'\n",
       "\\item '165'\n",
       "\\item '166'\n",
       "\\item '167'\n",
       "\\item '168'\n",
       "\\item '169'\n",
       "\\item '170'\n",
       "\\item '171'\n",
       "\\item '172'\n",
       "\\item '173'\n",
       "\\item '174'\n",
       "\\item '175'\n",
       "\\item '176'\n",
       "\\item '177'\n",
       "\\item '178'\n",
       "\\item '181'\n",
       "\\item '182'\n",
       "\\item '183'\n",
       "\\item '184'\n",
       "\\item '185'\n",
       "\\item '186'\n",
       "\\item '187'\n",
       "\\item '193'\n",
       "\\item '194'\n",
       "\\item '195'\n",
       "\\item '1e+19'\n",
       "\\end{enumerate*}\n"
      ],
      "text/markdown": [
       "1. '152'\n",
       "2. '153'\n",
       "3. '155'\n",
       "4. '158'\n",
       "5. '160'\n",
       "6. '161'\n",
       "7. '162'\n",
       "8. '163'\n",
       "9. '164'\n",
       "10. '165'\n",
       "11. '166'\n",
       "12. '167'\n",
       "13. '168'\n",
       "14. '169'\n",
       "15. '170'\n",
       "16. '171'\n",
       "17. '172'\n",
       "18. '173'\n",
       "19. '174'\n",
       "20. '175'\n",
       "21. '176'\n",
       "22. '177'\n",
       "23. '178'\n",
       "24. '181'\n",
       "25. '182'\n",
       "26. '183'\n",
       "27. '184'\n",
       "28. '185'\n",
       "29. '186'\n",
       "30. '187'\n",
       "31. '193'\n",
       "32. '194'\n",
       "33. '195'\n",
       "34. '1e+19'\n",
       "\n",
       "\n"
      ],
      "text/plain": [
       " [1] \"152\"   \"153\"   \"155\"   \"158\"   \"160\"   \"161\"   \"162\"   \"163\"   \"164\"  \n",
       "[10] \"165\"   \"166\"   \"167\"   \"168\"   \"169\"   \"170\"   \"171\"   \"172\"   \"173\"  \n",
       "[19] \"174\"   \"175\"   \"176\"   \"177\"   \"178\"   \"181\"   \"182\"   \"183\"   \"184\"  \n",
       "[28] \"185\"   \"186\"   \"187\"   \"193\"   \"194\"   \"195\"   \"1e+19\""
      ]
     },
     "metadata": {},
     "output_type": "display_data"
    }
   ],
   "source": [
    "tailleSort <- distinct(dataset2$taille)\n",
    "tailleSort"
   ]
  },
  {
   "cell_type": "markdown",
   "metadata": {},
   "source": [
    "Les valeurs de la taille et du poids sont ***disproportionnées***, par exemple respectivement $10¨19$ et $10¨7$.  \n",
    "Nous décidons de les remplacer par la ***moyenne nationale**, soit respectivement $175$ et $80$."
   ]
  },
  {
   "cell_type": "code",
   "execution_count": 11,
   "metadata": {
    "tags": [],
    "vscode": {
     "languageId": "r"
    }
   },
   "outputs": [
    {
     "data": {
      "text/html": [
       "<table>\n",
       "<thead><tr><th></th><th scope=col>promo</th><th scope=col>ecole</th><th scope=col>bac</th><th scope=col>etudes</th><th scope=col>exp</th><th scope=col>chang</th><th scope=col>contrat</th><th scope=col>employers</th><th scope=col>salaire</th><th scope=col>lieu</th><th scope=col>heureu</th><th scope=col>sexe</th><th scope=col>enfants</th><th scope=col>age</th><th scope=col>taille</th><th scope=col>poids</th></tr></thead>\n",
       "<tbody>\n",
       "\t<tr><th scope=row>3</th><td>2017        </td><td>B           </td><td>B           </td><td>CPS         </td><td>3           </td><td>2           </td><td>CDI         </td><td>[10;249]    </td><td>36000       </td><td>Grande_ville</td><td>OUI         </td><td>F           </td><td>Non         </td><td>25          </td><td>1e+19       </td><td>1e+07       </td></tr>\n",
       "</tbody>\n",
       "</table>\n"
      ],
      "text/latex": [
       "\\begin{tabular}{r|llllllllllllllll}\n",
       "  & promo & ecole & bac & etudes & exp & chang & contrat & employers & salaire & lieu & heureu & sexe & enfants & age & taille & poids\\\\\n",
       "\\hline\n",
       "\t3 & 2017           & B              & B              & CPS            & 3              & 2              & CDI            & {[}10;249{]}   & 36000          & Grande\\_ville & OUI            & F              & Non            & 25             & 1e+19          & 1e+07         \\\\\n",
       "\\end{tabular}\n"
      ],
      "text/markdown": [
       "\n",
       "| <!--/--> | promo | ecole | bac | etudes | exp | chang | contrat | employers | salaire | lieu | heureu | sexe | enfants | age | taille | poids |\n",
       "|---|---|---|---|---|---|---|---|---|---|---|---|---|---|---|---|---|\n",
       "| 3 | 2017         | B            | B            | CPS          | 3            | 2            | CDI          | [10;249]     | 36000        | Grande_ville | OUI          | F            | Non          | 25           | 1e+19        | 1e+07        |\n",
       "\n"
      ],
      "text/plain": [
       "  promo ecole bac etudes exp chang contrat employers salaire lieu        \n",
       "3 2017  B     B   CPS    3   2     CDI     [10;249]  36000   Grande_ville\n",
       "  heureu sexe enfants age taille poids\n",
       "3 OUI    F    Non     25  1e+19  1e+07"
      ]
     },
     "metadata": {},
     "output_type": "display_data"
    }
   ],
   "source": [
    "dataset2[\n",
    "    dataset2$taille == 1e+19\n",
    "    & !is.na(dataset2$taille)\n",
    "    ,\n",
    "]\n",
    "dataset2[3,15] <- 164 # c'est une femme\n",
    "dataset2[3,16] <- 65"
   ]
  },
  {
   "cell_type": "markdown",
   "metadata": {},
   "source": [
    "### Disperssion"
   ]
  },
  {
   "cell_type": "code",
   "execution_count": 12,
   "metadata": {
    "tags": [],
    "vscode": {
     "languageId": "r"
    }
   },
   "outputs": [
    {
     "data": {
      "image/png": "[encoded data removed]",
      "text/plain": [
       "Plot with title \"Histograme\""
      ]
     },
     "metadata": {
      "image/png": {
       "height": 420,
       "width": 420
      }
     },
     "output_type": "display_data"
    },
    {
     "data": {
      "image/png": "[encoded data removed]",
      "text/plain": [
       "plot without title"
      ]
     },
     "metadata": {
      "image/png": {
       "height": 420,
       "width": 420
      }
     },
     "output_type": "display_data"
    }
   ],
   "source": [
    "colonne <- 1\n",
    "#tableColonne <- table(dataset2[,colonne])\n",
    "#tableColonne\n",
    "tableColonne <- as.factor(dataset2[,colonne])\n",
    "#summary(tableColonne)\n",
    "plot(tableColonne,\n",
    "    , main = \"Histograme\"\n",
    "    , xlab = names(dataset2)[colonne]\n",
    "    , ylab = \"Effecitf\"\n",
    "    )\n",
    "boxplot(dataset2[,colonne], xlab = names(dataset2)[colonne], horizontal = TRUE)\n",
    "#hist(dataset2[,colonne],main = )"
   ]
  },
  {
   "cell_type": "markdown",
   "metadata": {},
   "source": [
    "On observe une forte propotion de personne avec peut experience de travaille par raport effectife de promotion eyant repondu au sondage.  \n",
    "Il sont en general satisfait de leur travaille se qui pourais explique le peut de changement d'entreprise.  \n",
    "\n",
    "On remarque aussi des points extremes en `chang` & `salaire`"
   ]
  },
  {
   "cell_type": "code",
   "execution_count": 13,
   "metadata": {
    "tags": [],
    "vscode": {
     "languageId": "r"
    }
   },
   "outputs": [
    {
     "data": {
      "text/html": [
       "<table>\n",
       "<thead><tr><th scope=col>promo</th><th scope=col>ecole</th><th scope=col>bac</th><th scope=col>etudes</th><th scope=col>exp</th><th scope=col>chang</th><th scope=col>contrat</th><th scope=col>employers</th><th scope=col>salaire</th><th scope=col>lieu</th><th scope=col>heureu</th><th scope=col>sexe</th><th scope=col>enfants</th><th scope=col>age</th><th scope=col>taille</th><th scope=col>poids</th></tr></thead>\n",
       "<tbody>\n",
       "</tbody>\n",
       "</table>\n"
      ],
      "text/latex": [
       "\\begin{tabular}{r|llllllllllllllll}\n",
       " promo & ecole & bac & etudes & exp & chang & contrat & employers & salaire & lieu & heureu & sexe & enfants & age & taille & poids\\\\\n",
       "\\hline\n",
       "\\end{tabular}\n"
      ],
      "text/markdown": [
       "\n",
       "| promo | ecole | bac | etudes | exp | chang | contrat | employers | salaire | lieu | heureu | sexe | enfants | age | taille | poids |\n",
       "|---|---|---|---|---|---|---|---|---|---|---|---|---|---|---|---|\n",
       "\n"
      ],
      "text/plain": [
       "     promo ecole bac etudes exp chang contrat employers salaire lieu heureu\n",
       "     sexe enfants age taille poids"
      ]
     },
     "metadata": {},
     "output_type": "display_data"
    },
    {
     "data": {
      "text/html": [
       "<table>\n",
       "<thead><tr><th></th><th scope=col>promo</th><th scope=col>ecole</th><th scope=col>bac</th><th scope=col>etudes</th><th scope=col>exp</th><th scope=col>chang</th><th scope=col>contrat</th><th scope=col>employers</th><th scope=col>salaire</th><th scope=col>lieu</th><th scope=col>heureu</th><th scope=col>sexe</th><th scope=col>enfants</th><th scope=col>age</th><th scope=col>taille</th><th scope=col>poids</th></tr></thead>\n",
       "<tbody>\n",
       "\t<tr><th scope=row>5</th><td>2018        </td><td>B           </td><td>TB          </td><td>CPL         </td><td> 3.0        </td><td>2           </td><td>CDI         </td><td>[250;4999]  </td><td> 84000      </td><td>Hors_UE     </td><td>OUI         </td><td>H           </td><td>Non         </td><td>24          </td><td>169         </td><td>57          </td></tr>\n",
       "\t<tr><th scope=row>28</th><td>2017        </td><td>B           </td><td>AB          </td><td>CPS         </td><td> 4.0        </td><td>1           </td><td>CDI         </td><td>[250;4999]  </td><td>110000      </td><td>Hors_UE     </td><td>OUI         </td><td>F           </td><td>Non         </td><td>28          </td><td>167         </td><td>72          </td></tr>\n",
       "\t<tr><th scope=row>29</th><td>2014        </td><td>AB          </td><td>Sans        </td><td>DUT         </td><td> 6.0        </td><td>4           </td><td>CDI         </td><td>[10;249]    </td><td> 60000      </td><td>Capital     </td><td>OUI         </td><td>F           </td><td>Oui         </td><td>30          </td><td>182         </td><td>68          </td></tr>\n",
       "\t<tr><th scope=row>38</th><td>2010        </td><td>AB          </td><td>AB          </td><td>CPS         </td><td>10.0        </td><td>6           </td><td>CDI         </td><td>[5000;+]    </td><td> 75000      </td><td>Grande_ville</td><td>OUI         </td><td>F           </td><td>Oui         </td><td>33          </td><td> NA         </td><td>NA          </td></tr>\n",
       "\t<tr><th scope=row>58</th><td>2013        </td><td>B           </td><td>B           </td><td>Licence     </td><td> 7.5        </td><td>1           </td><td>CDI         </td><td>[5000;+]    </td><td> 73000      </td><td>UE          </td><td>OUI         </td><td>H           </td><td>Non         </td><td>31          </td><td>160         </td><td>54          </td></tr>\n",
       "</tbody>\n",
       "</table>\n"
      ],
      "text/latex": [
       "\\begin{tabular}{r|llllllllllllllll}\n",
       "  & promo & ecole & bac & etudes & exp & chang & contrat & employers & salaire & lieu & heureu & sexe & enfants & age & taille & poids\\\\\n",
       "\\hline\n",
       "\t5 & 2018           & B              & TB             & CPL            &  3.0           & 2              & CDI            & {[}250;4999{]} &  84000         & Hors\\_UE      & OUI            & H              & Non            & 24             & 169            & 57            \\\\\n",
       "\t28 & 2017           & B              & AB             & CPS            &  4.0           & 1              & CDI            & {[}250;4999{]} & 110000         & Hors\\_UE      & OUI            & F              & Non            & 28             & 167            & 72            \\\\\n",
       "\t29 & 2014           & AB             & Sans           & DUT            &  6.0           & 4              & CDI            & {[}10;249{]}   &  60000         & Capital        & OUI            & F              & Oui            & 30             & 182            & 68            \\\\\n",
       "\t38 & 2010           & AB             & AB             & CPS            & 10.0           & 6              & CDI            & {[}5000;+{]}   &  75000         & Grande\\_ville & OUI            & F              & Oui            & 33             &  NA            & NA            \\\\\n",
       "\t58 & 2013           & B              & B              & Licence        &  7.5           & 1              & CDI            & {[}5000;+{]}   &  73000         & UE             & OUI            & H              & Non            & 31             & 160            & 54            \\\\\n",
       "\\end{tabular}\n"
      ],
      "text/markdown": [
       "\n",
       "| <!--/--> | promo | ecole | bac | etudes | exp | chang | contrat | employers | salaire | lieu | heureu | sexe | enfants | age | taille | poids |\n",
       "|---|---|---|---|---|---|---|---|---|---|---|---|---|---|---|---|---|\n",
       "| 5 | 2018         | B            | TB           | CPL          |  3.0         | 2            | CDI          | [250;4999]   |  84000       | Hors_UE      | OUI          | H            | Non          | 24           | 169          | 57           |\n",
       "| 28 | 2017         | B            | AB           | CPS          |  4.0         | 1            | CDI          | [250;4999]   | 110000       | Hors_UE      | OUI          | F            | Non          | 28           | 167          | 72           |\n",
       "| 29 | 2014         | AB           | Sans         | DUT          |  6.0         | 4            | CDI          | [10;249]     |  60000       | Capital      | OUI          | F            | Oui          | 30           | 182          | 68           |\n",
       "| 38 | 2010         | AB           | AB           | CPS          | 10.0         | 6            | CDI          | [5000;+]     |  75000       | Grande_ville | OUI          | F            | Oui          | 33           |  NA          | NA           |\n",
       "| 58 | 2013         | B            | B            | Licence      |  7.5         | 1            | CDI          | [5000;+]     |  73000       | UE           | OUI          | H            | Non          | 31           | 160          | 54           |\n",
       "\n"
      ],
      "text/plain": [
       "   promo ecole bac  etudes  exp  chang contrat employers  salaire lieu        \n",
       "5  2018  B     TB   CPL      3.0 2     CDI     [250;4999]  84000  Hors_UE     \n",
       "28 2017  B     AB   CPS      4.0 1     CDI     [250;4999] 110000  Hors_UE     \n",
       "29 2014  AB    Sans DUT      6.0 4     CDI     [10;249]    60000  Capital     \n",
       "38 2010  AB    AB   CPS     10.0 6     CDI     [5000;+]    75000  Grande_ville\n",
       "58 2013  B     B    Licence  7.5 1     CDI     [5000;+]    73000  UE          \n",
       "   heureu sexe enfants age taille poids\n",
       "5  OUI    H    Non     24  169    57   \n",
       "28 OUI    F    Non     28  167    72   \n",
       "29 OUI    F    Oui     30  182    68   \n",
       "38 OUI    F    Oui     33   NA    NA   \n",
       "58 OUI    H    Non     31  160    54   "
      ]
     },
     "metadata": {},
     "output_type": "display_data"
    }
   ],
   "source": [
    "colonne <- 9\n",
    "Q1 <- quantile(\n",
    "    x = dataset2[colonne]\n",
    "    , prob = .25 \n",
    "    , na.rm = TRUE\n",
    "    )\n",
    "Q3 <- quantile(\n",
    "    x = dataset2[colonne]\n",
    "    , prob = .75 \n",
    "    , na.rm = TRUE\n",
    "    )\n",
    "QI <- as.numeric(Q3 - Q1)\n",
    "QIR <- as.numeric(c(\n",
    "    Q1 - 1.5 * QI\n",
    "    , Q3 + 1.5 * QI\n",
    "    ))\n",
    "dataset2[dataset2[colonne] < QIR[1] & !is.na(dataset2[colonne]),]\n",
    "dataset2[dataset2[colonne] > QIR[2] & !is.na(dataset2[colonne]),]"
   ]
  },
  {
   "cell_type": "markdown",
   "metadata": {},
   "source": [
    "Il est ***difficile*** de déterminer si les valeurs du **salaire** sont aberrantes ou non, à partir des résultats obtenus.  \n",
    "Pour la catégorie du **nombre de changements d'entreprise**, elles semblent plutôt ***cohérentes*** dans la globalité.  \n",
    "Aucune modification ne sera opérée, on les gardera à l'esprit."
   ]
  },
  {
   "cell_type": "markdown",
   "metadata": {},
   "source": [
    "### Dépendence"
   ]
  },
  {
   "cell_type": "code",
   "execution_count": 14,
   "metadata": {
    "vscode": {
     "languageId": "r"
    }
   },
   "outputs": [
    {
     "data": {
      "text/plain": [
       "\n",
       "\tWelch Two Sample t-test\n",
       "\n",
       "data:  dataset2[\"taille\"] and dataset2[\"poids\"]\n",
       "t = 43.192, df = 95.26, p-value < 2.2e-16\n",
       "alternative hypothesis: true difference in means is not equal to 0\n",
       "99 percent confidence interval:\n",
       "  97.04314 109.61934\n",
       "sample estimates:\n",
       "mean of x mean of y \n",
       "171.44444  68.11321 \n"
      ]
     },
     "metadata": {},
     "output_type": "display_data"
    },
    {
     "data": {
      "text/plain": [
       "\n",
       "\tWelch Two Sample t-test\n",
       "\n",
       "data:  dataset2[\"promo\"] and dataset2[\"exp\"]\n",
       "t = 4146.4, df = 116.98, p-value < 2.2e-16\n",
       "alternative hypothesis: true difference in means is not equal to 0\n",
       "99 percent confidence interval:\n",
       " 2011.054 2013.596\n",
       "sample estimates:\n",
       "  mean of x   mean of y \n",
       "2016.266667    3.941667 \n"
      ]
     },
     "metadata": {},
     "output_type": "display_data"
    },
    {
     "data": {
      "text/plain": [
       "\n",
       "\tWelch Two Sample t-test\n",
       "\n",
       "data:  dataset2[\"exp\"] and dataset2[\"chang\"]\n",
       "t = 4.1147, df = 99.774, p-value = 7.986e-05\n",
       "alternative hypothesis: true difference in means is not equal to 0\n",
       "99 percent confidence interval:\n",
       " 0.5758686 2.6074647\n",
       "sample estimates:\n",
       "mean of x mean of y \n",
       " 3.941667  2.350000 \n"
      ]
     },
     "metadata": {},
     "output_type": "display_data"
    },
    {
     "data": {
      "text/plain": [
       "\n",
       "\tWelch Two Sample t-test\n",
       "\n",
       "data:  dataset2[\"age\"] and dataset2[\"chang\"]\n",
       "t = 56.11, df = 88.49, p-value < 2.2e-16\n",
       "alternative hypothesis: true difference in means is not equal to 0\n",
       "99 percent confidence interval:\n",
       " 24.08121 26.45212\n",
       "sample estimates:\n",
       "mean of x mean of y \n",
       " 27.61667   2.35000 \n"
      ]
     },
     "metadata": {},
     "output_type": "display_data"
    },
    {
     "data": {
      "text/plain": [
       "\n",
       "\tOne Sample t-test\n",
       "\n",
       "data:  table(dataset2[, \"employers\"], dataset2[, \"lieu\"])\n",
       "t = 4.3589, df = 19, p-value = 0.0003379\n",
       "alternative hypothesis: true mean is not equal to 0\n",
       "99 percent confidence interval:\n",
       " 1.03097 4.96903\n",
       "sample estimates:\n",
       "mean of x \n",
       "        3 \n"
      ]
     },
     "metadata": {},
     "output_type": "display_data"
    }
   ],
   "source": [
    "t.test(x=dataset2[\"taille\"],y=dataset2[\"poids\"],conf.level = 0.99)\n",
    "#graphique(x = dataset2[\"taille\"],y = dataset2[\"poids\"])\n",
    "\n",
    "t.test(x=dataset2[\"promo\"],y=dataset2[\"exp\"],conf.level = 0.99)\n",
    "#graphique(x = dataset2[14],y = dataset2[6])\n",
    "\n",
    "t.test(x=dataset2[\"exp\"],y=dataset2[\"chang\"],conf.level = 0.99)\n",
    "#graphique(x = dataset2[5],y = dataset2[6])\n",
    "\n",
    "t.test(x=dataset2[\"age\"],y=dataset2[\"chang\"],conf.level = 0.99)\n",
    "#graphique(x = dataset2[14],y = dataset2[6])\n",
    "\n",
    "#table(dataset2[,\"employers\"],dataset2[,\"lieu\"])\n",
    "t.test(table(dataset2[,\"employers\"],dataset2[,\"lieu\"]),conf.level = 0.99)\n",
    "#graphique(x = dataset2[,10],y = dataset2[,8])"
   ]
  },
  {
   "cell_type": "code",
   "execution_count": 15,
   "metadata": {
    "vscode": {
     "languageId": "r"
    }
   },
   "outputs": [],
   "source": [
    "dataset3 <- cbind(dataset2, dataset2[\"taille\"] / dataset2[\"poids\"])\n",
    "colnames(dataset3)[length(dataset3)] <- \"taille/poids\"\n",
    "\n",
    "dataset3 <- cbind(dataset3, dataset3[\"exp\"] / (2021-dataset3[\"promo\"]))\n",
    "colnames(dataset3)[length(dataset3)] <- \"exp/promo\"\n",
    "\n",
    "dataset3 <- cbind(dataset3, dataset3[\"exp\"] / dataset3[\"chang\"])\n",
    "colnames(dataset3)[length(dataset3)] <- \"exp/chang\""
   ]
  },
  {
   "cell_type": "code",
   "execution_count": 16,
   "metadata": {
    "vscode": {
     "languageId": "r"
    }
   },
   "outputs": [
    {
     "data": {
      "text/plain": [
       "\n",
       "\tOne Sample t-test\n",
       "\n",
       "data:  table(dataset3[, \"sexe\"], dataset3[, \"taille/poids\"])\n",
       "t = 10.166, df = 99, p-value < 2.2e-16\n",
       "alternative hypothesis: true mean is not equal to 0\n",
       "99 percent confidence interval:\n",
       " 0.3930692 0.6669308\n",
       "sample estimates:\n",
       "mean of x \n",
       "     0.53 \n"
      ]
     },
     "metadata": {},
     "output_type": "display_data"
    }
   ],
   "source": [
    "#table(dataset2[,\"sexe\"],dataset2[,\"taille/poids\"])\n",
    "t.test(table(dataset3[,\"sexe\"],dataset3[,\"taille/poids\"]),conf.level = 0.99)\n",
    "#graphique(x = dataset2[,\"sexe\"],y = dataset2[,\"taille/poids\"])"
   ]
  },
  {
   "cell_type": "markdown",
   "metadata": {},
   "source": [
    "Certaines variables ne sont pas indépendantes entre elles, il serait préférable de faire un produit entre deux variables dépendantes entre elles.  \n",
    "On constate ci-dessus, que se sont des ***variables dépendantes*** entre elles dans notre echantillon.  \n",
    "Nous ne prendrons pas les nouvelles variables en rapport avec l'**âge** car elles sont ***difficiles*** à expliquer de manière objective.  \n",
    "La nouvelle variable qui dépend de l'emplacement et de la taille de l'**entreprise** est plus ***complexe*** à définir.\n",
    "\n",
    "Explication des nouvelles variables :\n",
    "- **taille/poids**  : le poids est proportionnel à la taille.\n",
    "- **exp/promo** : l'experience realiser sur le nombre d'experience possible\n",
    "- **exp/chang** : c'est la moyenne d'années accordées à chaque employeur."
   ]
  },
  {
   "cell_type": "markdown",
   "metadata": {},
   "source": [
    "## Régression"
   ]
  },
  {
   "cell_type": "markdown",
   "metadata": {},
   "source": [
    "### Représentation"
   ]
  },
  {
   "cell_type": "code",
   "execution_count": 17,
   "metadata": {
    "vscode": {
     "languageId": "r"
    }
   },
   "outputs": [
    {
     "name": "stdout",
     "output_type": "stream",
     "text": [
      "\n",
      "Call:\n",
      "lm(formula = data[, Y] ~ data[, colonne])\n",
      "\n",
      "Residuals:\n",
      "   Min     1Q Median     3Q    Max \n",
      "-16928  -8728  -2768   3397  66032 \n",
      "\n",
      "Coefficients:\n",
      "                Estimate Std. Error t value Pr(>|t|)   \n",
      "(Intercept)        22689       8223   2.759  0.00774 **\n",
      "data[, colonne]    21279       9493   2.241  0.02884 * \n",
      "---\n",
      "Signif. codes:  0 '***' 0.001 '**' 0.01 '*' 0.05 '.' 0.1 ' ' 1\n",
      "\n",
      "Residual standard error: 14190 on 58 degrees of freedom\n",
      "Multiple R-squared:  0.07972,\tAdjusted R-squared:  0.06385 \n",
      "F-statistic: 5.024 on 1 and 58 DF,  p-value: 0.02884\n",
      "\n"
     ]
    },
    {
     "name": "stderr",
     "output_type": "stream",
     "text": [
      "BIC :  1327.7716999259\n",
      "\n",
      "p-value :  0.0288361069677225\n",
      "\n"
     ]
    },
    {
     "data": {
      "image/png": "[encoded data removed]",
      "text/plain": [
       "plot without title"
      ]
     },
     "metadata": {
      "image/png": {
       "height": 420,
       "width": 420
      }
     },
     "output_type": "display_data"
    }
   ],
   "source": [
    "afficheModel(data = dataset3, colonne = 18)"
   ]
  },
  {
   "cell_type": "markdown",
   "metadata": {},
   "source": [
    "Pour la version en ligne, vous pouvez ***défiler*** les différents graphiques en modifiant la variable `colonne` de la fonction ci-dessous.\n",
    "\n",
    "Au cours du défilement, nous n'avons pas constaté de modification à effectuer sur des variables par une ***fonction***.  \n",
    "Nous avons cependant bien sûr constaté que, comparativement à une interprétation humaine, les droites de régression ne sont toujours ***pas suffisamment inclinées***, due aux points extrêmes laissés.  \n",
    "Nous envisagerons de les ***conserver*** afin d'obtenir un modèle plus robuste et que dans leur globalité et ses valeurs ne sont pas aussi aberrantes."
   ]
  },
  {
   "cell_type": "markdown",
   "metadata": {},
   "source": [
    "### Distribution"
   ]
  },
  {
   "cell_type": "markdown",
   "metadata": {},
   "source": [
    "Lors de notre première régression, nous avions omis de distribuer les catégories des colonnes.  \n",
    "Cela signifie que chaque catégorie des colonnes non continues (caractère) sera ***distribuée*** en autant de colonnes binaires.\n",
    "Nous avons observé que les résultats de régression pour la même valeur d'interception étaient différents.  \n",
    "Nous sélectionnerons la colonne de référence à la fin."
   ]
  },
  {
   "cell_type": "code",
   "execution_count": 18,
   "metadata": {
    "vscode": {
     "languageId": "r"
    }
   },
   "outputs": [
    {
     "data": {
      "text/html": [
       "<table>\n",
       "<thead><tr><th></th><th scope=col>promo</th><th scope=col>ecole</th><th scope=col>bac</th><th scope=col>etudes</th><th scope=col>exp</th><th scope=col>chang</th><th scope=col>contrat</th><th scope=col>employers</th><th scope=col>salaire</th><th scope=col>lieu</th><th scope=col>...</th><th scope=col>lieuCapital</th><th scope=col>lieuGrande_ville</th><th scope=col>lieuHors_UE</th><th scope=col>lieuUE</th><th scope=col>heureuNON</th><th scope=col>heureuOUI</th><th scope=col>sexeF</th><th scope=col>sexeH</th><th scope=col>enfantsNon</th><th scope=col>enfantsOui</th></tr></thead>\n",
       "<tbody>\n",
       "\t<tr><th scope=row>60</th><td>2019        </td><td>B           </td><td>TB          </td><td>CPS         </td><td>2.0         </td><td>2           </td><td>CDI         </td><td>[10;249]    </td><td>32000       </td><td>Autre_ville </td><td>...         </td><td>0           </td><td>0           </td><td>0           </td><td>0           </td><td>0           </td><td>1           </td><td>0           </td><td>1           </td><td>1           </td><td>0           </td></tr>\n",
       "\t<tr><th scope=row>61</th><td>2019        </td><td>AB          </td><td>AB          </td><td>CPS         </td><td>2.0         </td><td>1           </td><td>CDI         </td><td>[10;249]    </td><td>40000       </td><td>Capital     </td><td>...         </td><td>1           </td><td>0           </td><td>0           </td><td>0           </td><td>0           </td><td>1           </td><td>0           </td><td>1           </td><td>1           </td><td>0           </td></tr>\n",
       "\t<tr><th scope=row>62</th><td>2013        </td><td>B           </td><td>Sans        </td><td>Licence     </td><td>7.0         </td><td>2           </td><td>CDI         </td><td>[5000;+]    </td><td>40000       </td><td>Capital     </td><td>...         </td><td>1           </td><td>0           </td><td>0           </td><td>0           </td><td>0           </td><td>1           </td><td>1           </td><td>0           </td><td>1           </td><td>0           </td></tr>\n",
       "\t<tr><th scope=row>63</th><td>2019        </td><td>B           </td><td>TB          </td><td>CPS         </td><td>1.0         </td><td>1           </td><td>CDI         </td><td>[5000;+]    </td><td>33000       </td><td>Grande_ville</td><td>...         </td><td>0           </td><td>1           </td><td>0           </td><td>0           </td><td>0           </td><td>1           </td><td>1           </td><td>0           </td><td>1           </td><td>0           </td></tr>\n",
       "\t<tr><th scope=row>64</th><td>2010        </td><td>B           </td><td>B           </td><td>CPS         </td><td>3.5         </td><td>4           </td><td>CDD         </td><td>[10;249]    </td><td>34560       </td><td>Capital     </td><td>...         </td><td>1           </td><td>0           </td><td>0           </td><td>0           </td><td>0           </td><td>1           </td><td>1           </td><td>0           </td><td>1           </td><td>0           </td></tr>\n",
       "\t<tr><th scope=row>65</th><td>2016        </td><td>B           </td><td>Sans        </td><td>Licence     </td><td>3.0         </td><td>2           </td><td>CDI         </td><td>[0;10]      </td><td>32500       </td><td>Grande_ville</td><td>...         </td><td>0           </td><td>1           </td><td>0           </td><td>0           </td><td>0           </td><td>1           </td><td>0           </td><td>1           </td><td>0           </td><td>1           </td></tr>\n",
       "</tbody>\n",
       "</table>\n"
      ],
      "text/latex": [
       "\\begin{tabular}{r|lllllllllllllllllllllllllllllllllllllllllllllllll}\n",
       "  & promo & ecole & bac & etudes & exp & chang & contrat & employers & salaire & lieu & ... & lieuCapital & lieuGrande\\_ville & lieuHors\\_UE & lieuUE & heureuNON & heureuOUI & sexeF & sexeH & enfantsNon & enfantsOui\\\\\n",
       "\\hline\n",
       "\t60 & 2019           & B              & TB             & CPS            & 2.0            & 2              & CDI            & {[}10;249{]}   & 32000          & Autre\\_ville  & ...            & 0              & 0              & 0              & 0              & 0              & 1              & 0              & 1              & 1              & 0             \\\\\n",
       "\t61 & 2019         & AB           & AB           & CPS          & 2.0          & 1            & CDI          & {[}10;249{]} & 40000        & Capital      & ...          & 1            & 0            & 0            & 0            & 0            & 1            & 0            & 1            & 1            & 0           \\\\\n",
       "\t62 & 2013         & B            & Sans         & Licence      & 7.0          & 2            & CDI          & {[}5000;+{]} & 40000        & Capital      & ...          & 1            & 0            & 0            & 0            & 0            & 1            & 1            & 0            & 1            & 0           \\\\\n",
       "\t63 & 2019           & B              & TB             & CPS            & 1.0            & 1              & CDI            & {[}5000;+{]}   & 33000          & Grande\\_ville & ...            & 0              & 1              & 0              & 0              & 0              & 1              & 1              & 0              & 1              & 0             \\\\\n",
       "\t64 & 2010         & B            & B            & CPS          & 3.5          & 4            & CDD          & {[}10;249{]} & 34560        & Capital      & ...          & 1            & 0            & 0            & 0            & 0            & 1            & 1            & 0            & 1            & 0           \\\\\n",
       "\t65 & 2016           & B              & Sans           & Licence        & 3.0            & 2              & CDI            & {[}0;10{]}     & 32500          & Grande\\_ville & ...            & 0              & 1              & 0              & 0              & 0              & 1              & 0              & 1              & 0              & 1             \\\\\n",
       "\\end{tabular}\n"
      ],
      "text/markdown": [
       "\n",
       "| <!--/--> | promo | ecole | bac | etudes | exp | chang | contrat | employers | salaire | lieu | ... | lieuCapital | lieuGrande_ville | lieuHors_UE | lieuUE | heureuNON | heureuOUI | sexeF | sexeH | enfantsNon | enfantsOui |\n",
       "|---|---|---|---|---|---|---|---|---|---|---|---|---|---|---|---|---|---|---|---|---|---|\n",
       "| 60 | 2019         | B            | TB           | CPS          | 2.0          | 2            | CDI          | [10;249]     | 32000        | Autre_ville  | ...          | 0            | 0            | 0            | 0            | 0            | 1            | 0            | 1            | 1            | 0            |\n",
       "| 61 | 2019         | AB           | AB           | CPS          | 2.0          | 1            | CDI          | [10;249]     | 40000        | Capital      | ...          | 1            | 0            | 0            | 0            | 0            | 1            | 0            | 1            | 1            | 0            |\n",
       "| 62 | 2013         | B            | Sans         | Licence      | 7.0          | 2            | CDI          | [5000;+]     | 40000        | Capital      | ...          | 1            | 0            | 0            | 0            | 0            | 1            | 1            | 0            | 1            | 0            |\n",
       "| 63 | 2019         | B            | TB           | CPS          | 1.0          | 1            | CDI          | [5000;+]     | 33000        | Grande_ville | ...          | 0            | 1            | 0            | 0            | 0            | 1            | 1            | 0            | 1            | 0            |\n",
       "| 64 | 2010         | B            | B            | CPS          | 3.5          | 4            | CDD          | [10;249]     | 34560        | Capital      | ...          | 1            | 0            | 0            | 0            | 0            | 1            | 1            | 0            | 1            | 0            |\n",
       "| 65 | 2016         | B            | Sans         | Licence      | 3.0          | 2            | CDI          | [0;10]       | 32500        | Grande_ville | ...          | 0            | 1            | 0            | 0            | 0            | 1            | 0            | 1            | 0            | 1            |\n",
       "\n"
      ],
      "text/plain": [
       "   promo ecole bac  etudes  exp chang contrat employers salaire lieu        \n",
       "60 2019  B     TB   CPS     2.0 2     CDI     [10;249]  32000   Autre_ville \n",
       "61 2019  AB    AB   CPS     2.0 1     CDI     [10;249]  40000   Capital     \n",
       "62 2013  B     Sans Licence 7.0 2     CDI     [5000;+]  40000   Capital     \n",
       "63 2019  B     TB   CPS     1.0 1     CDI     [5000;+]  33000   Grande_ville\n",
       "64 2010  B     B    CPS     3.5 4     CDD     [10;249]  34560   Capital     \n",
       "65 2016  B     Sans Licence 3.0 2     CDI     [0;10]    32500   Grande_ville\n",
       "   ... lieuCapital lieuGrande_ville lieuHors_UE lieuUE heureuNON heureuOUI\n",
       "60 ... 0           0                0           0      0         1        \n",
       "61 ... 1           0                0           0      0         1        \n",
       "62 ... 1           0                0           0      0         1        \n",
       "63 ... 0           1                0           0      0         1        \n",
       "64 ... 1           0                0           0      0         1        \n",
       "65 ... 0           1                0           0      0         1        \n",
       "   sexeF sexeH enfantsNon enfantsOui\n",
       "60 0     1     1          0         \n",
       "61 0     1     1          0         \n",
       "62 1     0     1          0         \n",
       "63 1     0     1          0         \n",
       "64 1     0     1          0         \n",
       "65 0     1     0          1         "
      ]
     },
     "metadata": {},
     "output_type": "display_data"
    }
   ],
   "source": [
    "categorie <- function(\n",
    "    data\n",
    "    , colonne\n",
    "    , exept\n",
    "    ) {\n",
    "        vectorNull <- as.numeric(rep(0, nrow(data)))\n",
    "        if (missing(exept)) {exept <- \"\"}\n",
    "        #print(data[colonne])\n",
    "        listeUnique <- distinct(data[,colonne])\n",
    "        #print(listeUnique)\n",
    "        dataNew <- data\n",
    "        for (index in seq(length(listeUnique))) {\n",
    "            dataNew <- cbind(\n",
    "                dataNew\n",
    "                , if (listeUnique[index] == exept) {vectorNull} else {\n",
    "                    as.numeric(replacElement(\n",
    "                        listeData = data[,colonne]\n",
    "                        , listeModif = vectorNull\n",
    "                        , element = listeUnique[index]\n",
    "                        , ramplace = 1\n",
    "                        ))\n",
    "                    }\n",
    "                )\n",
    "            colnames(dataNew)[length(dataNew)] <- paste( # modifier le nom de la colonne\n",
    "                names(data)[colonne]\n",
    "                , listeUnique[index]\n",
    "                , sep = \"\" # separation\n",
    "                )\n",
    "            }\n",
    "        return(dataNew)\n",
    "        }\n",
    "dataset4 <- categorie(data = dataset3, colonne = 2)#, exept = \"AB\")\n",
    "#regression(affiche = TRUE, data = dataset2, element = c(2))\n",
    "#regression(affiche = TRUE, data = dataset3, element = c(17,18,19,20))\n",
    "for (index in indexChar[-1]) {\n",
    "    dataset4 <- categorie(data = dataset4, colonne = index)\n",
    "    }\n",
    "tail(dataset4)\n",
    "indexEcole <- c(20,21,22,23)\n",
    "indexBac <- c(24,25,26,27)\n",
    "indexEtudes <- c(28,29,30,31,32)\n",
    "indexContrat <- c(33,34)\n",
    "indexEmployers <- c(35,36,37,38)\n",
    "indexLieu <- c(39,40,41,42,43)\n",
    "indexHeureu <- c(44,45)\n",
    "indexSexe <- c(46,47)\n",
    "indexEnfants <- c(48,49)"
   ]
  },
  {
   "cell_type": "code",
   "execution_count": 19,
   "metadata": {
    "vscode": {
     "languageId": "r"
    }
   },
   "outputs": [
    {
     "name": "stdout",
     "output_type": "stream",
     "text": [
      "\n",
      "Call:\n",
      "lm(formula = data[, Y] ~ ., data = dataVariable)\n",
      "\n",
      "Residuals:\n",
      "   Min     1Q Median     3Q    Max \n",
      "-18070  -8026  -5070    824  68930 \n",
      "\n",
      "Coefficients:\n",
      "                       Estimate Std. Error t value Pr(>|t|)    \n",
      "(Intercept)             41493.2     4489.6   9.242 4.69e-12 ***\n",
      "data...element.1..B      -422.8     5348.8  -0.079    0.937    \n",
      "data...element.1..Sans   -493.2    10368.3  -0.048    0.962    \n",
      "data...element.1..TB    -4493.2    10368.3  -0.433    0.667    \n",
      "---\n",
      "Signif. codes:  0 '***' 0.001 '**' 0.01 '*' 0.05 '.' 0.1 ' ' 1\n",
      "\n",
      "Residual standard error: 16190 on 46 degrees of freedom\n",
      "  (10 observations deleted due to missingness)\n",
      "Multiple R-squared:  0.00422,\tAdjusted R-squared:  -0.06072 \n",
      "F-statistic: 0.06498 on 3 and 46 DF,  p-value: 0.9781\n",
      "\n"
     ]
    },
    {
     "data": {
      "text/html": [
       "<ol class=list-inline>\n",
       "\t<li>'1126.4846168112'</li>\n",
       "\t<li>'0.97813059622011'</li>\n",
       "\t<li>'Y= 41493 +X_{ data...element.1..B }* -422 +X_{ data...element.1..Sans }* -493 +X_{ data...element.1..TB }* -4493'</li>\n",
       "</ol>\n"
      ],
      "text/latex": [
       "\\begin{enumerate*}\n",
       "\\item '1126.4846168112'\n",
       "\\item '0.97813059622011'\n",
       "\\item 'Y= 41493 +X\\_\\{ data...element.1..B \\}* -422 +X\\_\\{ data...element.1..Sans \\}* -493 +X\\_\\{ data...element.1..TB \\}* -4493'\n",
       "\\end{enumerate*}\n"
      ],
      "text/markdown": [
       "1. '1126.4846168112'\n",
       "2. '0.97813059622011'\n",
       "3. 'Y= 41493 +X_{ data...element.1..B }* -422 +X_{ data...element.1..Sans }* -493 +X_{ data...element.1..TB }* -4493'\n",
       "\n",
       "\n"
      ],
      "text/plain": [
       "[1] \"1126.4846168112\"                                                                                                 \n",
       "[2] \"0.97813059622011\"                                                                                                \n",
       "[3] \"Y= 41493 +X_{ data...element.1..B }* -422 +X_{ data...element.1..Sans }* -493 +X_{ data...element.1..TB }* -4493\""
      ]
     },
     "metadata": {},
     "output_type": "display_data"
    },
    {
     "name": "stdout",
     "output_type": "stream",
     "text": [
      "\n",
      "Call:\n",
      "lm(formula = data[, Y] ~ ., data = dataVariable)\n",
      "\n",
      "Residuals:\n",
      "   Min     1Q Median     3Q    Max \n",
      "-19375  -6427  -3166   1296  67483 \n",
      "\n",
      "Coefficients:\n",
      "                   Estimate Std. Error t value Pr(>|t|)    \n",
      "(Intercept)         48939.2    12800.0   3.823 0.000379 ***\n",
      "data...element.1..  -3199.7     4772.7  -0.670 0.505807    \n",
      "ecoleSans            -565.2     9039.5  -0.063 0.950403    \n",
      "ecoleTB             -3150.7     9113.6  -0.346 0.731067    \n",
      "bacAB                 998.9     4668.0   0.214 0.831456    \n",
      "---\n",
      "Signif. codes:  0 '***' 0.001 '**' 0.01 '*' 0.05 '.' 0.1 ' ' 1\n",
      "\n",
      "Residual standard error: 15090 on 48 degrees of freedom\n",
      "  (7 observations deleted due to missingness)\n",
      "Multiple R-squared:  0.01445,\tAdjusted R-squared:  -0.06768 \n",
      "F-statistic: 0.1759 on 4 and 48 DF,  p-value: 0.9497\n",
      "\n"
     ]
    },
    {
     "data": {
      "text/html": [
       "<ol class=list-inline>\n",
       "\t<li>'1188.92143631511'</li>\n",
       "\t<li>'0.94971283050247'</li>\n",
       "\t<li>'Y= 48939 +X_{ data...element.1.. }* -3199 +X_{ ecoleSans }* -565 +X_{ ecoleTB }* -3150 +X_{ bacAB }* 998'</li>\n",
       "</ol>\n"
      ],
      "text/latex": [
       "\\begin{enumerate*}\n",
       "\\item '1188.92143631511'\n",
       "\\item '0.94971283050247'\n",
       "\\item 'Y= 48939 +X\\_\\{ data...element.1.. \\}* -3199 +X\\_\\{ ecoleSans \\}* -565 +X\\_\\{ ecoleTB \\}* -3150 +X\\_\\{ bacAB \\}* 998'\n",
       "\\end{enumerate*}\n"
      ],
      "text/markdown": [
       "1. '1188.92143631511'\n",
       "2. '0.94971283050247'\n",
       "3. 'Y= 48939 +X_{ data...element.1.. }* -3199 +X_{ ecoleSans }* -565 +X_{ ecoleTB }* -3150 +X_{ bacAB }* 998'\n",
       "\n",
       "\n"
      ],
      "text/plain": [
       "[1] \"1188.92143631511\"                                                                                        \n",
       "[2] \"0.94971283050247\"                                                                                        \n",
       "[3] \"Y= 48939 +X_{ data...element.1.. }* -3199 +X_{ ecoleSans }* -565 +X_{ ecoleTB }* -3150 +X_{ bacAB }* 998\""
      ]
     },
     "metadata": {},
     "output_type": "display_data"
    }
   ],
   "source": [
    "regression(affiche = TRUE, data = dataset4, element = c(2))\n",
    "#regression(affiche = TRUE, data = dataset4, element = c(21,22,23,24))\n",
    "regression(affiche = TRUE, data = dataset4, element = c(17,22,23,24))#,21\n",
    "#regression(affiche = TRUE, data = dataset4, element = c(21,22,24))#,23"
   ]
  },
  {
   "cell_type": "code",
   "execution_count": 20,
   "metadata": {
    "vscode": {
     "languageId": "r"
    }
   },
   "outputs": [
    {
     "name": "stdout",
     "output_type": "stream",
     "text": [
      "\n",
      "Call:\n",
      "lm(formula = data[, Y] ~ ., data = dataVariable)\n",
      "\n",
      "Residuals:\n",
      "   Min     1Q Median     3Q    Max \n",
      "-17414  -7415  -4165   1836  69586 \n",
      "\n",
      "Coefficients:\n",
      "                   Estimate Std. Error t value Pr(>|t|)    \n",
      "(Intercept)         40800.9     4053.1  10.067  4.4e-14 ***\n",
      "data...element.1..  -4800.9    15697.5  -0.306    0.761    \n",
      "etudesDUT            1116.3     6110.2   0.183    0.856    \n",
      "etudesCPL            -884.2     7399.9  -0.119    0.905    \n",
      "etudesCPS            -387.1     4964.0  -0.078    0.938    \n",
      "---\n",
      "Signif. codes:  0 '***' 0.001 '**' 0.01 '*' 0.05 '.' 0.1 ' ' 1\n",
      "\n",
      "Residual standard error: 15170 on 55 degrees of freedom\n",
      "Multiple R-squared:  0.003497,\tAdjusted R-squared:  -0.06898 \n",
      "F-statistic: 0.04826 on 4 and 55 DF,  p-value: 0.9955\n",
      "\n"
     ]
    },
    {
     "data": {
      "text/html": [
       "<ol class=list-inline>\n",
       "\t<li>'1344.8291278521'</li>\n",
       "\t<li>'0.995493617545571'</li>\n",
       "\t<li>'Y= 40800 +X_{ data...element.1.. }* -4800 +X_{ etudesDUT }* 1116 +X_{ etudesCPL }* -884 +X_{ etudesCPS }* -387'</li>\n",
       "</ol>\n"
      ],
      "text/latex": [
       "\\begin{enumerate*}\n",
       "\\item '1344.8291278521'\n",
       "\\item '0.995493617545571'\n",
       "\\item 'Y= 40800 +X\\_\\{ data...element.1.. \\}* -4800 +X\\_\\{ etudesDUT \\}* 1116 +X\\_\\{ etudesCPL \\}* -884 +X\\_\\{ etudesCPS \\}* -387'\n",
       "\\end{enumerate*}\n"
      ],
      "text/markdown": [
       "1. '1344.8291278521'\n",
       "2. '0.995493617545571'\n",
       "3. 'Y= 40800 +X_{ data...element.1.. }* -4800 +X_{ etudesDUT }* 1116 +X_{ etudesCPL }* -884 +X_{ etudesCPS }* -387'\n",
       "\n",
       "\n"
      ],
      "text/plain": [
       "[1] \"1344.8291278521\"                                                                                               \n",
       "[2] \"0.995493617545571\"                                                                                             \n",
       "[3] \"Y= 40800 +X_{ data...element.1.. }* -4800 +X_{ etudesDUT }* 1116 +X_{ etudesCPL }* -884 +X_{ etudesCPS }* -387\""
      ]
     },
     "metadata": {},
     "output_type": "display_data"
    }
   ],
   "source": [
    "choix <- c('lieuGrande_ville','lieuCapital','lieuUE','lieuHors_UE') #'lieuAutre_ville', | coefficient \"croissant\" | p-value=0% & R²=60% & BIC=1289\n",
    "choix <- c('contratCDI') #'contratCDD', | coefficient positive | p-value=0% & R²=15% & BIC=1322\n",
    "choix <- c('promo/exp') # coefficient negative | p-value=0% & R²=14% & BIC=1323\n",
    "choix <- c('age') # coefficient positive | p-value=5% & R²=6% & BIC=1328\n",
    "choix <- c('enfantsOui') #'enfantsNon', | coefficient positive | p-value=10% & R²=4% & BIC=1329\n",
    "choix <- c('heureuOUI') #'heureuNON', | coefficient positive | p-value=43% & R²=1% & BIC=1332\n",
    "choix <- c('exp/chang') # coefficient negative | p-value=44% & R²=7% & BIC=1328\n",
    "choix <- c('employers[10;249]','employers[250;4999]','employers[5000;+]') #'employers[0;10]', | coefficient croissant | p-value=44% & R²=5% & BIC=1338\n",
    "choix <- c('sexeF') #,'sexeH' | coefficient positive | p-value=44% & R²=1% & BIC=1332\n",
    "choix <- c('taille/poids') # coefficient negative | p-value=47% & R²=1% & BIC=1177\n",
    "choix <- c('bacAB','bacB','bacTB') #,'bacSans' | coefficient ... | p-value=78% & R²=2% & BIC=1339\n",
    "choix <- c('ecoleAB','ecoleB','ecoleTB') #,'ecoleSans' | coefficient ... | p-value=96% & R²=0% & BIC=1340\n",
    "choix <- c('etudesBTS','etudesDUT','etudesCPL','etudesCPS') #,'etudesLicence' | coefficient ... | p-value=100% & R²=0% & BIC=1344\n",
    "regression(affiche = TRUE, data = dataset4, element = choix)"
   ]
  },
  {
   "cell_type": "markdown",
   "metadata": {},
   "source": [
    "Quelques remarques sur les coefficients des régressions :\n",
    "\n",
    "1. **Année de promotion** : diminue avec le temps, alors la valeur de la monnaie augmente de 2 % par an. Rappelons que l'effectif entre 2010 et 2013 est faible.\n",
    "2. **mention à l'école** : les ***coefficients sont incohérents*** (une personne avec la mention très bien serait moins bien payé qu'une personne sans mention) car ils ne sont pas assez nombreux pour représenter cette catégorie.\n",
    "2. **Mention au bac** : les ***coefficients sont incohérents***.\n",
    "3. **Étude supérieure** : les ***coefficients sont incohérents***.\n",
    "4. **Lieu de travail** : un ingénieur serait mieux payé dans des petites et moyennes villes que dans des grandes villes de France. Rappelons que cette variable est corrélée avec la **taille de l'entreprise**.\n",
    "5. **Contrat** : on peut être embauché en CDD pour des ***missions spécifiques*** et être embauché plus cher.\n",
    "6. **taille/poids** : on peut se demander si ce n'est pas cette proportion qui est prise de façon subjective.\n",
    "7. **Année de promotion** : lien négatif qui peut s'expliquer par le nombre d'années ***d'expérience***.\n",
    "8. **promo/exp** : plus on sort taux plus on a le temps d'avoir de l'expérience."
   ]
  },
  {
   "cell_type": "markdown",
   "metadata": {},
   "source": [
    "### Comparaison"
   ]
  },
  {
   "cell_type": "markdown",
   "metadata": {},
   "source": [
    "**Aplication d'un cas particulier** :  \n",
    "Soit un jeunne ingegnieur cognicient, homme de corpulence moyenne de 25ans qui à optenu sont duplomme en 2020 avec 1an d'experience et sans enfant,\n",
    "heureux dans une entreprise entre 10 et 249 employers se situant dans une grande ville qui là embaucher en CDI."
   ]
  },
  {
   "cell_type": "code",
   "execution_count": 21,
   "metadata": {
    "vscode": {
     "languageId": "r"
    }
   },
   "outputs": [
    {
     "name": "stdout",
     "output_type": "stream",
     "text": [
      "\n",
      "Call:\n",
      "lm(formula = data[, Y] ~ ., data = dataVariable)\n",
      "\n",
      "Residuals:\n",
      "   Min     1Q Median     3Q    Max \n",
      " -9818  -3220      0   2192   9818 \n",
      "\n",
      "Coefficients:\n",
      "                      Estimate Std. Error t value Pr(>|t|)    \n",
      "(Intercept)             5803.1    11487.3   0.505  0.61643    \n",
      "data...element.1..     -2279.3     1931.3  -1.180  0.24545    \n",
      "lieuCapital             4488.1     2242.9   2.001  0.05276 .  \n",
      "lieuUE                 36360.3     6277.2   5.792 1.20e-06 ***\n",
      "lieuHors_UE            60810.0     4618.2  13.167 1.55e-15 ***\n",
      "contratCDI              7853.5     2285.4   3.436  0.00147 ** \n",
      "`exp/promo`             3294.7     5050.9   0.652  0.51824    \n",
      "age                      950.8      312.3   3.044  0.00428 ** \n",
      "enfantsOui              5160.4     2816.9   1.832  0.07502 .  \n",
      "heureuOUI               -108.7     3808.2  -0.029  0.97739    \n",
      "`exp/chang`             -621.9      548.1  -1.135  0.26383    \n",
      "`employers[10;249]`     4461.3     3271.3   1.364  0.18088    \n",
      "`employers[250;4999]`   3228.8     3533.8   0.914  0.36679    \n",
      "`employers[5000;+]`     4137.2     3222.9   1.284  0.20723    \n",
      "sexeF                   2168.2     2082.3   1.041  0.30452    \n",
      "`taille/poids`         -3018.4     2358.6  -1.280  0.20859    \n",
      "---\n",
      "Signif. codes:  0 '***' 0.001 '**' 0.01 '*' 0.05 '.' 0.1 ' ' 1\n",
      "\n",
      "Residual standard error: 5247 on 37 degrees of freedom\n",
      "  (7 observations deleted due to missingness)\n",
      "Multiple R-squared:  0.9082,\tAdjusted R-squared:  0.871 \n",
      "F-statistic: 24.41 on 15 and 37 DF,  p-value: 1.07e-14\n",
      "\n"
     ]
    },
    {
     "name": "stderr",
     "output_type": "stream",
     "text": [
      "BIC :  1106.78067882468\n",
      "\n",
      "Polynome :  Y= 5803 +X_{ data...element.1.. }* -2279 +X_{ lieuCapital }* 4488 +X_{ lieuUE }* 36360 +X_{ lieuHors_UE }* 60810 +X_{ contratCDI }* 7853 +X_{ `exp/promo` }* 3294 +X_{ age }* 950 +X_{ enfantsOui }* 5160 +X_{ heureuOUI }* -108 +X_{ `exp/chang` }* -621 +X_{ `employers[10;249]` }* 4461 +X_{ `employers[250;4999]` }* 3228 +X_{ `employers[5000;+]` }* 4137 +X_{ sexeF }* 2168 +X_{ `taille/poids` }* -3018\n",
      "\n",
      "Resultat cas particulier :  34927.3430360296\n",
      "\n",
      "corpulence moyenne :  2.60455970596832\n",
      "\n"
     ]
    }
   ],
   "source": [
    "choix <- c() #\n",
    "choix <- c(choix,'lieuGrande_ville','lieuCapital','lieuUE','lieuHors_UE') #'lieuAutre_ville',\n",
    "choix <- c(choix,'contratCDI') #'contratCDD',\n",
    "choix <- c(choix,'exp/promo')\n",
    "choix <- c(choix,'age')\n",
    "choix <- c(choix,'enfantsOui') #'enfantsNon',\n",
    "choix <- c(choix,'heureuOUI') #'heureuNON',\n",
    "choix <- c(choix,'exp/chang')\n",
    "choix <- c(choix,'employers[10;249]','employers[250;4999]','employers[5000;+]') #'employers[0;10]',\n",
    "choix <- c(choix,'sexeF') #,'sexeH'\n",
    "choix <- c(choix,'taille/poids')\n",
    "result1 <- regression(affiche = TRUE, data = dataset4, element = choix) # coefficient ... | p-value=0% & Adjusted_R²=86% & BIC=1107\n",
    "message(paste('BIC : ', result1[1]))\n",
    "message(paste('Polynome : ', result1[3]))\n",
    "cas1 <- 5803.14303602956 -2279 +7853 +3294 +25* 950 +-108 +4461+2.6* -3018\n",
    "message(paste('Resultat cas particulier : ', cas1))\n",
    "message(paste('corpulence moyenne : ',mean(dataset4[,'taille/poids'],na.rm = TRUE)))"
   ]
  },
  {
   "cell_type": "markdown",
   "metadata": {},
   "source": [
    "Seules les variables `age`,  `contrat` et `enfantOUI` gardent leur p-value inférieure ou proche de 5 %."
   ]
  },
  {
   "cell_type": "code",
   "execution_count": 24,
   "metadata": {
    "vscode": {
     "languageId": "r"
    }
   },
   "outputs": [
    {
     "data": {
      "text/html": [
       "<table>\n",
       "<thead><tr><th></th><th scope=col>index</th><th scope=col>nam</th><th scope=col>BIC</th><th scope=col>Pvalue</th><th scope=col>prod</th><th scope=col>ordreBIC</th><th scope=col>ordrePvalue</th><th scope=col>ordreProd</th><th scope=col>prodOrdre</th></tr></thead>\n",
       "<tbody>\n",
       "\t<tr><th scope=row>4</th><td>13          </td><td>enfants     </td><td>1085.664    </td><td>4.060838e-19</td><td>4.408707e-16</td><td>1           </td><td>1           </td><td>1           </td><td> 1          </td></tr>\n",
       "\t<tr><th scope=row>3</th><td>12          </td><td>sexe        </td><td>1086.587    </td><td>5.920543e-19</td><td>6.433183e-16</td><td>2           </td><td>2           </td><td>2           </td><td> 4          </td></tr>\n",
       "\t<tr><th scope=row>5</th><td>18          </td><td>exp/promo   </td><td>1087.649    </td><td>9.137364e-19</td><td>9.938242e-16</td><td>3           </td><td>3           </td><td>3           </td><td> 9          </td></tr>\n",
       "\t<tr><th scope=row>2</th><td>11          </td><td>heureu      </td><td>1088.059    </td><td>1.080345e-18</td><td>1.175478e-15</td><td>4           </td><td>4           </td><td>4           </td><td>16          </td></tr>\n",
       "\t<tr><th scope=row>6</th><td>19          </td><td>exp/chang   </td><td>1088.066    </td><td>1.083747e-18</td><td>1.179189e-15</td><td>5           </td><td>5           </td><td>5           </td><td>25          </td></tr>\n",
       "\t<tr><th scope=row>1</th><td> 8          </td><td>employers   </td><td>1093.620    </td><td>1.945405e-17</td><td>2.127534e-14</td><td>6           </td><td>6           </td><td>6           </td><td>36          </td></tr>\n",
       "</tbody>\n",
       "</table>\n"
      ],
      "text/latex": [
       "\\begin{tabular}{r|lllllllll}\n",
       "  & index & nam & BIC & Pvalue & prod & ordreBIC & ordrePvalue & ordreProd & prodOrdre\\\\\n",
       "\\hline\n",
       "\t4 & 13           & enfants      & 1085.664     & 4.060838e-19 & 4.408707e-16 & 1            & 1            & 1            &  1          \\\\\n",
       "\t3 & 12           & sexe         & 1086.587     & 5.920543e-19 & 6.433183e-16 & 2            & 2            & 2            &  4          \\\\\n",
       "\t5 & 18           & exp/promo    & 1087.649     & 9.137364e-19 & 9.938242e-16 & 3            & 3            & 3            &  9          \\\\\n",
       "\t2 & 11           & heureu       & 1088.059     & 1.080345e-18 & 1.175478e-15 & 4            & 4            & 4            & 16          \\\\\n",
       "\t6 & 19           & exp/chang    & 1088.066     & 1.083747e-18 & 1.179189e-15 & 5            & 5            & 5            & 25          \\\\\n",
       "\t1 &  8           & employers    & 1093.620     & 1.945405e-17 & 2.127534e-14 & 6            & 6            & 6            & 36          \\\\\n",
       "\\end{tabular}\n"
      ],
      "text/markdown": [
       "\n",
       "| <!--/--> | index | nam | BIC | Pvalue | prod | ordreBIC | ordrePvalue | ordreProd | prodOrdre |\n",
       "|---|---|---|---|---|---|---|---|---|---|\n",
       "| 4 | 13           | enfants      | 1085.664     | 4.060838e-19 | 4.408707e-16 | 1            | 1            | 1            |  1           |\n",
       "| 3 | 12           | sexe         | 1086.587     | 5.920543e-19 | 6.433183e-16 | 2            | 2            | 2            |  4           |\n",
       "| 5 | 18           | exp/promo    | 1087.649     | 9.137364e-19 | 9.938242e-16 | 3            | 3            | 3            |  9           |\n",
       "| 2 | 11           | heureu       | 1088.059     | 1.080345e-18 | 1.175478e-15 | 4            | 4            | 4            | 16           |\n",
       "| 6 | 19           | exp/chang    | 1088.066     | 1.083747e-18 | 1.179189e-15 | 5            | 5            | 5            | 25           |\n",
       "| 1 |  8           | employers    | 1093.620     | 1.945405e-17 | 2.127534e-14 | 6            | 6            | 6            | 36           |\n",
       "\n"
      ],
      "text/plain": [
       "  index nam       BIC      Pvalue       prod         ordreBIC ordrePvalue\n",
       "4 13    enfants   1085.664 4.060838e-19 4.408707e-16 1        1          \n",
       "3 12    sexe      1086.587 5.920543e-19 6.433183e-16 2        2          \n",
       "5 18    exp/promo 1087.649 9.137364e-19 9.938242e-16 3        3          \n",
       "2 11    heureu    1088.059 1.080345e-18 1.175478e-15 4        4          \n",
       "6 19    exp/chang 1088.066 1.083747e-18 1.179189e-15 5        5          \n",
       "1  8    employers 1093.620 1.945405e-17 2.127534e-14 6        6          \n",
       "  ordreProd prodOrdre\n",
       "4 1          1       \n",
       "3 2          4       \n",
       "5 3          9       \n",
       "2 4         16       \n",
       "6 5         25       \n",
       "1 6         36       "
      ]
     },
     "metadata": {},
     "output_type": "display_data"
    },
    {
     "name": "stdout",
     "output_type": "stream",
     "text": [
      "\n",
      "Call:\n",
      "lm(formula = data[, Y] ~ ., data = dataVariable)\n",
      "\n",
      "Residuals:\n",
      "     Min       1Q   Median       3Q      Max \n",
      "-11947.4  -2598.9   -161.6   2076.7  13175.6 \n",
      "\n",
      "Coefficients:\n",
      "                   Estimate Std. Error t value Pr(>|t|)    \n",
      "(Intercept)         12842.0     8477.3   1.515  0.13680    \n",
      "data...element.1..  -2260.4     1763.2  -1.282  0.20642    \n",
      "lieuCapital          5463.0     1989.5   2.746  0.00864 ** \n",
      "lieuUE              31880.4     5459.7   5.839 5.41e-07 ***\n",
      "lieuHors_UE         59871.5     3949.7  15.159  < 2e-16 ***\n",
      "`taille/poids`      -4677.8     1677.2  -2.789  0.00772 ** \n",
      "age                  1098.3      246.1   4.463 5.36e-05 ***\n",
      "contratCDI           8089.5     1895.2   4.269  0.00010 ***\n",
      "---\n",
      "Signif. codes:  0 '***' 0.001 '**' 0.01 '*' 0.05 '.' 0.1 ' ' 1\n",
      "\n",
      "Residual standard error: 5185 on 45 degrees of freedom\n",
      "  (7 observations deleted due to missingness)\n",
      "Multiple R-squared:  0.891,\tAdjusted R-squared:  0.874 \n",
      "F-statistic: 52.54 on 7 and 45 DF,  p-value: < 2.2e-16\n",
      "\n"
     ]
    },
    {
     "name": "stderr",
     "output_type": "stream",
     "text": [
      "BIC :  1084.14658327282\n",
      "\n",
      "Polynome :  Y= 12841 +X_{ data...element.1.. }* -2260 +X_{ lieuCapital }* 5463 +X_{ lieuUE }* 31880 +X_{ lieuHors_UE }* 59871 +X_{ `taille/poids` }* -4677 +X_{ age }* 1098 +X_{ contratCDI }* 8089\n",
      "\n",
      "Resultat cas particulier :  93830.8\n",
      "\n",
      "Diference des cas :  58903.4569639704\n",
      "\n",
      "Diference des BIC :  -22.6340955518601\n",
      "\n"
     ]
    }
   ],
   "source": [
    "nonSelect <- c('exp','chang','taille','poids','ecole','bac','etudes','promo')\n",
    "choix <- c() #\n",
    "choix <- c(choix,'lieu') # p-vale=0% & BIC=1289\n",
    "choix <- c(choix,'taille/poids') # p-vale=0% & BIC=1111\n",
    "choix <- c(choix,'age') # p-vale=0% & BIC=1098\n",
    "choix <- c(choix,'contrat') # p-vale=0% & BIC=1084\n",
    "result <- afficheRegression(data = dataset3, colonnes = choix, eliminer = nonSelect)\n",
    "result[order(result$Pvalue),]\n",
    "choix <- c() #\n",
    "choix <- c(choix,'lieuGrande_ville','lieuCapital','lieuUE','lieuHors_UE') # p-vale=0% & BIC=1289\n",
    "choix <- c(choix,'taille/poids') # p-vale=0% & BIC=1111\n",
    "choix <- c(choix,'age') # p-vale=0% & BIC=1098\n",
    "choix <- c(choix,'contratCDI') # p-vale=0% & BIC=1084\n",
    "result2 <- regression(affiche = TRUE, data = dataset4, element = choix)\n",
    "message(paste('BIC : ', result2[1]))\n",
    "message(paste('Polynome : ', result2[3]))\n",
    "cas2 <- 12841 -2260+ 59871 +2.6* -4677 +25* 1098 +8089\n",
    "message(paste('Resultat cas particulier : ', cas2))\n",
    "message(paste('Diference des cas : ', cas2 - cas1))\n",
    "message(paste('Diference des BIC : ', as.numeric(result2[1]) - as.numeric(result1[1])))"
   ]
  },
  {
   "cell_type": "markdown",
   "metadata": {},
   "source": [
    "Nous utilisons ici la méthode ascendante avec le critère BIC en prenant à chaque fois la p-value la plus faible.  \n",
    "Les p-value des coefficients restent pour la plupart très faibles, mais on conjserve un ***BIC proche*** du précédent."
   ]
  },
  {
   "cell_type": "markdown",
   "metadata": {},
   "source": [
    "## Conclusion\n",
    "\n",
    "L'ensemble des données de base ont été ***nettoyées*** (*des erreurs sûrement dues à des problèmes de somnolence ou de bizutage*), pour obtenir un environnement de travail correct.  \n",
    "À partir de cette nouvelle table, nous avons réalisé des ***visualisations*** de chaque VE (variable explicative), qui permet de faire une première analyse de leur comportement dans lequel nous avons remarqué de possibles corrélations et des points extrêmes.  \n",
    "Avec cette phase de travail, nous avons procédé à des tests de ***corrélation*** entre les VE pour vérifier la véracité des remarques évoquées précédemment.  \n",
    "Ensuite, nous avons visualisé les différentes régressions simples pour faire une première sélection des VE et de ***comprendre*** leur comportement.\n",
    "Pour clore, nous déterminons les VE les plus ***pertinentes*** par une méthode conventionnelle.\n",
    "\n",
    "Depuis 2003, ENISC forme des ingénieurs en cognatique.\n",
    "Uniquement 65 personnes diplômées de 2010 à 2020 ont répondu au sondage.  \n",
    "En dépit de son ***échantillon faible***, elle doit être considérée comme représentative de cette population.  \n",
    "Comme l'a montré une autre étude, la population répondant le plus au sondage sont des statisticiens, imaginez donc quelle serait la proportion de réponse au sondage si ce n'était pas à ces personnes.\n",
    "\n",
    "Il faudrait vérifier s'il existe une véritable dépendance entre les variables `lieu` et `employers` dans une autre étude grâce à \"opendata.gouv\".  \n",
    "Il serait pertinent de comparer le polynôme trouvé avec un ingénieur, peu importe sa spécialité, afin de déterminer si ces ***critères sont inhérents*** à ce secteur."
   ]
  }
 ],
 "metadata": {
  "kernelspec": {
   "display_name": "R",
   "language": "R",
   "name": "ir"
  },
  "language_info": {
   "codemirror_mode": "r",
   "file_extension": ".r",
   "mimetype": "text/x-r-source",
   "name": "R",
   "pygments_lexer": "r",
   "version": "3.6.1"
  }
 },
 "nbformat": 4,
 "nbformat_minor": 4
}
